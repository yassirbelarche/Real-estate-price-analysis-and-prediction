{
  "cells": [
    {
      "cell_type": "markdown",
      "metadata": {
        "id": "foK37aSj3qZv"
      },
      "source": [
        "# Analyse et prédiction des prix de biens immobiliers\n",
        "\n",
        "Étude d'un jeu de données comportant des informations immobilières provenant du site seloger.com. \n",
        "\n",
        "Dans un premier temps, nous nous proposons de faire une étude exploratoire pour se familiariser avec la donnée et comprendre comment les variables se comportent. Cette étape permettra egalement de débusquer d'eventuelles anomalies et de nettoyer la donnée si nécessaire.\n",
        "\n",
        "Dans un second temps, nous nous attacherons à l'explicabilité des données, c'est à dire répondre à la question \"Quelles sont les variables les plus importantes pour expliquer le prix d'un bien ?\"\n",
        "\n",
        "Finalement, nous entrainerons des modèles de Machine Learning sur des données d'entrainement et nous prédirons sur des données de test afin d'évaluer les performances du modèles. "
      ]
    },
    {
      "cell_type": "code",
      "execution_count": null,
      "metadata": {
        "id": "c_Z54eYr3qZy"
      },
      "outputs": [],
      "source": [
        "# Import des librairies \n",
        "\n",
        "import pandas as pd\n",
        "import seaborn as sns \n",
        "import numpy as np\n",
        "import matplotlib.pyplot as plt\n",
        "\n",
        "pd.set_option('display.max_columns', 25)"
      ]
    },
    {
      "cell_type": "code",
      "execution_count": null,
      "metadata": {
        "id": "YS3GjqyR3qZz"
      },
      "outputs": [],
      "source": [
        "file_path = 'selogerdata.csv'\n",
        "dataset = pd.read_csv(file_path)"
      ]
    },
    {
      "cell_type": "markdown",
      "metadata": {
        "id": "gRxo8lLh3qZ0"
      },
      "source": [
        "# Analyse exploratoire des données"
      ]
    },
    {
      "cell_type": "code",
      "execution_count": null,
      "metadata": {
        "colab": {
          "base_uri": "https://localhost:8080/"
        },
        "id": "Ac_ChFaS3qZ0",
        "outputId": "517fbbf1-3a15-4aa9-cac4-69e9430c8206"
      },
      "outputs": [
        {
          "data": {
            "text/plain": [
              "(8899, 24)"
            ]
          },
          "execution_count": 241,
          "metadata": {},
          "output_type": "execute_result"
        }
      ],
      "source": [
        "dataset.shape"
      ]
    },
    {
      "cell_type": "markdown",
      "metadata": {
        "id": "BJgED5ev3qZ1"
      },
      "source": [
        "Le jeu de données contient 8899 lignes et 24 colonnes."
      ]
    },
    {
      "cell_type": "code",
      "execution_count": null,
      "metadata": {
        "colab": {
          "base_uri": "https://localhost:8080/",
          "height": 357
        },
        "id": "U4CTkbn93qZ1",
        "outputId": "1633e155-feb4-4f48-9fd3-c0976fdbdc41"
      },
      "outputs": [
        {
          "data": {
            "text/html": [
              "\n",
              "  <div id=\"df-0ca9ce3f-1e4b-4c49-8f21-8dc2ad85ca9b\">\n",
              "    <div class=\"colab-df-container\">\n",
              "      <div>\n",
              "<style scoped>\n",
              "    .dataframe tbody tr th:only-of-type {\n",
              "        vertical-align: middle;\n",
              "    }\n",
              "\n",
              "    .dataframe tbody tr th {\n",
              "        vertical-align: top;\n",
              "    }\n",
              "\n",
              "    .dataframe thead th {\n",
              "        text-align: right;\n",
              "    }\n",
              "</style>\n",
              "<table border=\"1\" class=\"dataframe\">\n",
              "  <thead>\n",
              "    <tr style=\"text-align: right;\">\n",
              "      <th></th>\n",
              "      <th>number</th>\n",
              "      <th>codeinsee</th>\n",
              "      <th>codepostal</th>\n",
              "      <th>cp</th>\n",
              "      <th>etage</th>\n",
              "      <th>idagence</th>\n",
              "      <th>idannonce</th>\n",
              "      <th>idtiers</th>\n",
              "      <th>idtypechauffage</th>\n",
              "      <th>idtypecommerce</th>\n",
              "      <th>idtypecuisine</th>\n",
              "      <th>idtypepublicationsourcecouplage</th>\n",
              "      <th>naturebien</th>\n",
              "      <th>nb_chambres</th>\n",
              "      <th>nb_photos</th>\n",
              "      <th>nb_pieces</th>\n",
              "      <th>position</th>\n",
              "      <th>prix</th>\n",
              "      <th>si_balcon</th>\n",
              "      <th>si_sdEau</th>\n",
              "      <th>si_sdbain</th>\n",
              "      <th>surface</th>\n",
              "      <th>typedebien</th>\n",
              "      <th>ville</th>\n",
              "    </tr>\n",
              "  </thead>\n",
              "  <tbody>\n",
              "    <tr>\n",
              "      <th>0</th>\n",
              "      <td>11</td>\n",
              "      <td>750116</td>\n",
              "      <td>75016</td>\n",
              "      <td>75016</td>\n",
              "      <td>0</td>\n",
              "      <td>178817</td>\n",
              "      <td>144013899</td>\n",
              "      <td>227883</td>\n",
              "      <td>0</td>\n",
              "      <td>0</td>\n",
              "      <td>√©quip√©e</td>\n",
              "      <td>SL</td>\n",
              "      <td>1</td>\n",
              "      <td>2</td>\n",
              "      <td>13</td>\n",
              "      <td>3</td>\n",
              "      <td>11</td>\n",
              "      <td>59000</td>\n",
              "      <td>1</td>\n",
              "      <td>0</td>\n",
              "      <td>0</td>\n",
              "      <td>69.00</td>\n",
              "      <td>Appartement</td>\n",
              "      <td>Paris 16√®me</td>\n",
              "    </tr>\n",
              "    <tr>\n",
              "      <th>1</th>\n",
              "      <td>8</td>\n",
              "      <td>750110</td>\n",
              "      <td>75010</td>\n",
              "      <td>75010</td>\n",
              "      <td>0</td>\n",
              "      <td>12089</td>\n",
              "      <td>149750677</td>\n",
              "      <td>3765</td>\n",
              "      <td>0</td>\n",
              "      <td>0</td>\n",
              "      <td>aucune</td>\n",
              "      <td>SL</td>\n",
              "      <td>1</td>\n",
              "      <td>2</td>\n",
              "      <td>7</td>\n",
              "      <td>1</td>\n",
              "      <td>8</td>\n",
              "      <td>77500</td>\n",
              "      <td>0</td>\n",
              "      <td>0</td>\n",
              "      <td>0</td>\n",
              "      <td>8.49</td>\n",
              "      <td>Appartement</td>\n",
              "      <td>Paris 10√®me</td>\n",
              "    </tr>\n",
              "    <tr>\n",
              "      <th>2</th>\n",
              "      <td>6</td>\n",
              "      <td>750118</td>\n",
              "      <td>75018</td>\n",
              "      <td>75018</td>\n",
              "      <td>0</td>\n",
              "      <td>115811</td>\n",
              "      <td>138648733</td>\n",
              "      <td>108873</td>\n",
              "      <td>0</td>\n",
              "      <td>0</td>\n",
              "      <td>aucune</td>\n",
              "      <td>SL</td>\n",
              "      <td>1</td>\n",
              "      <td>1</td>\n",
              "      <td>8</td>\n",
              "      <td>2</td>\n",
              "      <td>6</td>\n",
              "      <td>94000</td>\n",
              "      <td>0</td>\n",
              "      <td>0</td>\n",
              "      <td>0</td>\n",
              "      <td>37.00</td>\n",
              "      <td>Appartement</td>\n",
              "      <td>Paris 18√®me</td>\n",
              "    </tr>\n",
              "    <tr>\n",
              "      <th>3</th>\n",
              "      <td>16</td>\n",
              "      <td>750110</td>\n",
              "      <td>75010</td>\n",
              "      <td>75010</td>\n",
              "      <td>0</td>\n",
              "      <td>12089</td>\n",
              "      <td>149750679</td>\n",
              "      <td>3765</td>\n",
              "      <td>0</td>\n",
              "      <td>0</td>\n",
              "      <td>aucune</td>\n",
              "      <td>SL</td>\n",
              "      <td>1</td>\n",
              "      <td>2</td>\n",
              "      <td>4</td>\n",
              "      <td>1</td>\n",
              "      <td>16</td>\n",
              "      <td>96000</td>\n",
              "      <td>0</td>\n",
              "      <td>0</td>\n",
              "      <td>0</td>\n",
              "      <td>10.26</td>\n",
              "      <td>Appartement</td>\n",
              "      <td>Paris 10√®me</td>\n",
              "    </tr>\n",
              "    <tr>\n",
              "      <th>4</th>\n",
              "      <td>4</td>\n",
              "      <td>750116</td>\n",
              "      <td>75016</td>\n",
              "      <td>75016</td>\n",
              "      <td>0</td>\n",
              "      <td>97567</td>\n",
              "      <td>147153067</td>\n",
              "      <td>145098</td>\n",
              "      <td>0</td>\n",
              "      <td>0</td>\n",
              "      <td>0</td>\n",
              "      <td>SL</td>\n",
              "      <td>1</td>\n",
              "      <td>1</td>\n",
              "      <td>5</td>\n",
              "      <td>2</td>\n",
              "      <td>4</td>\n",
              "      <td>100000</td>\n",
              "      <td>0</td>\n",
              "      <td>0</td>\n",
              "      <td>0</td>\n",
              "      <td>14.93</td>\n",
              "      <td>Appartement</td>\n",
              "      <td>Paris 16√®me</td>\n",
              "    </tr>\n",
              "  </tbody>\n",
              "</table>\n",
              "</div>\n",
              "      <button class=\"colab-df-convert\" onclick=\"convertToInteractive('df-0ca9ce3f-1e4b-4c49-8f21-8dc2ad85ca9b')\"\n",
              "              title=\"Convert this dataframe to an interactive table.\"\n",
              "              style=\"display:none;\">\n",
              "        \n",
              "  <svg xmlns=\"http://www.w3.org/2000/svg\" height=\"24px\"viewBox=\"0 0 24 24\"\n",
              "       width=\"24px\">\n",
              "    <path d=\"M0 0h24v24H0V0z\" fill=\"none\"/>\n",
              "    <path d=\"M18.56 5.44l.94 2.06.94-2.06 2.06-.94-2.06-.94-.94-2.06-.94 2.06-2.06.94zm-11 1L8.5 8.5l.94-2.06 2.06-.94-2.06-.94L8.5 2.5l-.94 2.06-2.06.94zm10 10l.94 2.06.94-2.06 2.06-.94-2.06-.94-.94-2.06-.94 2.06-2.06.94z\"/><path d=\"M17.41 7.96l-1.37-1.37c-.4-.4-.92-.59-1.43-.59-.52 0-1.04.2-1.43.59L10.3 9.45l-7.72 7.72c-.78.78-.78 2.05 0 2.83L4 21.41c.39.39.9.59 1.41.59.51 0 1.02-.2 1.41-.59l7.78-7.78 2.81-2.81c.8-.78.8-2.07 0-2.86zM5.41 20L4 18.59l7.72-7.72 1.47 1.35L5.41 20z\"/>\n",
              "  </svg>\n",
              "      </button>\n",
              "      \n",
              "  <style>\n",
              "    .colab-df-container {\n",
              "      display:flex;\n",
              "      flex-wrap:wrap;\n",
              "      gap: 12px;\n",
              "    }\n",
              "\n",
              "    .colab-df-convert {\n",
              "      background-color: #E8F0FE;\n",
              "      border: none;\n",
              "      border-radius: 50%;\n",
              "      cursor: pointer;\n",
              "      display: none;\n",
              "      fill: #1967D2;\n",
              "      height: 32px;\n",
              "      padding: 0 0 0 0;\n",
              "      width: 32px;\n",
              "    }\n",
              "\n",
              "    .colab-df-convert:hover {\n",
              "      background-color: #E2EBFA;\n",
              "      box-shadow: 0px 1px 2px rgba(60, 64, 67, 0.3), 0px 1px 3px 1px rgba(60, 64, 67, 0.15);\n",
              "      fill: #174EA6;\n",
              "    }\n",
              "\n",
              "    [theme=dark] .colab-df-convert {\n",
              "      background-color: #3B4455;\n",
              "      fill: #D2E3FC;\n",
              "    }\n",
              "\n",
              "    [theme=dark] .colab-df-convert:hover {\n",
              "      background-color: #434B5C;\n",
              "      box-shadow: 0px 1px 3px 1px rgba(0, 0, 0, 0.15);\n",
              "      filter: drop-shadow(0px 1px 2px rgba(0, 0, 0, 0.3));\n",
              "      fill: #FFFFFF;\n",
              "    }\n",
              "  </style>\n",
              "\n",
              "      <script>\n",
              "        const buttonEl =\n",
              "          document.querySelector('#df-0ca9ce3f-1e4b-4c49-8f21-8dc2ad85ca9b button.colab-df-convert');\n",
              "        buttonEl.style.display =\n",
              "          google.colab.kernel.accessAllowed ? 'block' : 'none';\n",
              "\n",
              "        async function convertToInteractive(key) {\n",
              "          const element = document.querySelector('#df-0ca9ce3f-1e4b-4c49-8f21-8dc2ad85ca9b');\n",
              "          const dataTable =\n",
              "            await google.colab.kernel.invokeFunction('convertToInteractive',\n",
              "                                                     [key], {});\n",
              "          if (!dataTable) return;\n",
              "\n",
              "          const docLinkHtml = 'Like what you see? Visit the ' +\n",
              "            '<a target=\"_blank\" href=https://colab.research.google.com/notebooks/data_table.ipynb>data table notebook</a>'\n",
              "            + ' to learn more about interactive tables.';\n",
              "          element.innerHTML = '';\n",
              "          dataTable['output_type'] = 'display_data';\n",
              "          await google.colab.output.renderOutput(dataTable, element);\n",
              "          const docLink = document.createElement('div');\n",
              "          docLink.innerHTML = docLinkHtml;\n",
              "          element.appendChild(docLink);\n",
              "        }\n",
              "      </script>\n",
              "    </div>\n",
              "  </div>\n",
              "  "
            ],
            "text/plain": [
              "   number  codeinsee  codepostal     cp  etage  idagence  idannonce  idtiers  \\\n",
              "0      11     750116       75016  75016      0    178817  144013899   227883   \n",
              "1       8     750110       75010  75010      0     12089  149750677     3765   \n",
              "2       6     750118       75018  75018      0    115811  138648733   108873   \n",
              "3      16     750110       75010  75010      0     12089  149750679     3765   \n",
              "4       4     750116       75016  75016      0     97567  147153067   145098   \n",
              "\n",
              "   idtypechauffage  idtypecommerce idtypecuisine  \\\n",
              "0                0               0     √©quip√©e   \n",
              "1                0               0        aucune   \n",
              "2                0               0        aucune   \n",
              "3                0               0        aucune   \n",
              "4                0               0             0   \n",
              "\n",
              "  idtypepublicationsourcecouplage  naturebien  nb_chambres  nb_photos  \\\n",
              "0                              SL           1            2         13   \n",
              "1                              SL           1            2          7   \n",
              "2                              SL           1            1          8   \n",
              "3                              SL           1            2          4   \n",
              "4                              SL           1            1          5   \n",
              "\n",
              "   nb_pieces  position    prix  si_balcon  si_sdEau  si_sdbain  surface  \\\n",
              "0          3        11   59000          1         0          0    69.00   \n",
              "1          1         8   77500          0         0          0     8.49   \n",
              "2          2         6   94000          0         0          0    37.00   \n",
              "3          1        16   96000          0         0          0    10.26   \n",
              "4          2         4  100000          0         0          0    14.93   \n",
              "\n",
              "    typedebien         ville  \n",
              "0  Appartement  Paris 16√®me  \n",
              "1  Appartement  Paris 10√®me  \n",
              "2  Appartement  Paris 18√®me  \n",
              "3  Appartement  Paris 10√®me  \n",
              "4  Appartement  Paris 16√®me  "
            ]
          },
          "execution_count": 242,
          "metadata": {},
          "output_type": "execute_result"
        }
      ],
      "source": [
        "# Visualiser les 5 premières lignes du dataset\n",
        "dataset.head()"
      ]
    },
    {
      "cell_type": "markdown",
      "metadata": {
        "id": "Jb753nu03qZ1"
      },
      "source": [
        "On peut d'ores et déjà remarquer que les colonnes `idtypecyuisine` et `ville` doivent etre nettoyées"
      ]
    },
    {
      "cell_type": "code",
      "execution_count": null,
      "metadata": {
        "colab": {
          "base_uri": "https://localhost:8080/"
        },
        "id": "xMA8V28y3qZ1",
        "outputId": "ae7e4ebf-492f-4fa1-927f-685b1cc15fba"
      },
      "outputs": [
        {
          "data": {
            "text/plain": [
              "Index(['number', 'codeinsee', 'codepostal', 'cp', 'etage', 'idagence',\n",
              "       'idannonce', 'idtiers', 'idtypechauffage', 'idtypecommerce',\n",
              "       'idtypecuisine', 'idtypepublicationsourcecouplage', 'naturebien',\n",
              "       'nb_chambres', 'nb_photos', 'nb_pieces', 'position', 'prix',\n",
              "       'si_balcon', 'si_sdEau', 'si_sdbain', 'surface', 'typedebien', 'ville'],\n",
              "      dtype='object')"
            ]
          },
          "execution_count": 243,
          "metadata": {},
          "output_type": "execute_result"
        }
      ],
      "source": [
        "# Afficher le nom des colonnes du dataset\n",
        "dataset.columns"
      ]
    },
    {
      "cell_type": "markdown",
      "metadata": {
        "id": "QaHxkZYU3qZ1"
      },
      "source": [
        "Notre but est de prédire la variable `prix` à partir des autres variables.  Ces dernières ne sont sans doute pas toutes utiles. Il faudrait donc les analyser pour statuer sur leur pertinence."
      ]
    },
    {
      "cell_type": "code",
      "execution_count": null,
      "metadata": {
        "colab": {
          "base_uri": "https://localhost:8080/"
        },
        "id": "nNfi-of73qZ2",
        "outputId": "631ee294-266d-4277-930f-e449b15851e6"
      },
      "outputs": [
        {
          "name": "stdout",
          "output_type": "stream",
          "text": [
            "<class 'pandas.core.frame.DataFrame'>\n",
            "RangeIndex: 8899 entries, 0 to 8898\n",
            "Data columns (total 24 columns):\n",
            " #   Column                           Non-Null Count  Dtype  \n",
            "---  ------                           --------------  -----  \n",
            " 0   number                           8899 non-null   int64  \n",
            " 1   codeinsee                        8899 non-null   int64  \n",
            " 2   codepostal                       8899 non-null   int64  \n",
            " 3   cp                               8899 non-null   int64  \n",
            " 4   etage                            8899 non-null   int64  \n",
            " 5   idagence                         8899 non-null   int64  \n",
            " 6   idannonce                        8899 non-null   int64  \n",
            " 7   idtiers                          8899 non-null   int64  \n",
            " 8   idtypechauffage                  8899 non-null   int64  \n",
            " 9   idtypecommerce                   8899 non-null   int64  \n",
            " 10  idtypecuisine                    8899 non-null   object \n",
            " 11  idtypepublicationsourcecouplage  8899 non-null   object \n",
            " 12  naturebien                       8899 non-null   int64  \n",
            " 13  nb_chambres                      8899 non-null   int64  \n",
            " 14  nb_photos                        8899 non-null   int64  \n",
            " 15  nb_pieces                        8899 non-null   int64  \n",
            " 16  position                         8899 non-null   int64  \n",
            " 17  prix                             8899 non-null   int64  \n",
            " 18  si_balcon                        8899 non-null   int64  \n",
            " 19  si_sdEau                         8899 non-null   int64  \n",
            " 20  si_sdbain                        8899 non-null   int64  \n",
            " 21  surface                          8899 non-null   float64\n",
            " 22  typedebien                       8899 non-null   object \n",
            " 23  ville                            8899 non-null   object \n",
            "dtypes: float64(1), int64(19), object(4)\n",
            "memory usage: 1.6+ MB\n"
          ]
        }
      ],
      "source": [
        "dataset.info()"
      ]
    },
    {
      "cell_type": "markdown",
      "metadata": {
        "id": "JtxGhMzE3qZ2"
      },
      "source": [
        "On observe qu'il n'y a pas de valeurs manquantes à traiter.  \n",
        "Par ailleurs, il y a 3 format de données:\n",
        "- int64: nombres entiers relatifs\n",
        "- object: texte\n",
        "- float64: nombres décimaux "
      ]
    },
    {
      "cell_type": "markdown",
      "metadata": {
        "id": "iNoWJnG23qZ2"
      },
      "source": [
        "# Nettoyage des données"
      ]
    },
    {
      "cell_type": "code",
      "execution_count": null,
      "metadata": {
        "colab": {
          "base_uri": "https://localhost:8080/"
        },
        "id": "LtS7gczq3qZ2",
        "outputId": "5aa48803-6233-4c4c-d6bb-2c0980d66982"
      },
      "outputs": [
        {
          "data": {
            "text/plain": [
              "s√©par√©e                2073\n",
              "0                        1997\n",
              "s√©par√©e √©quip√©e      1418\n",
              "aucune                   1406\n",
              "am√©ricaine √©quip√©e     748\n",
              "√©quip√©e                 526\n",
              "am√©ricaine               420\n",
              "coin cuisine              186\n",
              "coin cuisine √©quip√©     114\n",
              "-1                         11\n",
              "Name: idtypecuisine, dtype: int64"
            ]
          },
          "execution_count": 245,
          "metadata": {},
          "output_type": "execute_result"
        }
      ],
      "source": [
        "# Afficher la fréquence des types de cuisine.\n",
        "dataset['idtypecuisine'].value_counts()"
      ]
    },
    {
      "cell_type": "markdown",
      "metadata": {
        "id": "dkOoSz0i3qZ3"
      },
      "source": [
        "Que signifient les valeurs 0 et -1 ?\n",
        "On serait tenté de penser que 0 corresond à la situation ou il n'y a pas de cuisine mais, en observant les données, il s'avère que ce n'est pas le cas. Nous allons créer des groupes à part pour ces catégories\n"
      ]
    },
    {
      "cell_type": "code",
      "execution_count": null,
      "metadata": {
        "id": "85WYn4dH3qZ3"
      },
      "outputs": [],
      "source": [
        "# Correction des données\n",
        "mapper = {\n",
        "    's√©par√©e': 'séparée',\n",
        "    '0': 'categorie_0',\n",
        "    's√©par√©e √©quip√©e': 'séparée équipée',\n",
        "    'aucune': 'aucune',\n",
        "    'am√©ricaine √©quip√©e': 'américaine équipée',\n",
        "    '√©quip√©e': 'équipée',\n",
        "    'am√©ricaine': 'américaine',\n",
        "    'coin cuisine': 'coin cuisine',\n",
        "    'coin cuisine √©quip√©': 'coin cuisine équipé',\n",
        "    '-1': 'catégorie_1'\n",
        "}"
      ]
    },
    {
      "cell_type": "code",
      "execution_count": null,
      "metadata": {
        "id": "vCJEWVEE3qZ3"
      },
      "outputs": [],
      "source": [
        "# Appliquer les corrections\n",
        "dataset['idtypecuisine'] = dataset['idtypecuisine'].map(mapper)"
      ]
    },
    {
      "cell_type": "code",
      "execution_count": null,
      "metadata": {
        "colab": {
          "base_uri": "https://localhost:8080/"
        },
        "id": "gOlfCV8Z3qZ3",
        "outputId": "7c2c6476-5193-4898-c2a9-9ec5a3cc19f9"
      },
      "outputs": [
        {
          "data": {
            "text/plain": [
              "séparée                2073\n",
              "categorie_0            1997\n",
              "séparée équipée        1418\n",
              "aucune                 1406\n",
              "américaine équipée      748\n",
              "équipée                 526\n",
              "américaine              420\n",
              "coin cuisine            186\n",
              "coin cuisine équipé     114\n",
              "catégorie_1              11\n",
              "Name: idtypecuisine, dtype: int64"
            ]
          },
          "execution_count": 248,
          "metadata": {},
          "output_type": "execute_result"
        }
      ],
      "source": [
        "dataset['idtypecuisine'].value_counts()"
      ]
    },
    {
      "cell_type": "code",
      "execution_count": null,
      "metadata": {
        "colab": {
          "base_uri": "https://localhost:8080/"
        },
        "id": "C13PQqbx3qZ4",
        "outputId": "b299eb89-18eb-4455-eef7-76f2c6e35eb1"
      },
      "outputs": [
        {
          "data": {
            "text/plain": [
              "array(['Paris 16√®me', 'Paris 10√®me', 'Paris 18√®me', 'Melun',\n",
              "       'Corbeil Essonnes', '√âtampes', 'Issou', 'Limay', '√âvry', 'Avon'],\n",
              "      dtype=object)"
            ]
          },
          "execution_count": 249,
          "metadata": {},
          "output_type": "execute_result"
        }
      ],
      "source": [
        "# Afficher les 10 premières villes \n",
        "dataset['ville'].unique()[:10]"
      ]
    },
    {
      "cell_type": "code",
      "execution_count": null,
      "metadata": {
        "id": "msHqmwJM3qZ4"
      },
      "outputs": [],
      "source": [
        "# Corriger les accents \n",
        "dataset['ville'] =  (\n",
        "    dataset['ville']\n",
        "    .str.replace('√®', 'è')\n",
        "    .str.replace('√â', 'É')\n",
        ")"
      ]
    },
    {
      "cell_type": "code",
      "execution_count": null,
      "metadata": {
        "colab": {
          "base_uri": "https://localhost:8080/"
        },
        "id": "Fu2wjQtJ3qZ4",
        "outputId": "ac146441-b695-48e1-f941-a59391dca4ef"
      },
      "outputs": [
        {
          "data": {
            "text/plain": [
              "array(['Paris 16ème', 'Paris 10ème', 'Paris 18ème', 'Melun',\n",
              "       'Corbeil Essonnes', 'Étampes', 'Issou', 'Limay', 'Évry', 'Avon'],\n",
              "      dtype=object)"
            ]
          },
          "execution_count": 251,
          "metadata": {},
          "output_type": "execute_result"
        }
      ],
      "source": [
        "dataset['ville'].unique()[:10]"
      ]
    },
    {
      "cell_type": "markdown",
      "metadata": {
        "id": "oAg4X3SS3qZ4"
      },
      "source": [
        "# Analyse de la cardinalité des features"
      ]
    },
    {
      "cell_type": "code",
      "execution_count": null,
      "metadata": {
        "colab": {
          "base_uri": "https://localhost:8080/"
        },
        "id": "mzQ8SS6w3qZ5",
        "outputId": "be2b4846-63da-4c26-ef00-75121d93b7ac"
      },
      "outputs": [
        {
          "data": {
            "text/plain": [
              "si_sdbain                             1\n",
              "si_sdEau                              1\n",
              "etage                                 1\n",
              "idtypechauffage                       1\n",
              "idtypecommerce                        1\n",
              "si_balcon                             2\n",
              "typedebien                            2\n",
              "idtypepublicationsourcecouplage       3\n",
              "naturebien                            3\n",
              "nb_chambres                           7\n",
              "nb_pieces                             9\n",
              "idtypecuisine                        10\n",
              "position                             20\n",
              "number                               20\n",
              "nb_photos                            27\n",
              "cp                                  105\n",
              "codepostal                          105\n",
              "codeinsee                           107\n",
              "ville                               112\n",
              "prix                               1052\n",
              "surface                            1218\n",
              "idagence                           1413\n",
              "idtiers                            1413\n",
              "idannonce                          3815\n",
              "dtype: int64"
            ]
          },
          "execution_count": 252,
          "metadata": {},
          "output_type": "execute_result"
        }
      ],
      "source": [
        "# Combien de valeurs uniques possède chaque colonne ?\n",
        "dataset.nunique().sort_values()"
      ]
    },
    {
      "cell_type": "markdown",
      "metadata": {
        "id": "rBu8zXbb3qZ5"
      },
      "source": [
        "- Les variables `si_sdbain`, `si_sdEau`, `etage`, `idtypechauffage`, `idtypecommerce` ne comportent qu'une unique valeur (0) ; il n'est donc pas utile de les garder car elles n'aident pas à la prédiction.      \n",
        "\n",
        "- `cp` et `codepostal` semblent représenter la même variable. Si tel est le cas, alors il ne faut en garder qu'une seule.\n",
        "Par ailleurs, `codeinsee` et `ville` semblent véhiculer plus ou moins la même information. En première approximation, nous ne garderons qu'une seule de ces 4 variables.\n",
        "\n",
        "- Pour `position` et `number`, il n'est pas évident de conclure, mais les deux colonnes représentent également la même variable.\n",
        "\n",
        "- Le même constat peyt être fait pour les colonnes `idagence` et `idtiers`.\n"
      ]
    },
    {
      "cell_type": "code",
      "execution_count": null,
      "metadata": {
        "colab": {
          "base_uri": "https://localhost:8080/"
        },
        "id": "zhpio_wG3qZ5",
        "outputId": "9989a768-49cb-48eb-d8ee-64e05e413ca9"
      },
      "outputs": [
        {
          "data": {
            "text/plain": [
              "True"
            ]
          },
          "execution_count": 253,
          "metadata": {},
          "output_type": "execute_result"
        }
      ],
      "source": [
        "# Les colonnes sont identiques, on ne va en garder qu'une seule.\n",
        "dataset['cp'].equals(dataset['codepostal'])"
      ]
    },
    {
      "cell_type": "code",
      "execution_count": null,
      "metadata": {
        "colab": {
          "base_uri": "https://localhost:8080/"
        },
        "id": "Qsn0qKz-3qZ5",
        "outputId": "e2b0a0af-8ff7-436d-913c-adddb7c7b2ad"
      },
      "outputs": [
        {
          "data": {
            "text/plain": [
              "True"
            ]
          },
          "execution_count": 254,
          "metadata": {},
          "output_type": "execute_result"
        }
      ],
      "source": [
        "# Les colonnes sont identiques, on ne va en garder qu'une seule.\n",
        "dataset['position'].equals(dataset['number'])"
      ]
    },
    {
      "cell_type": "code",
      "execution_count": null,
      "metadata": {
        "colab": {
          "base_uri": "https://localhost:8080/"
        },
        "id": "B_lagQql3qZ5",
        "outputId": "5599be77-f76c-48c3-e458-a394c7e38e07"
      },
      "outputs": [
        {
          "data": {
            "text/plain": [
              "False"
            ]
          },
          "execution_count": 255,
          "metadata": {},
          "output_type": "execute_result"
        }
      ],
      "source": [
        "# Les colonnes ne continennt pas les mêmes valeurs\n",
        "dataset['idtiers'].equals(dataset['idagence'])"
      ]
    },
    {
      "cell_type": "code",
      "execution_count": null,
      "metadata": {
        "colab": {
          "base_uri": "https://localhost:8080/",
          "height": 206
        },
        "id": "CE5WEAPa3qZ7",
        "outputId": "e9532b9d-9798-4aed-ab2e-1e339c9cdcc7"
      },
      "outputs": [
        {
          "data": {
            "text/html": [
              "\n",
              "  <div id=\"df-5c4f003d-74d7-4e82-a9b7-d523f6bb24b8\">\n",
              "    <div class=\"colab-df-container\">\n",
              "      <div>\n",
              "<style scoped>\n",
              "    .dataframe tbody tr th:only-of-type {\n",
              "        vertical-align: middle;\n",
              "    }\n",
              "\n",
              "    .dataframe tbody tr th {\n",
              "        vertical-align: top;\n",
              "    }\n",
              "\n",
              "    .dataframe thead th {\n",
              "        text-align: right;\n",
              "    }\n",
              "</style>\n",
              "<table border=\"1\" class=\"dataframe\">\n",
              "  <thead>\n",
              "    <tr style=\"text-align: right;\">\n",
              "      <th></th>\n",
              "      <th>idtiers</th>\n",
              "      <th>idagence</th>\n",
              "    </tr>\n",
              "  </thead>\n",
              "  <tbody>\n",
              "    <tr>\n",
              "      <th>0</th>\n",
              "      <td>227883</td>\n",
              "      <td>178817</td>\n",
              "    </tr>\n",
              "    <tr>\n",
              "      <th>1</th>\n",
              "      <td>3765</td>\n",
              "      <td>12089</td>\n",
              "    </tr>\n",
              "    <tr>\n",
              "      <th>2</th>\n",
              "      <td>108873</td>\n",
              "      <td>115811</td>\n",
              "    </tr>\n",
              "    <tr>\n",
              "      <th>3</th>\n",
              "      <td>3765</td>\n",
              "      <td>12089</td>\n",
              "    </tr>\n",
              "    <tr>\n",
              "      <th>4</th>\n",
              "      <td>145098</td>\n",
              "      <td>97567</td>\n",
              "    </tr>\n",
              "  </tbody>\n",
              "</table>\n",
              "</div>\n",
              "      <button class=\"colab-df-convert\" onclick=\"convertToInteractive('df-5c4f003d-74d7-4e82-a9b7-d523f6bb24b8')\"\n",
              "              title=\"Convert this dataframe to an interactive table.\"\n",
              "              style=\"display:none;\">\n",
              "        \n",
              "  <svg xmlns=\"http://www.w3.org/2000/svg\" height=\"24px\"viewBox=\"0 0 24 24\"\n",
              "       width=\"24px\">\n",
              "    <path d=\"M0 0h24v24H0V0z\" fill=\"none\"/>\n",
              "    <path d=\"M18.56 5.44l.94 2.06.94-2.06 2.06-.94-2.06-.94-.94-2.06-.94 2.06-2.06.94zm-11 1L8.5 8.5l.94-2.06 2.06-.94-2.06-.94L8.5 2.5l-.94 2.06-2.06.94zm10 10l.94 2.06.94-2.06 2.06-.94-2.06-.94-.94-2.06-.94 2.06-2.06.94z\"/><path d=\"M17.41 7.96l-1.37-1.37c-.4-.4-.92-.59-1.43-.59-.52 0-1.04.2-1.43.59L10.3 9.45l-7.72 7.72c-.78.78-.78 2.05 0 2.83L4 21.41c.39.39.9.59 1.41.59.51 0 1.02-.2 1.41-.59l7.78-7.78 2.81-2.81c.8-.78.8-2.07 0-2.86zM5.41 20L4 18.59l7.72-7.72 1.47 1.35L5.41 20z\"/>\n",
              "  </svg>\n",
              "      </button>\n",
              "      \n",
              "  <style>\n",
              "    .colab-df-container {\n",
              "      display:flex;\n",
              "      flex-wrap:wrap;\n",
              "      gap: 12px;\n",
              "    }\n",
              "\n",
              "    .colab-df-convert {\n",
              "      background-color: #E8F0FE;\n",
              "      border: none;\n",
              "      border-radius: 50%;\n",
              "      cursor: pointer;\n",
              "      display: none;\n",
              "      fill: #1967D2;\n",
              "      height: 32px;\n",
              "      padding: 0 0 0 0;\n",
              "      width: 32px;\n",
              "    }\n",
              "\n",
              "    .colab-df-convert:hover {\n",
              "      background-color: #E2EBFA;\n",
              "      box-shadow: 0px 1px 2px rgba(60, 64, 67, 0.3), 0px 1px 3px 1px rgba(60, 64, 67, 0.15);\n",
              "      fill: #174EA6;\n",
              "    }\n",
              "\n",
              "    [theme=dark] .colab-df-convert {\n",
              "      background-color: #3B4455;\n",
              "      fill: #D2E3FC;\n",
              "    }\n",
              "\n",
              "    [theme=dark] .colab-df-convert:hover {\n",
              "      background-color: #434B5C;\n",
              "      box-shadow: 0px 1px 3px 1px rgba(0, 0, 0, 0.15);\n",
              "      filter: drop-shadow(0px 1px 2px rgba(0, 0, 0, 0.3));\n",
              "      fill: #FFFFFF;\n",
              "    }\n",
              "  </style>\n",
              "\n",
              "      <script>\n",
              "        const buttonEl =\n",
              "          document.querySelector('#df-5c4f003d-74d7-4e82-a9b7-d523f6bb24b8 button.colab-df-convert');\n",
              "        buttonEl.style.display =\n",
              "          google.colab.kernel.accessAllowed ? 'block' : 'none';\n",
              "\n",
              "        async function convertToInteractive(key) {\n",
              "          const element = document.querySelector('#df-5c4f003d-74d7-4e82-a9b7-d523f6bb24b8');\n",
              "          const dataTable =\n",
              "            await google.colab.kernel.invokeFunction('convertToInteractive',\n",
              "                                                     [key], {});\n",
              "          if (!dataTable) return;\n",
              "\n",
              "          const docLinkHtml = 'Like what you see? Visit the ' +\n",
              "            '<a target=\"_blank\" href=https://colab.research.google.com/notebooks/data_table.ipynb>data table notebook</a>'\n",
              "            + ' to learn more about interactive tables.';\n",
              "          element.innerHTML = '';\n",
              "          dataTable['output_type'] = 'display_data';\n",
              "          await google.colab.output.renderOutput(dataTable, element);\n",
              "          const docLink = document.createElement('div');\n",
              "          docLink.innerHTML = docLinkHtml;\n",
              "          element.appendChild(docLink);\n",
              "        }\n",
              "      </script>\n",
              "    </div>\n",
              "  </div>\n",
              "  "
            ],
            "text/plain": [
              "   idtiers  idagence\n",
              "0   227883    178817\n",
              "1     3765     12089\n",
              "2   108873    115811\n",
              "3     3765     12089\n",
              "4   145098     97567"
            ]
          },
          "execution_count": 256,
          "metadata": {},
          "output_type": "execute_result"
        }
      ],
      "source": [
        "# Il est possible que idtiers et idagence comportent la même information retranscrite de manière différente.\n",
        "dataset[['idtiers', 'idagence']].head()"
      ]
    },
    {
      "cell_type": "code",
      "execution_count": null,
      "metadata": {
        "colab": {
          "base_uri": "https://localhost:8080/"
        },
        "id": "34Rf_au73qZ8",
        "outputId": "d4b4a2d2-b66c-49df-b860-0ed3b175e7fc"
      },
      "outputs": [
        {
          "data": {
            "text/plain": [
              "4"
            ]
          },
          "execution_count": 257,
          "metadata": {},
          "output_type": "execute_result"
        }
      ],
      "source": [
        "# regardons ce qui se passe avec les élèments de la ligne 2 - colonne idtiers\n",
        "(dataset['idtiers'] == 108873).sum()"
      ]
    },
    {
      "cell_type": "code",
      "execution_count": null,
      "metadata": {
        "colab": {
          "base_uri": "https://localhost:8080/"
        },
        "id": "NnU1QyYo3qZ8",
        "outputId": "08a90635-7f3a-469a-fbd7-f619125eb5bb"
      },
      "outputs": [
        {
          "data": {
            "text/plain": [
              "4"
            ]
          },
          "execution_count": 258,
          "metadata": {},
          "output_type": "execute_result"
        }
      ],
      "source": [
        "# regardons ce qui se passe avec les élèments de la ligne 2 - colonne idagence\n",
        "(dataset['idagence'] == 115811).sum()"
      ]
    },
    {
      "cell_type": "markdown",
      "metadata": {
        "id": "q28h8f0m3qZ8"
      },
      "source": [
        "L'information semble bien la même. Vérifions cependant si les fréquences des modalités sont identiques pour les deux colonnes."
      ]
    },
    {
      "cell_type": "code",
      "execution_count": null,
      "metadata": {
        "colab": {
          "base_uri": "https://localhost:8080/"
        },
        "id": "t8Bi2N113qZ8",
        "outputId": "0340d0e8-e6ed-4c38-8a17-606dcc9c1818"
      },
      "outputs": [
        {
          "data": {
            "text/plain": [
              "221404    235\n",
              "169816    229\n",
              "265828    217\n",
              "6601      214\n",
              "140505    210\n",
              "         ... \n",
              "60250       1\n",
              "268860      1\n",
              "171835      1\n",
              "157624      1\n",
              "324713      1\n",
              "Name: idtiers, Length: 1413, dtype: int64"
            ]
          },
          "execution_count": 259,
          "metadata": {},
          "output_type": "execute_result"
        }
      ],
      "source": [
        "dataset['idtiers'].value_counts()"
      ]
    },
    {
      "cell_type": "code",
      "execution_count": null,
      "metadata": {
        "colab": {
          "base_uri": "https://localhost:8080/"
        },
        "id": "guLEIziQ3qZ8",
        "outputId": "eb054063-f1b5-409b-ead7-1cc4bf8bace5"
      },
      "outputs": [
        {
          "data": {
            "text/plain": [
              "252492    235\n",
              "113840    229\n",
              "240271    217\n",
              "11024     214\n",
              "93920     210\n",
              "         ... \n",
              "50140       1\n",
              "238353      1\n",
              "115806      1\n",
              "105410      1\n",
              "282901      1\n",
              "Name: idagence, Length: 1413, dtype: int64"
            ]
          },
          "execution_count": 260,
          "metadata": {},
          "output_type": "execute_result"
        }
      ],
      "source": [
        "dataset['idagence'].value_counts()"
      ]
    },
    {
      "cell_type": "code",
      "execution_count": null,
      "metadata": {
        "colab": {
          "base_uri": "https://localhost:8080/"
        },
        "id": "Dg3Z0Dml3qZ9",
        "outputId": "7a81be4f-6451-4754-86de-162e6d03bdb4"
      },
      "outputs": [
        {
          "data": {
            "text/plain": [
              "True"
            ]
          },
          "execution_count": 261,
          "metadata": {},
          "output_type": "execute_result"
        }
      ],
      "source": [
        "# Les variables sont bien identiques !\n",
        "idtiers = dataset['idtiers'].value_counts().reset_index(drop = True)\n",
        "idagence = dataset['idagence'].value_counts().reset_index(drop = True)\n",
        "\n",
        "idtiers.equals(idagence)"
      ]
    },
    {
      "cell_type": "code",
      "execution_count": null,
      "metadata": {
        "id": "A1aMM4U-3qZ9"
      },
      "outputs": [],
      "source": [
        "# Bilan des variables à supprimer\n",
        "to_remove = [\n",
        "    'si_sdbain', 'si_sdEau', 'etage',\n",
        "    'idtypechauffage', 'idtypecommerce', 'codepostal',\n",
        "    'number', 'idtiers', 'cp', 'codeinsee']"
      ]
    },
    {
      "cell_type": "markdown",
      "metadata": {
        "id": "3inpvEEL3qZ9"
      },
      "source": [
        "Il est egalement nécessaire de distinguer les variables quantitatives des variables catégorielles car elles ne seront pas traiter de la même façon."
      ]
    },
    {
      "cell_type": "code",
      "execution_count": null,
      "metadata": {
        "id": "MpoQmQhG3qZ9"
      },
      "outputs": [],
      "source": [
        "categorical = [\n",
        "    'si_balcon', 'typedebien', 'idtypepublicationsourcecouplage',\n",
        "    'naturebien','idtypecuisine', 'codeinsee', 'cp',\n",
        "    'ville', 'idagence', 'idannonce', 'position'\n",
        "]\n",
        "\n",
        "numerical = [\n",
        "    'nb_chambres', 'nb_pieces', 'nb_photos', 'surface'\n",
        "    \n",
        "]"
      ]
    },
    {
      "cell_type": "markdown",
      "metadata": {
        "id": "DSTLt3Gv3qZ9"
      },
      "source": [
        "## Analyse descriptive des variables quantitatives\n",
        "\n",
        "On commence d'abord par analyser la variable cible."
      ]
    },
    {
      "cell_type": "code",
      "execution_count": null,
      "metadata": {
        "colab": {
          "base_uri": "https://localhost:8080/",
          "height": 290
        },
        "id": "HTIGz8KZJggE",
        "outputId": "da5dddd2-b2c1-4b9e-f2b0-2438a8ab494e"
      },
      "outputs": [
        {
          "data": {
            "image/png": "[encoded data removed]",
            "text/plain": [
              "<Figure size 432x288 with 1 Axes>"
            ]
          },
          "metadata": {
            "needs_background": "light"
          },
          "output_type": "display_data"
        }
      ],
      "source": [
        "sns.kdeplot(dataset['prix'], shade=True);"
      ]
    },
    {
      "cell_type": "code",
      "execution_count": null,
      "metadata": {
        "colab": {
          "base_uri": "https://localhost:8080/",
          "height": 300
        },
        "id": "Kv-Zqyz03qZ9",
        "outputId": "b8dba99b-2d5e-4e62-ef25-dc9fd7dc8028"
      },
      "outputs": [
        {
          "data": {
            "text/html": [
              "\n",
              "  <div id=\"df-902044c8-1370-4a12-bef3-a26acdc5bb92\">\n",
              "    <div class=\"colab-df-container\">\n",
              "      <div>\n",
              "<style scoped>\n",
              "    .dataframe tbody tr th:only-of-type {\n",
              "        vertical-align: middle;\n",
              "    }\n",
              "\n",
              "    .dataframe tbody tr th {\n",
              "        vertical-align: top;\n",
              "    }\n",
              "\n",
              "    .dataframe thead th {\n",
              "        text-align: right;\n",
              "    }\n",
              "</style>\n",
              "<table border=\"1\" class=\"dataframe\">\n",
              "  <thead>\n",
              "    <tr style=\"text-align: right;\">\n",
              "      <th></th>\n",
              "      <th>nb_chambres</th>\n",
              "      <th>nb_pieces</th>\n",
              "      <th>nb_photos</th>\n",
              "      <th>surface</th>\n",
              "    </tr>\n",
              "  </thead>\n",
              "  <tbody>\n",
              "    <tr>\n",
              "      <th>count</th>\n",
              "      <td>8899.000000</td>\n",
              "      <td>8899.000000</td>\n",
              "      <td>8899.000000</td>\n",
              "      <td>8899.000000</td>\n",
              "    </tr>\n",
              "    <tr>\n",
              "      <th>mean</th>\n",
              "      <td>2.319474</td>\n",
              "      <td>3.838746</td>\n",
              "      <td>9.697269</td>\n",
              "      <td>96.070707</td>\n",
              "    </tr>\n",
              "    <tr>\n",
              "      <th>std</th>\n",
              "      <td>1.170877</td>\n",
              "      <td>1.483164</td>\n",
              "      <td>4.511174</td>\n",
              "      <td>38.127731</td>\n",
              "    </tr>\n",
              "    <tr>\n",
              "      <th>min</th>\n",
              "      <td>1.000000</td>\n",
              "      <td>1.000000</td>\n",
              "      <td>0.000000</td>\n",
              "      <td>0.000000</td>\n",
              "    </tr>\n",
              "    <tr>\n",
              "      <th>25%</th>\n",
              "      <td>1.000000</td>\n",
              "      <td>3.000000</td>\n",
              "      <td>6.000000</td>\n",
              "      <td>66.400000</td>\n",
              "    </tr>\n",
              "    <tr>\n",
              "      <th>50%</th>\n",
              "      <td>2.000000</td>\n",
              "      <td>4.000000</td>\n",
              "      <td>9.000000</td>\n",
              "      <td>93.000000</td>\n",
              "    </tr>\n",
              "    <tr>\n",
              "      <th>75%</th>\n",
              "      <td>3.000000</td>\n",
              "      <td>5.000000</td>\n",
              "      <td>12.000000</td>\n",
              "      <td>129.000000</td>\n",
              "    </tr>\n",
              "    <tr>\n",
              "      <th>max</th>\n",
              "      <td>22.000000</td>\n",
              "      <td>53.000000</td>\n",
              "      <td>27.000000</td>\n",
              "      <td>250.000000</td>\n",
              "    </tr>\n",
              "  </tbody>\n",
              "</table>\n",
              "</div>\n",
              "      <button class=\"colab-df-convert\" onclick=\"convertToInteractive('df-902044c8-1370-4a12-bef3-a26acdc5bb92')\"\n",
              "              title=\"Convert this dataframe to an interactive table.\"\n",
              "              style=\"display:none;\">\n",
              "        \n",
              "  <svg xmlns=\"http://www.w3.org/2000/svg\" height=\"24px\"viewBox=\"0 0 24 24\"\n",
              "       width=\"24px\">\n",
              "    <path d=\"M0 0h24v24H0V0z\" fill=\"none\"/>\n",
              "    <path d=\"M18.56 5.44l.94 2.06.94-2.06 2.06-.94-2.06-.94-.94-2.06-.94 2.06-2.06.94zm-11 1L8.5 8.5l.94-2.06 2.06-.94-2.06-.94L8.5 2.5l-.94 2.06-2.06.94zm10 10l.94 2.06.94-2.06 2.06-.94-2.06-.94-.94-2.06-.94 2.06-2.06.94z\"/><path d=\"M17.41 7.96l-1.37-1.37c-.4-.4-.92-.59-1.43-.59-.52 0-1.04.2-1.43.59L10.3 9.45l-7.72 7.72c-.78.78-.78 2.05 0 2.83L4 21.41c.39.39.9.59 1.41.59.51 0 1.02-.2 1.41-.59l7.78-7.78 2.81-2.81c.8-.78.8-2.07 0-2.86zM5.41 20L4 18.59l7.72-7.72 1.47 1.35L5.41 20z\"/>\n",
              "  </svg>\n",
              "      </button>\n",
              "      \n",
              "  <style>\n",
              "    .colab-df-container {\n",
              "      display:flex;\n",
              "      flex-wrap:wrap;\n",
              "      gap: 12px;\n",
              "    }\n",
              "\n",
              "    .colab-df-convert {\n",
              "      background-color: #E8F0FE;\n",
              "      border: none;\n",
              "      border-radius: 50%;\n",
              "      cursor: pointer;\n",
              "      display: none;\n",
              "      fill: #1967D2;\n",
              "      height: 32px;\n",
              "      padding: 0 0 0 0;\n",
              "      width: 32px;\n",
              "    }\n",
              "\n",
              "    .colab-df-convert:hover {\n",
              "      background-color: #E2EBFA;\n",
              "      box-shadow: 0px 1px 2px rgba(60, 64, 67, 0.3), 0px 1px 3px 1px rgba(60, 64, 67, 0.15);\n",
              "      fill: #174EA6;\n",
              "    }\n",
              "\n",
              "    [theme=dark] .colab-df-convert {\n",
              "      background-color: #3B4455;\n",
              "      fill: #D2E3FC;\n",
              "    }\n",
              "\n",
              "    [theme=dark] .colab-df-convert:hover {\n",
              "      background-color: #434B5C;\n",
              "      box-shadow: 0px 1px 3px 1px rgba(0, 0, 0, 0.15);\n",
              "      filter: drop-shadow(0px 1px 2px rgba(0, 0, 0, 0.3));\n",
              "      fill: #FFFFFF;\n",
              "    }\n",
              "  </style>\n",
              "\n",
              "      <script>\n",
              "        const buttonEl =\n",
              "          document.querySelector('#df-902044c8-1370-4a12-bef3-a26acdc5bb92 button.colab-df-convert');\n",
              "        buttonEl.style.display =\n",
              "          google.colab.kernel.accessAllowed ? 'block' : 'none';\n",
              "\n",
              "        async function convertToInteractive(key) {\n",
              "          const element = document.querySelector('#df-902044c8-1370-4a12-bef3-a26acdc5bb92');\n",
              "          const dataTable =\n",
              "            await google.colab.kernel.invokeFunction('convertToInteractive',\n",
              "                                                     [key], {});\n",
              "          if (!dataTable) return;\n",
              "\n",
              "          const docLinkHtml = 'Like what you see? Visit the ' +\n",
              "            '<a target=\"_blank\" href=https://colab.research.google.com/notebooks/data_table.ipynb>data table notebook</a>'\n",
              "            + ' to learn more about interactive tables.';\n",
              "          element.innerHTML = '';\n",
              "          dataTable['output_type'] = 'display_data';\n",
              "          await google.colab.output.renderOutput(dataTable, element);\n",
              "          const docLink = document.createElement('div');\n",
              "          docLink.innerHTML = docLinkHtml;\n",
              "          element.appendChild(docLink);\n",
              "        }\n",
              "      </script>\n",
              "    </div>\n",
              "  </div>\n",
              "  "
            ],
            "text/plain": [
              "       nb_chambres    nb_pieces    nb_photos      surface\n",
              "count  8899.000000  8899.000000  8899.000000  8899.000000\n",
              "mean      2.319474     3.838746     9.697269    96.070707\n",
              "std       1.170877     1.483164     4.511174    38.127731\n",
              "min       1.000000     1.000000     0.000000     0.000000\n",
              "25%       1.000000     3.000000     6.000000    66.400000\n",
              "50%       2.000000     4.000000     9.000000    93.000000\n",
              "75%       3.000000     5.000000    12.000000   129.000000\n",
              "max      22.000000    53.000000    27.000000   250.000000"
            ]
          },
          "execution_count": 265,
          "metadata": {},
          "output_type": "execute_result"
        }
      ],
      "source": [
        "dataset[numerical].describe()"
      ]
    },
    {
      "cell_type": "markdown",
      "metadata": {
        "id": "N5YTb95U3qZ-"
      },
      "source": [
        "- La ligne `max` est assez surprenante.\n",
        "En effet la surface maximale que l'on peut rencontrer et de 250 m2 alors des chambres de 53 pièces ou de 22 chambres peuvent être observées dans les données. Cela semble plutôt aberrant.\n",
        "\n",
        "- Par ailleurs, la ligne `min` comporte la valeur 0 pour surface, ce qui semble également aberrant. \n",
        "\n",
        "\n"
      ]
    },
    {
      "cell_type": "code",
      "execution_count": null,
      "metadata": {
        "colab": {
          "base_uri": "https://localhost:8080/",
          "height": 283
        },
        "id": "QQXUvaMy3qZ-",
        "outputId": "200ed8e6-b468-4d7b-c4bf-9d7d95797757"
      },
      "outputs": [
        {
          "data": {
            "text/plain": [
              "<matplotlib.axes._subplots.AxesSubplot at 0x7f9b9e05bfd0>"
            ]
          },
          "execution_count": 266,
          "metadata": {},
          "output_type": "execute_result"
        },
        {
          "data": {
            "image/png": "[encoded data removed]",
            "text/plain": [
              "<Figure size 432x288 with 1 Axes>"
            ]
          },
          "metadata": {
            "needs_background": "light"
          },
          "output_type": "display_data"
        }
      ],
      "source": [
        "dataset[numerical].boxplot()"
      ]
    },
    {
      "cell_type": "code",
      "execution_count": null,
      "metadata": {
        "colab": {
          "base_uri": "https://localhost:8080/",
          "height": 449
        },
        "id": "QC-kq7x0MX1u",
        "outputId": "1de6feb9-0b12-420f-b942-8181a00d6f26"
      },
      "outputs": [
        {
          "name": "stderr",
          "output_type": "stream",
          "text": [
            "/usr/local/lib/python3.7/dist-packages/seaborn/_decorators.py:43: FutureWarning: Pass the following variable as a keyword arg: x. From version 0.12, the only valid positional argument will be `data`, and passing other arguments without an explicit keyword will result in an error or misinterpretation.\n",
            "  FutureWarning\n",
            "/usr/local/lib/python3.7/dist-packages/seaborn/_decorators.py:43: FutureWarning: Pass the following variable as a keyword arg: x. From version 0.12, the only valid positional argument will be `data`, and passing other arguments without an explicit keyword will result in an error or misinterpretation.\n",
            "  FutureWarning\n"
          ]
        },
        {
          "data": {
            "image/png": "[encoded data removed]",
            "text/plain": [
              "<Figure size 1296x504 with 2 Axes>"
            ]
          },
          "metadata": {
            "needs_background": "light"
          },
          "output_type": "display_data"
        }
      ],
      "source": [
        "plt.rcParams[\"figure.figsize\"]\n",
        "\n",
        "fig, axs = plt.subplots(1,2, figsize=(18,7))\n",
        "for i, feature in enumerate(numerical[0:2]):\n",
        "    sns.countplot(dataset[feature], ax = axs[i])\n",
        "plt.show()"
      ]
    },
    {
      "cell_type": "code",
      "execution_count": null,
      "metadata": {
        "colab": {
          "base_uri": "https://localhost:8080/",
          "height": 360
        },
        "id": "kdKmHpf7PCng",
        "outputId": "6df49564-3706-48b9-a9de-c12c60caf7a7"
      },
      "outputs": [
        {
          "data": {
            "image/png": "[encoded data removed]",
            "text/plain": [
              "<Figure size 1296x504 with 2 Axes>"
            ]
          },
          "metadata": {
            "needs_background": "light"
          },
          "output_type": "display_data"
        }
      ],
      "source": [
        "plt.rcParams[\"figure.figsize\"]\n",
        "\n",
        "fig, axs = plt.subplots(1,2, figsize=(18,7))\n",
        "for i, feature in enumerate(numerical[2:4]):\n",
        "    sns.histplot(dataset[feature], ax = axs[i])\n",
        "plt.show()"
      ]
    },
    {
      "cell_type": "markdown",
      "metadata": {
        "id": "gjzAihhh3qZ-"
      },
      "source": [
        "Les graphiques confirment cette aberration. On peut observer des 'outliers' (valeurs très extrêmes) par rapport à la moyenne."
      ]
    },
    {
      "cell_type": "code",
      "execution_count": null,
      "metadata": {
        "colab": {
          "base_uri": "https://localhost:8080/",
          "height": 162
        },
        "id": "TT0KF3WI3qZ-",
        "outputId": "b0040049-ce47-47fe-86a0-d29d240ca362"
      },
      "outputs": [
        {
          "data": {
            "text/html": [
              "\n",
              "  <div id=\"df-6cea74ac-c410-4d1d-8ad7-5bb39d8ce04a\">\n",
              "    <div class=\"colab-df-container\">\n",
              "      <div>\n",
              "<style scoped>\n",
              "    .dataframe tbody tr th:only-of-type {\n",
              "        vertical-align: middle;\n",
              "    }\n",
              "\n",
              "    .dataframe tbody tr th {\n",
              "        vertical-align: top;\n",
              "    }\n",
              "\n",
              "    .dataframe thead th {\n",
              "        text-align: right;\n",
              "    }\n",
              "</style>\n",
              "<table border=\"1\" class=\"dataframe\">\n",
              "  <thead>\n",
              "    <tr style=\"text-align: right;\">\n",
              "      <th></th>\n",
              "      <th>number</th>\n",
              "      <th>codeinsee</th>\n",
              "      <th>codepostal</th>\n",
              "      <th>cp</th>\n",
              "      <th>etage</th>\n",
              "      <th>idagence</th>\n",
              "      <th>idannonce</th>\n",
              "      <th>idtiers</th>\n",
              "      <th>idtypechauffage</th>\n",
              "      <th>idtypecommerce</th>\n",
              "      <th>idtypecuisine</th>\n",
              "      <th>idtypepublicationsourcecouplage</th>\n",
              "      <th>naturebien</th>\n",
              "      <th>nb_chambres</th>\n",
              "      <th>nb_photos</th>\n",
              "      <th>nb_pieces</th>\n",
              "      <th>position</th>\n",
              "      <th>prix</th>\n",
              "      <th>si_balcon</th>\n",
              "      <th>si_sdEau</th>\n",
              "      <th>si_sdbain</th>\n",
              "      <th>surface</th>\n",
              "      <th>typedebien</th>\n",
              "      <th>ville</th>\n",
              "    </tr>\n",
              "  </thead>\n",
              "  <tbody>\n",
              "    <tr>\n",
              "      <th>1236</th>\n",
              "      <td>0</td>\n",
              "      <td>750115</td>\n",
              "      <td>75015</td>\n",
              "      <td>75015</td>\n",
              "      <td>0</td>\n",
              "      <td>260996</td>\n",
              "      <td>146819689</td>\n",
              "      <td>282708</td>\n",
              "      <td>0</td>\n",
              "      <td>0</td>\n",
              "      <td>équipée</td>\n",
              "      <td>SL</td>\n",
              "      <td>1</td>\n",
              "      <td>22</td>\n",
              "      <td>4</td>\n",
              "      <td>3</td>\n",
              "      <td>0</td>\n",
              "      <td>567000</td>\n",
              "      <td>0</td>\n",
              "      <td>0</td>\n",
              "      <td>0</td>\n",
              "      <td>77.0</td>\n",
              "      <td>Appartement</td>\n",
              "      <td>Paris 15ème</td>\n",
              "    </tr>\n",
              "  </tbody>\n",
              "</table>\n",
              "</div>\n",
              "      <button class=\"colab-df-convert\" onclick=\"convertToInteractive('df-6cea74ac-c410-4d1d-8ad7-5bb39d8ce04a')\"\n",
              "              title=\"Convert this dataframe to an interactive table.\"\n",
              "              style=\"display:none;\">\n",
              "        \n",
              "  <svg xmlns=\"http://www.w3.org/2000/svg\" height=\"24px\"viewBox=\"0 0 24 24\"\n",
              "       width=\"24px\">\n",
              "    <path d=\"M0 0h24v24H0V0z\" fill=\"none\"/>\n",
              "    <path d=\"M18.56 5.44l.94 2.06.94-2.06 2.06-.94-2.06-.94-.94-2.06-.94 2.06-2.06.94zm-11 1L8.5 8.5l.94-2.06 2.06-.94-2.06-.94L8.5 2.5l-.94 2.06-2.06.94zm10 10l.94 2.06.94-2.06 2.06-.94-2.06-.94-.94-2.06-.94 2.06-2.06.94z\"/><path d=\"M17.41 7.96l-1.37-1.37c-.4-.4-.92-.59-1.43-.59-.52 0-1.04.2-1.43.59L10.3 9.45l-7.72 7.72c-.78.78-.78 2.05 0 2.83L4 21.41c.39.39.9.59 1.41.59.51 0 1.02-.2 1.41-.59l7.78-7.78 2.81-2.81c.8-.78.8-2.07 0-2.86zM5.41 20L4 18.59l7.72-7.72 1.47 1.35L5.41 20z\"/>\n",
              "  </svg>\n",
              "      </button>\n",
              "      \n",
              "  <style>\n",
              "    .colab-df-container {\n",
              "      display:flex;\n",
              "      flex-wrap:wrap;\n",
              "      gap: 12px;\n",
              "    }\n",
              "\n",
              "    .colab-df-convert {\n",
              "      background-color: #E8F0FE;\n",
              "      border: none;\n",
              "      border-radius: 50%;\n",
              "      cursor: pointer;\n",
              "      display: none;\n",
              "      fill: #1967D2;\n",
              "      height: 32px;\n",
              "      padding: 0 0 0 0;\n",
              "      width: 32px;\n",
              "    }\n",
              "\n",
              "    .colab-df-convert:hover {\n",
              "      background-color: #E2EBFA;\n",
              "      box-shadow: 0px 1px 2px rgba(60, 64, 67, 0.3), 0px 1px 3px 1px rgba(60, 64, 67, 0.15);\n",
              "      fill: #174EA6;\n",
              "    }\n",
              "\n",
              "    [theme=dark] .colab-df-convert {\n",
              "      background-color: #3B4455;\n",
              "      fill: #D2E3FC;\n",
              "    }\n",
              "\n",
              "    [theme=dark] .colab-df-convert:hover {\n",
              "      background-color: #434B5C;\n",
              "      box-shadow: 0px 1px 3px 1px rgba(0, 0, 0, 0.15);\n",
              "      filter: drop-shadow(0px 1px 2px rgba(0, 0, 0, 0.3));\n",
              "      fill: #FFFFFF;\n",
              "    }\n",
              "  </style>\n",
              "\n",
              "      <script>\n",
              "        const buttonEl =\n",
              "          document.querySelector('#df-6cea74ac-c410-4d1d-8ad7-5bb39d8ce04a button.colab-df-convert');\n",
              "        buttonEl.style.display =\n",
              "          google.colab.kernel.accessAllowed ? 'block' : 'none';\n",
              "\n",
              "        async function convertToInteractive(key) {\n",
              "          const element = document.querySelector('#df-6cea74ac-c410-4d1d-8ad7-5bb39d8ce04a');\n",
              "          const dataTable =\n",
              "            await google.colab.kernel.invokeFunction('convertToInteractive',\n",
              "                                                     [key], {});\n",
              "          if (!dataTable) return;\n",
              "\n",
              "          const docLinkHtml = 'Like what you see? Visit the ' +\n",
              "            '<a target=\"_blank\" href=https://colab.research.google.com/notebooks/data_table.ipynb>data table notebook</a>'\n",
              "            + ' to learn more about interactive tables.';\n",
              "          element.innerHTML = '';\n",
              "          dataTable['output_type'] = 'display_data';\n",
              "          await google.colab.output.renderOutput(dataTable, element);\n",
              "          const docLink = document.createElement('div');\n",
              "          docLink.innerHTML = docLinkHtml;\n",
              "          element.appendChild(docLink);\n",
              "        }\n",
              "      </script>\n",
              "    </div>\n",
              "  </div>\n",
              "  "
            ],
            "text/plain": [
              "      number  codeinsee  codepostal     cp  etage  idagence  idannonce  \\\n",
              "1236       0     750115       75015  75015      0    260996  146819689   \n",
              "\n",
              "      idtiers  idtypechauffage  idtypecommerce idtypecuisine  \\\n",
              "1236   282708                0               0       équipée   \n",
              "\n",
              "     idtypepublicationsourcecouplage  naturebien  nb_chambres  nb_photos  \\\n",
              "1236                              SL           1           22          4   \n",
              "\n",
              "      nb_pieces  position    prix  si_balcon  si_sdEau  si_sdbain  surface  \\\n",
              "1236          3         0  567000          0         0          0     77.0   \n",
              "\n",
              "       typedebien        ville  \n",
              "1236  Appartement  Paris 15ème  "
            ]
          },
          "execution_count": 269,
          "metadata": {},
          "output_type": "execute_result"
        }
      ],
      "source": [
        "# Il semble que ce soit une erreur de saisie, c'est une donnée que\n",
        "# nous n'allons pas utiliser car elle est eronnée.\n",
        "\n",
        "dataset[dataset['nb_chambres'] == 22]"
      ]
    },
    {
      "cell_type": "code",
      "execution_count": null,
      "metadata": {
        "colab": {
          "base_uri": "https://localhost:8080/",
          "height": 162
        },
        "id": "xnm8wuv43qZ-",
        "outputId": "d05c7091-22c2-4c93-a0c7-93d3fdf19b90"
      },
      "outputs": [
        {
          "data": {
            "text/html": [
              "\n",
              "  <div id=\"df-728582fc-960c-4323-a97a-34f239984776\">\n",
              "    <div class=\"colab-df-container\">\n",
              "      <div>\n",
              "<style scoped>\n",
              "    .dataframe tbody tr th:only-of-type {\n",
              "        vertical-align: middle;\n",
              "    }\n",
              "\n",
              "    .dataframe tbody tr th {\n",
              "        vertical-align: top;\n",
              "    }\n",
              "\n",
              "    .dataframe thead th {\n",
              "        text-align: right;\n",
              "    }\n",
              "</style>\n",
              "<table border=\"1\" class=\"dataframe\">\n",
              "  <thead>\n",
              "    <tr style=\"text-align: right;\">\n",
              "      <th></th>\n",
              "      <th>number</th>\n",
              "      <th>codeinsee</th>\n",
              "      <th>codepostal</th>\n",
              "      <th>cp</th>\n",
              "      <th>etage</th>\n",
              "      <th>idagence</th>\n",
              "      <th>idannonce</th>\n",
              "      <th>idtiers</th>\n",
              "      <th>idtypechauffage</th>\n",
              "      <th>idtypecommerce</th>\n",
              "      <th>idtypecuisine</th>\n",
              "      <th>idtypepublicationsourcecouplage</th>\n",
              "      <th>naturebien</th>\n",
              "      <th>nb_chambres</th>\n",
              "      <th>nb_photos</th>\n",
              "      <th>nb_pieces</th>\n",
              "      <th>position</th>\n",
              "      <th>prix</th>\n",
              "      <th>si_balcon</th>\n",
              "      <th>si_sdEau</th>\n",
              "      <th>si_sdbain</th>\n",
              "      <th>surface</th>\n",
              "      <th>typedebien</th>\n",
              "      <th>ville</th>\n",
              "    </tr>\n",
              "  </thead>\n",
              "  <tbody>\n",
              "    <tr>\n",
              "      <th>1318</th>\n",
              "      <td>18</td>\n",
              "      <td>750118</td>\n",
              "      <td>75018</td>\n",
              "      <td>75018</td>\n",
              "      <td>0</td>\n",
              "      <td>228375</td>\n",
              "      <td>149412073</td>\n",
              "      <td>261580</td>\n",
              "      <td>0</td>\n",
              "      <td>0</td>\n",
              "      <td>aucune</td>\n",
              "      <td>SL</td>\n",
              "      <td>1</td>\n",
              "      <td>2</td>\n",
              "      <td>12</td>\n",
              "      <td>53</td>\n",
              "      <td>18</td>\n",
              "      <td>580000</td>\n",
              "      <td>0</td>\n",
              "      <td>0</td>\n",
              "      <td>0</td>\n",
              "      <td>53.0</td>\n",
              "      <td>Appartement</td>\n",
              "      <td>Paris 18ème</td>\n",
              "    </tr>\n",
              "  </tbody>\n",
              "</table>\n",
              "</div>\n",
              "      <button class=\"colab-df-convert\" onclick=\"convertToInteractive('df-728582fc-960c-4323-a97a-34f239984776')\"\n",
              "              title=\"Convert this dataframe to an interactive table.\"\n",
              "              style=\"display:none;\">\n",
              "        \n",
              "  <svg xmlns=\"http://www.w3.org/2000/svg\" height=\"24px\"viewBox=\"0 0 24 24\"\n",
              "       width=\"24px\">\n",
              "    <path d=\"M0 0h24v24H0V0z\" fill=\"none\"/>\n",
              "    <path d=\"M18.56 5.44l.94 2.06.94-2.06 2.06-.94-2.06-.94-.94-2.06-.94 2.06-2.06.94zm-11 1L8.5 8.5l.94-2.06 2.06-.94-2.06-.94L8.5 2.5l-.94 2.06-2.06.94zm10 10l.94 2.06.94-2.06 2.06-.94-2.06-.94-.94-2.06-.94 2.06-2.06.94z\"/><path d=\"M17.41 7.96l-1.37-1.37c-.4-.4-.92-.59-1.43-.59-.52 0-1.04.2-1.43.59L10.3 9.45l-7.72 7.72c-.78.78-.78 2.05 0 2.83L4 21.41c.39.39.9.59 1.41.59.51 0 1.02-.2 1.41-.59l7.78-7.78 2.81-2.81c.8-.78.8-2.07 0-2.86zM5.41 20L4 18.59l7.72-7.72 1.47 1.35L5.41 20z\"/>\n",
              "  </svg>\n",
              "      </button>\n",
              "      \n",
              "  <style>\n",
              "    .colab-df-container {\n",
              "      display:flex;\n",
              "      flex-wrap:wrap;\n",
              "      gap: 12px;\n",
              "    }\n",
              "\n",
              "    .colab-df-convert {\n",
              "      background-color: #E8F0FE;\n",
              "      border: none;\n",
              "      border-radius: 50%;\n",
              "      cursor: pointer;\n",
              "      display: none;\n",
              "      fill: #1967D2;\n",
              "      height: 32px;\n",
              "      padding: 0 0 0 0;\n",
              "      width: 32px;\n",
              "    }\n",
              "\n",
              "    .colab-df-convert:hover {\n",
              "      background-color: #E2EBFA;\n",
              "      box-shadow: 0px 1px 2px rgba(60, 64, 67, 0.3), 0px 1px 3px 1px rgba(60, 64, 67, 0.15);\n",
              "      fill: #174EA6;\n",
              "    }\n",
              "\n",
              "    [theme=dark] .colab-df-convert {\n",
              "      background-color: #3B4455;\n",
              "      fill: #D2E3FC;\n",
              "    }\n",
              "\n",
              "    [theme=dark] .colab-df-convert:hover {\n",
              "      background-color: #434B5C;\n",
              "      box-shadow: 0px 1px 3px 1px rgba(0, 0, 0, 0.15);\n",
              "      filter: drop-shadow(0px 1px 2px rgba(0, 0, 0, 0.3));\n",
              "      fill: #FFFFFF;\n",
              "    }\n",
              "  </style>\n",
              "\n",
              "      <script>\n",
              "        const buttonEl =\n",
              "          document.querySelector('#df-728582fc-960c-4323-a97a-34f239984776 button.colab-df-convert');\n",
              "        buttonEl.style.display =\n",
              "          google.colab.kernel.accessAllowed ? 'block' : 'none';\n",
              "\n",
              "        async function convertToInteractive(key) {\n",
              "          const element = document.querySelector('#df-728582fc-960c-4323-a97a-34f239984776');\n",
              "          const dataTable =\n",
              "            await google.colab.kernel.invokeFunction('convertToInteractive',\n",
              "                                                     [key], {});\n",
              "          if (!dataTable) return;\n",
              "\n",
              "          const docLinkHtml = 'Like what you see? Visit the ' +\n",
              "            '<a target=\"_blank\" href=https://colab.research.google.com/notebooks/data_table.ipynb>data table notebook</a>'\n",
              "            + ' to learn more about interactive tables.';\n",
              "          element.innerHTML = '';\n",
              "          dataTable['output_type'] = 'display_data';\n",
              "          await google.colab.output.renderOutput(dataTable, element);\n",
              "          const docLink = document.createElement('div');\n",
              "          docLink.innerHTML = docLinkHtml;\n",
              "          element.appendChild(docLink);\n",
              "        }\n",
              "      </script>\n",
              "    </div>\n",
              "  </div>\n",
              "  "
            ],
            "text/plain": [
              "      number  codeinsee  codepostal     cp  etage  idagence  idannonce  \\\n",
              "1318      18     750118       75018  75018      0    228375  149412073   \n",
              "\n",
              "      idtiers  idtypechauffage  idtypecommerce idtypecuisine  \\\n",
              "1318   261580                0               0        aucune   \n",
              "\n",
              "     idtypepublicationsourcecouplage  naturebien  nb_chambres  nb_photos  \\\n",
              "1318                              SL           1            2         12   \n",
              "\n",
              "      nb_pieces  position    prix  si_balcon  si_sdEau  si_sdbain  surface  \\\n",
              "1318         53        18  580000          0         0          0     53.0   \n",
              "\n",
              "       typedebien        ville  \n",
              "1318  Appartement  Paris 18ème  "
            ]
          },
          "execution_count": 270,
          "metadata": {},
          "output_type": "execute_result"
        }
      ],
      "source": [
        "# Il semble que ce soit une erreur de saisie, c'est une donnée que\n",
        "# nous n'allons pas utiliser car elle est eronnée.\n",
        "\n",
        "dataset[dataset['nb_pieces'] == 53]"
      ]
    },
    {
      "cell_type": "code",
      "execution_count": null,
      "metadata": {
        "colab": {
          "base_uri": "https://localhost:8080/",
          "height": 357
        },
        "id": "OEoSW13J3qZ-",
        "outputId": "a828321f-c12d-4ffb-e706-d623cbe78576"
      },
      "outputs": [
        {
          "data": {
            "text/html": [
              "\n",
              "  <div id=\"df-d2da1c8c-51c7-44b5-a37a-4fa6cc1d7547\">\n",
              "    <div class=\"colab-df-container\">\n",
              "      <div>\n",
              "<style scoped>\n",
              "    .dataframe tbody tr th:only-of-type {\n",
              "        vertical-align: middle;\n",
              "    }\n",
              "\n",
              "    .dataframe tbody tr th {\n",
              "        vertical-align: top;\n",
              "    }\n",
              "\n",
              "    .dataframe thead th {\n",
              "        text-align: right;\n",
              "    }\n",
              "</style>\n",
              "<table border=\"1\" class=\"dataframe\">\n",
              "  <thead>\n",
              "    <tr style=\"text-align: right;\">\n",
              "      <th></th>\n",
              "      <th>number</th>\n",
              "      <th>codeinsee</th>\n",
              "      <th>codepostal</th>\n",
              "      <th>cp</th>\n",
              "      <th>etage</th>\n",
              "      <th>idagence</th>\n",
              "      <th>idannonce</th>\n",
              "      <th>idtiers</th>\n",
              "      <th>idtypechauffage</th>\n",
              "      <th>idtypecommerce</th>\n",
              "      <th>idtypecuisine</th>\n",
              "      <th>idtypepublicationsourcecouplage</th>\n",
              "      <th>naturebien</th>\n",
              "      <th>nb_chambres</th>\n",
              "      <th>nb_photos</th>\n",
              "      <th>nb_pieces</th>\n",
              "      <th>position</th>\n",
              "      <th>prix</th>\n",
              "      <th>si_balcon</th>\n",
              "      <th>si_sdEau</th>\n",
              "      <th>si_sdbain</th>\n",
              "      <th>surface</th>\n",
              "      <th>typedebien</th>\n",
              "      <th>ville</th>\n",
              "    </tr>\n",
              "  </thead>\n",
              "  <tbody>\n",
              "    <tr>\n",
              "      <th>1</th>\n",
              "      <td>8</td>\n",
              "      <td>750110</td>\n",
              "      <td>75010</td>\n",
              "      <td>75010</td>\n",
              "      <td>0</td>\n",
              "      <td>12089</td>\n",
              "      <td>149750677</td>\n",
              "      <td>3765</td>\n",
              "      <td>0</td>\n",
              "      <td>0</td>\n",
              "      <td>aucune</td>\n",
              "      <td>SL</td>\n",
              "      <td>1</td>\n",
              "      <td>2</td>\n",
              "      <td>7</td>\n",
              "      <td>1</td>\n",
              "      <td>8</td>\n",
              "      <td>77500</td>\n",
              "      <td>0</td>\n",
              "      <td>0</td>\n",
              "      <td>0</td>\n",
              "      <td>8.49</td>\n",
              "      <td>Appartement</td>\n",
              "      <td>Paris 10ème</td>\n",
              "    </tr>\n",
              "    <tr>\n",
              "      <th>3</th>\n",
              "      <td>16</td>\n",
              "      <td>750110</td>\n",
              "      <td>75010</td>\n",
              "      <td>75010</td>\n",
              "      <td>0</td>\n",
              "      <td>12089</td>\n",
              "      <td>149750679</td>\n",
              "      <td>3765</td>\n",
              "      <td>0</td>\n",
              "      <td>0</td>\n",
              "      <td>aucune</td>\n",
              "      <td>SL</td>\n",
              "      <td>1</td>\n",
              "      <td>2</td>\n",
              "      <td>4</td>\n",
              "      <td>1</td>\n",
              "      <td>16</td>\n",
              "      <td>96000</td>\n",
              "      <td>0</td>\n",
              "      <td>0</td>\n",
              "      <td>0</td>\n",
              "      <td>10.26</td>\n",
              "      <td>Appartement</td>\n",
              "      <td>Paris 10ème</td>\n",
              "    </tr>\n",
              "    <tr>\n",
              "      <th>60</th>\n",
              "      <td>13</td>\n",
              "      <td>750110</td>\n",
              "      <td>75010</td>\n",
              "      <td>75010</td>\n",
              "      <td>0</td>\n",
              "      <td>12089</td>\n",
              "      <td>147458575</td>\n",
              "      <td>3765</td>\n",
              "      <td>0</td>\n",
              "      <td>0</td>\n",
              "      <td>aucune</td>\n",
              "      <td>SL</td>\n",
              "      <td>1</td>\n",
              "      <td>2</td>\n",
              "      <td>12</td>\n",
              "      <td>1</td>\n",
              "      <td>13</td>\n",
              "      <td>170000</td>\n",
              "      <td>0</td>\n",
              "      <td>0</td>\n",
              "      <td>0</td>\n",
              "      <td>18.75</td>\n",
              "      <td>Appartement</td>\n",
              "      <td>Paris 10ème</td>\n",
              "    </tr>\n",
              "    <tr>\n",
              "      <th>89</th>\n",
              "      <td>17</td>\n",
              "      <td>750108</td>\n",
              "      <td>75008</td>\n",
              "      <td>75008</td>\n",
              "      <td>0</td>\n",
              "      <td>7718</td>\n",
              "      <td>149857665</td>\n",
              "      <td>12356</td>\n",
              "      <td>0</td>\n",
              "      <td>0</td>\n",
              "      <td>équipée</td>\n",
              "      <td>SL</td>\n",
              "      <td>1</td>\n",
              "      <td>2</td>\n",
              "      <td>10</td>\n",
              "      <td>1</td>\n",
              "      <td>17</td>\n",
              "      <td>250000</td>\n",
              "      <td>0</td>\n",
              "      <td>0</td>\n",
              "      <td>0</td>\n",
              "      <td>17.00</td>\n",
              "      <td>Appartement</td>\n",
              "      <td>Paris 8ème</td>\n",
              "    </tr>\n",
              "    <tr>\n",
              "      <th>1236</th>\n",
              "      <td>0</td>\n",
              "      <td>750115</td>\n",
              "      <td>75015</td>\n",
              "      <td>75015</td>\n",
              "      <td>0</td>\n",
              "      <td>260996</td>\n",
              "      <td>146819689</td>\n",
              "      <td>282708</td>\n",
              "      <td>0</td>\n",
              "      <td>0</td>\n",
              "      <td>équipée</td>\n",
              "      <td>SL</td>\n",
              "      <td>1</td>\n",
              "      <td>22</td>\n",
              "      <td>4</td>\n",
              "      <td>3</td>\n",
              "      <td>0</td>\n",
              "      <td>567000</td>\n",
              "      <td>0</td>\n",
              "      <td>0</td>\n",
              "      <td>0</td>\n",
              "      <td>77.00</td>\n",
              "      <td>Appartement</td>\n",
              "      <td>Paris 15ème</td>\n",
              "    </tr>\n",
              "  </tbody>\n",
              "</table>\n",
              "</div>\n",
              "      <button class=\"colab-df-convert\" onclick=\"convertToInteractive('df-d2da1c8c-51c7-44b5-a37a-4fa6cc1d7547')\"\n",
              "              title=\"Convert this dataframe to an interactive table.\"\n",
              "              style=\"display:none;\">\n",
              "        \n",
              "  <svg xmlns=\"http://www.w3.org/2000/svg\" height=\"24px\"viewBox=\"0 0 24 24\"\n",
              "       width=\"24px\">\n",
              "    <path d=\"M0 0h24v24H0V0z\" fill=\"none\"/>\n",
              "    <path d=\"M18.56 5.44l.94 2.06.94-2.06 2.06-.94-2.06-.94-.94-2.06-.94 2.06-2.06.94zm-11 1L8.5 8.5l.94-2.06 2.06-.94-2.06-.94L8.5 2.5l-.94 2.06-2.06.94zm10 10l.94 2.06.94-2.06 2.06-.94-2.06-.94-.94-2.06-.94 2.06-2.06.94z\"/><path d=\"M17.41 7.96l-1.37-1.37c-.4-.4-.92-.59-1.43-.59-.52 0-1.04.2-1.43.59L10.3 9.45l-7.72 7.72c-.78.78-.78 2.05 0 2.83L4 21.41c.39.39.9.59 1.41.59.51 0 1.02-.2 1.41-.59l7.78-7.78 2.81-2.81c.8-.78.8-2.07 0-2.86zM5.41 20L4 18.59l7.72-7.72 1.47 1.35L5.41 20z\"/>\n",
              "  </svg>\n",
              "      </button>\n",
              "      \n",
              "  <style>\n",
              "    .colab-df-container {\n",
              "      display:flex;\n",
              "      flex-wrap:wrap;\n",
              "      gap: 12px;\n",
              "    }\n",
              "\n",
              "    .colab-df-convert {\n",
              "      background-color: #E8F0FE;\n",
              "      border: none;\n",
              "      border-radius: 50%;\n",
              "      cursor: pointer;\n",
              "      display: none;\n",
              "      fill: #1967D2;\n",
              "      height: 32px;\n",
              "      padding: 0 0 0 0;\n",
              "      width: 32px;\n",
              "    }\n",
              "\n",
              "    .colab-df-convert:hover {\n",
              "      background-color: #E2EBFA;\n",
              "      box-shadow: 0px 1px 2px rgba(60, 64, 67, 0.3), 0px 1px 3px 1px rgba(60, 64, 67, 0.15);\n",
              "      fill: #174EA6;\n",
              "    }\n",
              "\n",
              "    [theme=dark] .colab-df-convert {\n",
              "      background-color: #3B4455;\n",
              "      fill: #D2E3FC;\n",
              "    }\n",
              "\n",
              "    [theme=dark] .colab-df-convert:hover {\n",
              "      background-color: #434B5C;\n",
              "      box-shadow: 0px 1px 3px 1px rgba(0, 0, 0, 0.15);\n",
              "      filter: drop-shadow(0px 1px 2px rgba(0, 0, 0, 0.3));\n",
              "      fill: #FFFFFF;\n",
              "    }\n",
              "  </style>\n",
              "\n",
              "      <script>\n",
              "        const buttonEl =\n",
              "          document.querySelector('#df-d2da1c8c-51c7-44b5-a37a-4fa6cc1d7547 button.colab-df-convert');\n",
              "        buttonEl.style.display =\n",
              "          google.colab.kernel.accessAllowed ? 'block' : 'none';\n",
              "\n",
              "        async function convertToInteractive(key) {\n",
              "          const element = document.querySelector('#df-d2da1c8c-51c7-44b5-a37a-4fa6cc1d7547');\n",
              "          const dataTable =\n",
              "            await google.colab.kernel.invokeFunction('convertToInteractive',\n",
              "                                                     [key], {});\n",
              "          if (!dataTable) return;\n",
              "\n",
              "          const docLinkHtml = 'Like what you see? Visit the ' +\n",
              "            '<a target=\"_blank\" href=https://colab.research.google.com/notebooks/data_table.ipynb>data table notebook</a>'\n",
              "            + ' to learn more about interactive tables.';\n",
              "          element.innerHTML = '';\n",
              "          dataTable['output_type'] = 'display_data';\n",
              "          await google.colab.output.renderOutput(dataTable, element);\n",
              "          const docLink = document.createElement('div');\n",
              "          docLink.innerHTML = docLinkHtml;\n",
              "          element.appendChild(docLink);\n",
              "        }\n",
              "      </script>\n",
              "    </div>\n",
              "  </div>\n",
              "  "
            ],
            "text/plain": [
              "      number  codeinsee  codepostal     cp  etage  idagence  idannonce  \\\n",
              "1          8     750110       75010  75010      0     12089  149750677   \n",
              "3         16     750110       75010  75010      0     12089  149750679   \n",
              "60        13     750110       75010  75010      0     12089  147458575   \n",
              "89        17     750108       75008  75008      0      7718  149857665   \n",
              "1236       0     750115       75015  75015      0    260996  146819689   \n",
              "\n",
              "      idtiers  idtypechauffage  idtypecommerce idtypecuisine  \\\n",
              "1        3765                0               0        aucune   \n",
              "3        3765                0               0        aucune   \n",
              "60       3765                0               0        aucune   \n",
              "89      12356                0               0       équipée   \n",
              "1236   282708                0               0       équipée   \n",
              "\n",
              "     idtypepublicationsourcecouplage  naturebien  nb_chambres  nb_photos  \\\n",
              "1                                 SL           1            2          7   \n",
              "3                                 SL           1            2          4   \n",
              "60                                SL           1            2         12   \n",
              "89                                SL           1            2         10   \n",
              "1236                              SL           1           22          4   \n",
              "\n",
              "      nb_pieces  position    prix  si_balcon  si_sdEau  si_sdbain  surface  \\\n",
              "1             1         8   77500          0         0          0     8.49   \n",
              "3             1        16   96000          0         0          0    10.26   \n",
              "60            1        13  170000          0         0          0    18.75   \n",
              "89            1        17  250000          0         0          0    17.00   \n",
              "1236          3         0  567000          0         0          0    77.00   \n",
              "\n",
              "       typedebien        ville  \n",
              "1     Appartement  Paris 10ème  \n",
              "3     Appartement  Paris 10ème  \n",
              "60    Appartement  Paris 10ème  \n",
              "89    Appartement   Paris 8ème  \n",
              "1236  Appartement  Paris 15ème  "
            ]
          },
          "execution_count": 271,
          "metadata": {},
          "output_type": "execute_result"
        }
      ],
      "source": [
        "# Théoriquement, il ne devrait pas y avoir plus de chambres que de pièces \n",
        "dataset[(dataset['nb_pieces'] - dataset['nb_chambres'] < 0)]"
      ]
    },
    {
      "cell_type": "code",
      "execution_count": null,
      "metadata": {
        "colab": {
          "base_uri": "https://localhost:8080/",
          "height": 162
        },
        "id": "grb_wpep3qZ_",
        "outputId": "9f7db790-503d-455d-db6d-f0e3fc75b7fc"
      },
      "outputs": [
        {
          "data": {
            "text/html": [
              "\n",
              "  <div id=\"df-2b10a2fd-68ff-4dc5-abcc-a6d646445239\">\n",
              "    <div class=\"colab-df-container\">\n",
              "      <div>\n",
              "<style scoped>\n",
              "    .dataframe tbody tr th:only-of-type {\n",
              "        vertical-align: middle;\n",
              "    }\n",
              "\n",
              "    .dataframe tbody tr th {\n",
              "        vertical-align: top;\n",
              "    }\n",
              "\n",
              "    .dataframe thead th {\n",
              "        text-align: right;\n",
              "    }\n",
              "</style>\n",
              "<table border=\"1\" class=\"dataframe\">\n",
              "  <thead>\n",
              "    <tr style=\"text-align: right;\">\n",
              "      <th></th>\n",
              "      <th>number</th>\n",
              "      <th>codeinsee</th>\n",
              "      <th>codepostal</th>\n",
              "      <th>cp</th>\n",
              "      <th>etage</th>\n",
              "      <th>idagence</th>\n",
              "      <th>idannonce</th>\n",
              "      <th>idtiers</th>\n",
              "      <th>idtypechauffage</th>\n",
              "      <th>idtypecommerce</th>\n",
              "      <th>idtypecuisine</th>\n",
              "      <th>idtypepublicationsourcecouplage</th>\n",
              "      <th>naturebien</th>\n",
              "      <th>nb_chambres</th>\n",
              "      <th>nb_photos</th>\n",
              "      <th>nb_pieces</th>\n",
              "      <th>position</th>\n",
              "      <th>prix</th>\n",
              "      <th>si_balcon</th>\n",
              "      <th>si_sdEau</th>\n",
              "      <th>si_sdbain</th>\n",
              "      <th>surface</th>\n",
              "      <th>typedebien</th>\n",
              "      <th>ville</th>\n",
              "    </tr>\n",
              "  </thead>\n",
              "  <tbody>\n",
              "    <tr>\n",
              "      <th>2030</th>\n",
              "      <td>3</td>\n",
              "      <td>750116</td>\n",
              "      <td>75016</td>\n",
              "      <td>75016</td>\n",
              "      <td>0</td>\n",
              "      <td>76979</td>\n",
              "      <td>147347131</td>\n",
              "      <td>108380</td>\n",
              "      <td>0</td>\n",
              "      <td>0</td>\n",
              "      <td>categorie_0</td>\n",
              "      <td>SL</td>\n",
              "      <td>1</td>\n",
              "      <td>1</td>\n",
              "      <td>6</td>\n",
              "      <td>4</td>\n",
              "      <td>3</td>\n",
              "      <td>747840</td>\n",
              "      <td>0</td>\n",
              "      <td>0</td>\n",
              "      <td>0</td>\n",
              "      <td>0.0</td>\n",
              "      <td>Appartement</td>\n",
              "      <td>Paris 16ème</td>\n",
              "    </tr>\n",
              "  </tbody>\n",
              "</table>\n",
              "</div>\n",
              "      <button class=\"colab-df-convert\" onclick=\"convertToInteractive('df-2b10a2fd-68ff-4dc5-abcc-a6d646445239')\"\n",
              "              title=\"Convert this dataframe to an interactive table.\"\n",
              "              style=\"display:none;\">\n",
              "        \n",
              "  <svg xmlns=\"http://www.w3.org/2000/svg\" height=\"24px\"viewBox=\"0 0 24 24\"\n",
              "       width=\"24px\">\n",
              "    <path d=\"M0 0h24v24H0V0z\" fill=\"none\"/>\n",
              "    <path d=\"M18.56 5.44l.94 2.06.94-2.06 2.06-.94-2.06-.94-.94-2.06-.94 2.06-2.06.94zm-11 1L8.5 8.5l.94-2.06 2.06-.94-2.06-.94L8.5 2.5l-.94 2.06-2.06.94zm10 10l.94 2.06.94-2.06 2.06-.94-2.06-.94-.94-2.06-.94 2.06-2.06.94z\"/><path d=\"M17.41 7.96l-1.37-1.37c-.4-.4-.92-.59-1.43-.59-.52 0-1.04.2-1.43.59L10.3 9.45l-7.72 7.72c-.78.78-.78 2.05 0 2.83L4 21.41c.39.39.9.59 1.41.59.51 0 1.02-.2 1.41-.59l7.78-7.78 2.81-2.81c.8-.78.8-2.07 0-2.86zM5.41 20L4 18.59l7.72-7.72 1.47 1.35L5.41 20z\"/>\n",
              "  </svg>\n",
              "      </button>\n",
              "      \n",
              "  <style>\n",
              "    .colab-df-container {\n",
              "      display:flex;\n",
              "      flex-wrap:wrap;\n",
              "      gap: 12px;\n",
              "    }\n",
              "\n",
              "    .colab-df-convert {\n",
              "      background-color: #E8F0FE;\n",
              "      border: none;\n",
              "      border-radius: 50%;\n",
              "      cursor: pointer;\n",
              "      display: none;\n",
              "      fill: #1967D2;\n",
              "      height: 32px;\n",
              "      padding: 0 0 0 0;\n",
              "      width: 32px;\n",
              "    }\n",
              "\n",
              "    .colab-df-convert:hover {\n",
              "      background-color: #E2EBFA;\n",
              "      box-shadow: 0px 1px 2px rgba(60, 64, 67, 0.3), 0px 1px 3px 1px rgba(60, 64, 67, 0.15);\n",
              "      fill: #174EA6;\n",
              "    }\n",
              "\n",
              "    [theme=dark] .colab-df-convert {\n",
              "      background-color: #3B4455;\n",
              "      fill: #D2E3FC;\n",
              "    }\n",
              "\n",
              "    [theme=dark] .colab-df-convert:hover {\n",
              "      background-color: #434B5C;\n",
              "      box-shadow: 0px 1px 3px 1px rgba(0, 0, 0, 0.15);\n",
              "      filter: drop-shadow(0px 1px 2px rgba(0, 0, 0, 0.3));\n",
              "      fill: #FFFFFF;\n",
              "    }\n",
              "  </style>\n",
              "\n",
              "      <script>\n",
              "        const buttonEl =\n",
              "          document.querySelector('#df-2b10a2fd-68ff-4dc5-abcc-a6d646445239 button.colab-df-convert');\n",
              "        buttonEl.style.display =\n",
              "          google.colab.kernel.accessAllowed ? 'block' : 'none';\n",
              "\n",
              "        async function convertToInteractive(key) {\n",
              "          const element = document.querySelector('#df-2b10a2fd-68ff-4dc5-abcc-a6d646445239');\n",
              "          const dataTable =\n",
              "            await google.colab.kernel.invokeFunction('convertToInteractive',\n",
              "                                                     [key], {});\n",
              "          if (!dataTable) return;\n",
              "\n",
              "          const docLinkHtml = 'Like what you see? Visit the ' +\n",
              "            '<a target=\"_blank\" href=https://colab.research.google.com/notebooks/data_table.ipynb>data table notebook</a>'\n",
              "            + ' to learn more about interactive tables.';\n",
              "          element.innerHTML = '';\n",
              "          dataTable['output_type'] = 'display_data';\n",
              "          await google.colab.output.renderOutput(dataTable, element);\n",
              "          const docLink = document.createElement('div');\n",
              "          docLink.innerHTML = docLinkHtml;\n",
              "          element.appendChild(docLink);\n",
              "        }\n",
              "      </script>\n",
              "    </div>\n",
              "  </div>\n",
              "  "
            ],
            "text/plain": [
              "      number  codeinsee  codepostal     cp  etage  idagence  idannonce  \\\n",
              "2030       3     750116       75016  75016      0     76979  147347131   \n",
              "\n",
              "      idtiers  idtypechauffage  idtypecommerce idtypecuisine  \\\n",
              "2030   108380                0               0   categorie_0   \n",
              "\n",
              "     idtypepublicationsourcecouplage  naturebien  nb_chambres  nb_photos  \\\n",
              "2030                              SL           1            1          6   \n",
              "\n",
              "      nb_pieces  position    prix  si_balcon  si_sdEau  si_sdbain  surface  \\\n",
              "2030          4         3  747840          0         0          0      0.0   \n",
              "\n",
              "       typedebien        ville  \n",
              "2030  Appartement  Paris 16ème  "
            ]
          },
          "execution_count": 272,
          "metadata": {},
          "output_type": "execute_result"
        }
      ],
      "source": [
        "# Vendre une surface de 0 m2 pour 747 840 euros relève du génie. \n",
        "# Plus serieusement, il semble que ce soit aussi une erreur de saisie. \n",
        "dataset[dataset['surface'] < 8]"
      ]
    },
    {
      "cell_type": "code",
      "execution_count": null,
      "metadata": {
        "id": "YY2U37zy3qZ_"
      },
      "outputs": [],
      "source": [
        "# les index problématiques sont 1, 3, 60, 80, 1236, 1318 et 2030\n",
        "# nous allons les retirer. \n",
        "dataset.drop([1, 3, 60, 80, 1236, 1318, 2030], axis = 0, inplace = True)"
      ]
    },
    {
      "cell_type": "code",
      "execution_count": null,
      "metadata": {
        "colab": {
          "base_uri": "https://localhost:8080/",
          "height": 185
        },
        "id": "AriDbe4-3qZ_",
        "outputId": "43309066-c699-47ad-8167-946a1d67c491"
      },
      "outputs": [
        {
          "data": {
            "image/png": "[encoded data removed]",
            "text/plain": [
              "<Figure size 1296x216 with 4 Axes>"
            ]
          },
          "metadata": {
            "needs_background": "light"
          },
          "output_type": "display_data"
        }
      ],
      "source": [
        "# Distribution des variables quantitatives\n",
        "\n",
        "plt.rcParams[\"figure.figsize\"]\n",
        "\n",
        "fig, axs = plt.subplots(1,4, figsize=(18,3))\n",
        "for i, feature in enumerate(numerical):\n",
        "    sns.histplot(dataset[feature], ax = axs[i])\n",
        "plt.show()"
      ]
    },
    {
      "cell_type": "code",
      "execution_count": null,
      "metadata": {
        "colab": {
          "base_uri": "https://localhost:8080/",
          "height": 196
        },
        "id": "H1J7wsI33qZ_",
        "outputId": "cee176af-3023-4532-d8f9-1bc519a2789d"
      },
      "outputs": [
        {
          "data": {
            "image/png": "[encoded data removed]",
            "text/plain": [
              "<Figure size 1296x216 with 4 Axes>"
            ]
          },
          "metadata": {
            "needs_background": "light"
          },
          "output_type": "display_data"
        }
      ],
      "source": [
        "# Prix en fonction des différentes variabes quantitatives\n",
        "\n",
        "fig, axs = plt.subplots(1,4, figsize=(18,3))\n",
        "for i, feature in enumerate(numerical):\n",
        "    sns.scatterplot(x = dataset[feature], y = dataset['prix'], ax = axs[i])\n",
        "plt.show()"
      ]
    },
    {
      "cell_type": "markdown",
      "metadata": {
        "id": "8NCQGs5G3qZ_"
      },
      "source": [
        "A priori le prix semble fortement corrélé à la surface et dans une moindre mesure au nombre de pièces"
      ]
    },
    {
      "cell_type": "code",
      "execution_count": null,
      "metadata": {
        "colab": {
          "base_uri": "https://localhost:8080/",
          "height": 206
        },
        "id": "Qd35EfTq3qZ_",
        "outputId": "ed8d0bcf-2b9f-44a0-eeee-beb6a841a643"
      },
      "outputs": [
        {
          "data": {
            "text/html": [
              "\n",
              "  <div id=\"df-a1c455f2-44c5-4101-9279-a2208b2ef741\">\n",
              "    <div class=\"colab-df-container\">\n",
              "      <div>\n",
              "<style scoped>\n",
              "    .dataframe tbody tr th:only-of-type {\n",
              "        vertical-align: middle;\n",
              "    }\n",
              "\n",
              "    .dataframe tbody tr th {\n",
              "        vertical-align: top;\n",
              "    }\n",
              "\n",
              "    .dataframe thead th {\n",
              "        text-align: right;\n",
              "    }\n",
              "</style>\n",
              "<table border=\"1\" class=\"dataframe\">\n",
              "  <thead>\n",
              "    <tr style=\"text-align: right;\">\n",
              "      <th></th>\n",
              "      <th>nb_chambres</th>\n",
              "      <th>nb_pieces</th>\n",
              "      <th>nb_photos</th>\n",
              "      <th>surface</th>\n",
              "      <th>prix</th>\n",
              "    </tr>\n",
              "  </thead>\n",
              "  <tbody>\n",
              "    <tr>\n",
              "      <th>nb_chambres</th>\n",
              "      <td>1.000000</td>\n",
              "      <td>0.913914</td>\n",
              "      <td>0.064994</td>\n",
              "      <td>0.811862</td>\n",
              "      <td>0.461506</td>\n",
              "    </tr>\n",
              "    <tr>\n",
              "      <th>nb_pieces</th>\n",
              "      <td>0.913914</td>\n",
              "      <td>1.000000</td>\n",
              "      <td>0.033989</td>\n",
              "      <td>0.867358</td>\n",
              "      <td>0.580507</td>\n",
              "    </tr>\n",
              "    <tr>\n",
              "      <th>nb_photos</th>\n",
              "      <td>0.064994</td>\n",
              "      <td>0.033989</td>\n",
              "      <td>1.000000</td>\n",
              "      <td>0.159380</td>\n",
              "      <td>0.238176</td>\n",
              "    </tr>\n",
              "    <tr>\n",
              "      <th>surface</th>\n",
              "      <td>0.811862</td>\n",
              "      <td>0.867358</td>\n",
              "      <td>0.159380</td>\n",
              "      <td>1.000000</td>\n",
              "      <td>0.753941</td>\n",
              "    </tr>\n",
              "    <tr>\n",
              "      <th>prix</th>\n",
              "      <td>0.461506</td>\n",
              "      <td>0.580507</td>\n",
              "      <td>0.238176</td>\n",
              "      <td>0.753941</td>\n",
              "      <td>1.000000</td>\n",
              "    </tr>\n",
              "  </tbody>\n",
              "</table>\n",
              "</div>\n",
              "      <button class=\"colab-df-convert\" onclick=\"convertToInteractive('df-a1c455f2-44c5-4101-9279-a2208b2ef741')\"\n",
              "              title=\"Convert this dataframe to an interactive table.\"\n",
              "              style=\"display:none;\">\n",
              "        \n",
              "  <svg xmlns=\"http://www.w3.org/2000/svg\" height=\"24px\"viewBox=\"0 0 24 24\"\n",
              "       width=\"24px\">\n",
              "    <path d=\"M0 0h24v24H0V0z\" fill=\"none\"/>\n",
              "    <path d=\"M18.56 5.44l.94 2.06.94-2.06 2.06-.94-2.06-.94-.94-2.06-.94 2.06-2.06.94zm-11 1L8.5 8.5l.94-2.06 2.06-.94-2.06-.94L8.5 2.5l-.94 2.06-2.06.94zm10 10l.94 2.06.94-2.06 2.06-.94-2.06-.94-.94-2.06-.94 2.06-2.06.94z\"/><path d=\"M17.41 7.96l-1.37-1.37c-.4-.4-.92-.59-1.43-.59-.52 0-1.04.2-1.43.59L10.3 9.45l-7.72 7.72c-.78.78-.78 2.05 0 2.83L4 21.41c.39.39.9.59 1.41.59.51 0 1.02-.2 1.41-.59l7.78-7.78 2.81-2.81c.8-.78.8-2.07 0-2.86zM5.41 20L4 18.59l7.72-7.72 1.47 1.35L5.41 20z\"/>\n",
              "  </svg>\n",
              "      </button>\n",
              "      \n",
              "  <style>\n",
              "    .colab-df-container {\n",
              "      display:flex;\n",
              "      flex-wrap:wrap;\n",
              "      gap: 12px;\n",
              "    }\n",
              "\n",
              "    .colab-df-convert {\n",
              "      background-color: #E8F0FE;\n",
              "      border: none;\n",
              "      border-radius: 50%;\n",
              "      cursor: pointer;\n",
              "      display: none;\n",
              "      fill: #1967D2;\n",
              "      height: 32px;\n",
              "      padding: 0 0 0 0;\n",
              "      width: 32px;\n",
              "    }\n",
              "\n",
              "    .colab-df-convert:hover {\n",
              "      background-color: #E2EBFA;\n",
              "      box-shadow: 0px 1px 2px rgba(60, 64, 67, 0.3), 0px 1px 3px 1px rgba(60, 64, 67, 0.15);\n",
              "      fill: #174EA6;\n",
              "    }\n",
              "\n",
              "    [theme=dark] .colab-df-convert {\n",
              "      background-color: #3B4455;\n",
              "      fill: #D2E3FC;\n",
              "    }\n",
              "\n",
              "    [theme=dark] .colab-df-convert:hover {\n",
              "      background-color: #434B5C;\n",
              "      box-shadow: 0px 1px 3px 1px rgba(0, 0, 0, 0.15);\n",
              "      filter: drop-shadow(0px 1px 2px rgba(0, 0, 0, 0.3));\n",
              "      fill: #FFFFFF;\n",
              "    }\n",
              "  </style>\n",
              "\n",
              "      <script>\n",
              "        const buttonEl =\n",
              "          document.querySelector('#df-a1c455f2-44c5-4101-9279-a2208b2ef741 button.colab-df-convert');\n",
              "        buttonEl.style.display =\n",
              "          google.colab.kernel.accessAllowed ? 'block' : 'none';\n",
              "\n",
              "        async function convertToInteractive(key) {\n",
              "          const element = document.querySelector('#df-a1c455f2-44c5-4101-9279-a2208b2ef741');\n",
              "          const dataTable =\n",
              "            await google.colab.kernel.invokeFunction('convertToInteractive',\n",
              "                                                     [key], {});\n",
              "          if (!dataTable) return;\n",
              "\n",
              "          const docLinkHtml = 'Like what you see? Visit the ' +\n",
              "            '<a target=\"_blank\" href=https://colab.research.google.com/notebooks/data_table.ipynb>data table notebook</a>'\n",
              "            + ' to learn more about interactive tables.';\n",
              "          element.innerHTML = '';\n",
              "          dataTable['output_type'] = 'display_data';\n",
              "          await google.colab.output.renderOutput(dataTable, element);\n",
              "          const docLink = document.createElement('div');\n",
              "          docLink.innerHTML = docLinkHtml;\n",
              "          element.appendChild(docLink);\n",
              "        }\n",
              "      </script>\n",
              "    </div>\n",
              "  </div>\n",
              "  "
            ],
            "text/plain": [
              "             nb_chambres  nb_pieces  nb_photos   surface      prix\n",
              "nb_chambres     1.000000   0.913914   0.064994  0.811862  0.461506\n",
              "nb_pieces       0.913914   1.000000   0.033989  0.867358  0.580507\n",
              "nb_photos       0.064994   0.033989   1.000000  0.159380  0.238176\n",
              "surface         0.811862   0.867358   0.159380  1.000000  0.753941\n",
              "prix            0.461506   0.580507   0.238176  0.753941  1.000000"
            ]
          },
          "execution_count": 276,
          "metadata": {},
          "output_type": "execute_result"
        }
      ],
      "source": [
        "# Matrice de corrélations\n",
        "dataset[numerical + ['prix']].corr()"
      ]
    },
    {
      "cell_type": "markdown",
      "metadata": {
        "id": "kNi3RMiY3qaA"
      },
      "source": [
        "## Analyse des variables qualitatives"
      ]
    },
    {
      "cell_type": "code",
      "execution_count": null,
      "metadata": {
        "colab": {
          "base_uri": "https://localhost:8080/"
        },
        "id": "2nllUnYc3qaA",
        "outputId": "730d0c27-b662-4767-88bd-ebb9226d5b68"
      },
      "outputs": [
        {
          "data": {
            "text/plain": [
              "si_balcon                             2\n",
              "typedebien                            2\n",
              "idtypepublicationsourcecouplage       3\n",
              "naturebien                            3\n",
              "idtypecuisine                        10\n",
              "ville                               112\n",
              "idagence                           1412\n",
              "idannonce                          3808\n",
              "position                             20\n",
              "dtype: int64"
            ]
          },
          "execution_count": 277,
          "metadata": {},
          "output_type": "execute_result"
        }
      ],
      "source": [
        "dataset[[c for c in categorical if c not in to_remove]].nunique()"
      ]
    },
    {
      "cell_type": "code",
      "execution_count": null,
      "metadata": {
        "colab": {
          "base_uri": "https://localhost:8080/",
          "height": 194
        },
        "id": "zm4o7Hs13qaA",
        "outputId": "be95f337-d9d1-438e-b268-d3c17316deb7"
      },
      "outputs": [
        {
          "data": {
            "image/png": "[encoded data removed]",
            "text/plain": [
              "<Figure size 1296x216 with 4 Axes>"
            ]
          },
          "metadata": {
            "needs_background": "light"
          },
          "output_type": "display_data"
        }
      ],
      "source": [
        "# On peut déja commencer pas visualiser les variables qui n'ont pas beaucoup de modalités (qui ont des cardinalités faibles).\n",
        "\n",
        "categorical_sub = ['si_balcon', 'typedebien', 'idtypepublicationsourcecouplage', 'naturebien']\n",
        "fig, axs = plt.subplots(1, 4, figsize=(18,3))\n",
        "for i, feature in enumerate(categorical_sub):\n",
        "    sns.kdeplot(data = dataset, x=\"prix\", hue = feature, fill=True, ax = axs[i])\n",
        "\n",
        "plt.show()"
      ]
    },
    {
      "cell_type": "markdown",
      "metadata": {
        "id": "EvAW4r2F3qaA"
      },
      "source": [
        "Les autres variables comportent de grandes cardinalités ; il est difficile de les analyser visuellement, en l'état. De plus, les variables qualitatives (ou catégorielles) avec de grandes cardinalités peuvent affecter les performances du modèle prédictif.\n",
        "\n",
        "Une manière de procéder est de diminuer leur cardinalité. Pour ce faire, plusieurs stratégies:\n",
        "- on peut garder uniquement les modalités qui ont de grandes fréquences et mettre les autres dans un groupe 'autre'.\n",
        "- on peut créer des groupes associés à l'importance de la fréquence.\n",
        "- Sinon, on peut aussi regrouper de petits groupes pour en former des plus grands.  \n",
        "...\n",
        "\n",
        "le procédé qui consiste à modifier, transformer, associer des features s'appelle le feature engineering"
      ]
    },
    {
      "cell_type": "markdown",
      "metadata": {
        "id": "BHYmSEey3qaA"
      },
      "source": [
        "## Feature Engineering"
      ]
    },
    {
      "cell_type": "code",
      "execution_count": null,
      "metadata": {
        "colab": {
          "base_uri": "https://localhost:8080/"
        },
        "id": "yLtxlqgv3qaA",
        "outputId": "76799f21-3a65-456d-830d-b6c17c924ff4"
      },
      "outputs": [
        {
          "data": {
            "text/plain": [
              "Paris 16ème    1917\n",
              "Paris 6ème     1021\n",
              "Paris 14ème     797\n",
              "Paris 17ème     747\n",
              "Paris 18ème     710\n",
              "Paris 15ème     500\n",
              "Paris 8ème      434\n",
              "Paris 3ème      297\n",
              "Paris 13ème     278\n",
              "Paris 7ème      248\n",
              "Paris 11ème     247\n",
              "Paris 1er       245\n",
              "Paris 10ème     216\n",
              "Paris 19ème     212\n",
              "Paris 9ème      204\n",
              "Paris 20ème     195\n",
              "Paris 12ème     162\n",
              "Paris 4ème      162\n",
              "Banlieue        120\n",
              "Paris 5ème      115\n",
              "Paris 2ème       65\n",
              "Name: ville, dtype: int64"
            ]
          },
          "execution_count": 279,
          "metadata": {},
          "output_type": "execute_result"
        }
      ],
      "source": [
        "# Ici, pour la variable ville, nous allons distinguer entre les arrondissement de Paris et la Banlieue\n",
        "# C'est une regroupement très grossier mais nous allons faire cela en première approximation.\n",
        "dataset['ville'] = dataset['ville'].apply(lambda x: x if x.startswith('Paris') else 'Banlieue')\n",
        "dataset['ville'].value_counts()"
      ]
    },
    {
      "cell_type": "code",
      "execution_count": null,
      "metadata": {
        "colab": {
          "base_uri": "https://localhost:8080/",
          "height": 451
        },
        "id": "fymlTeju3qaB",
        "outputId": "732eed4d-4a77-45a1-e4bc-cfc0f538b672"
      },
      "outputs": [
        {
          "data": {
            "image/png": "[encoded data removed]",
            "text/plain": [
              "<Figure size 720x432 with 1 Axes>"
            ]
          },
          "metadata": {
            "needs_background": "light"
          },
          "output_type": "display_data"
        }
      ],
      "source": [
        "# On peut s'aider des boites à moustaches pour visualiser la distribution du prix \n",
        "# en fonction de la ville. La ville à clairement un impact sur le prix.\n",
        "\n",
        "fig, ax = plt.subplots(figsize=(10,6))\n",
        "sns.boxplot(y = dataset['prix'], x = dataset['ville'], ax = ax)\n",
        "ax.tick_params(axis='x', rotation=90)"
      ]
    },
    {
      "cell_type": "code",
      "execution_count": null,
      "metadata": {
        "colab": {
          "base_uri": "https://localhost:8080/"
        },
        "id": "sBVe44J63qaB",
        "outputId": "97042475-1442-4068-d5c4-bb1b3f519239"
      },
      "outputs": [
        {
          "data": {
            "text/plain": [
              "array(['équipée', 'aucune', 'categorie_0', 'coin cuisine équipé',\n",
              "       'coin cuisine', 'séparée', 'séparée équipée', 'américaine',\n",
              "       'américaine équipée', 'catégorie_1'], dtype=object)"
            ]
          },
          "execution_count": 281,
          "metadata": {},
          "output_type": "execute_result"
        }
      ],
      "source": [
        "# Pour la variable cuisine, voyons les valeures uniques qu'elle contient.\n",
        "dataset['idtypecuisine'].unique()"
      ]
    },
    {
      "cell_type": "code",
      "execution_count": null,
      "metadata": {
        "colab": {
          "base_uri": "https://localhost:8080/",
          "height": 488
        },
        "id": "hs9CfdNB3qaB",
        "outputId": "bfb575d0-4be4-4c83-c3ae-57e8766308e7"
      },
      "outputs": [
        {
          "data": {
            "image/png": "[encoded data removed]",
            "text/plain": [
              "<Figure size 720x432 with 1 Axes>"
            ]
          },
          "metadata": {
            "needs_background": "light"
          },
          "output_type": "display_data"
        }
      ],
      "source": [
        "# Voici la distribution du prix en fonction du type de cuisine \n",
        "# On peut, par exemple essayer de regrouper les catégories qui semblent haut de gamme et les autres.\n",
        "\n",
        "fig, ax = plt.subplots(figsize=(10,6))\n",
        "sns.boxplot(y = dataset['prix'], x = dataset['idtypecuisine'], ax = ax)\n",
        "ax.tick_params(axis='x', rotation=90)"
      ]
    },
    {
      "cell_type": "code",
      "execution_count": null,
      "metadata": {
        "colab": {
          "base_uri": "https://localhost:8080/"
        },
        "id": "FIUELIPL3qaB",
        "outputId": "c8faf496-112c-4fa6-9ae6-76b7d519d467"
      },
      "outputs": [
        {
          "data": {
            "text/plain": [
              "gamme haute    4815\n",
              "autre          4077\n",
              "Name: idtypecuisine, dtype: int64"
            ]
          },
          "execution_count": 283,
          "metadata": {},
          "output_type": "execute_result"
        }
      ],
      "source": [
        "high_end = ['categorie_0', 'aucune', 'séparée équipée']\n",
        "dataset['idtypecuisine'] = dataset['idtypecuisine'].apply(lambda x: 'gamme haute' if x in  high_end else 'autre')\n",
        "\n",
        "dataset['idtypecuisine'].value_counts()"
      ]
    },
    {
      "cell_type": "code",
      "execution_count": null,
      "metadata": {
        "colab": {
          "base_uri": "https://localhost:8080/",
          "height": 459
        },
        "id": "H0MoLpKw3qaB",
        "outputId": "42cd38ff-a4e5-4340-b5f0-6a243e917a28"
      },
      "outputs": [
        {
          "data": {
            "image/png": "[encoded data removed]",
            "text/plain": [
              "<Figure size 720x432 with 1 Axes>"
            ]
          },
          "metadata": {
            "needs_background": "light"
          },
          "output_type": "display_data"
        }
      ],
      "source": [
        "# Voici la distribution après transformation\n",
        "\n",
        "fig, ax = plt.subplots(figsize=(10,6))\n",
        "sns.boxplot(y = dataset['prix'], x = dataset['idtypecuisine'], ax = ax)\n",
        "ax.tick_params(axis='x', rotation=90)"
      ]
    },
    {
      "cell_type": "code",
      "execution_count": null,
      "metadata": {
        "colab": {
          "base_uri": "https://localhost:8080/",
          "height": 312
        },
        "id": "ymBFG_pQ3qaB",
        "outputId": "d3c2fb1f-da47-4040-f000-67f3ba2c6bf3"
      },
      "outputs": [
        {
          "data": {
            "text/plain": [
              "119630    67\n",
              "252492    34\n",
              "113840    28\n",
              "310057    27\n",
              "38825     25\n",
              "          ..\n",
              "68311      1\n",
              "50140      1\n",
              "238353     1\n",
              "115806     1\n",
              "282901     1\n",
              "Name: idagence, Length: 1412, dtype: int64"
            ]
          },
          "metadata": {},
          "output_type": "display_data"
        },
        {
          "name": "stdout",
          "output_type": "stream",
          "text": [
            "[67 34 28 27 25 21 20 20 19 19 17 17 16 16 16 16 15 15 14 14 13 13 12 12\n",
            " 12 12 12 12 12 12 11 11 11 11 11 11 11 11 11 10 10 10 10 10 10 10 10 10\n",
            " 10 10  9  9  9  9  9  9  9  9  9  9  9  9  9  9  9  8  8  8  8  8  8  8\n",
            "  8  8  8  8  8  8  8  8  8  8  8  8  8  8  8  7  7  7  7  7  7  7  7  7\n",
            "  7  7  7  7]\n"
          ]
        }
      ],
      "source": [
        "# Concernant les agences nous allons distinguer les grosses agences, des petites.\n",
        "# Pour cela nous ferons l'hypothèse qu'une grosse agence est une agence qui publie beaucoup d'annonces\n",
        "\n",
        "idagence_counts = dataset.drop_duplicates(subset='idannonce')['idagence'].value_counts()\n",
        "display(idagence_counts)\n",
        "print(idagence_counts.values[:100])"
      ]
    },
    {
      "cell_type": "code",
      "execution_count": null,
      "metadata": {
        "id": "7QbfJ42F3qaC"
      },
      "outputs": [],
      "source": [
        "# Si l'agence a plus de 15 annonces uniques alors c'est une grosse agence. \n",
        "# Si c'est entre 10 et 14 alors c'est une moyenne\n",
        "# Si c'est entre 6 et 9 c'est une petite\n",
        "# En dessous de 5 c'est une très petite.\n",
        "agency_mapper = {}\n",
        "for id_agence, freq in idagence_counts.iteritems():\n",
        "    if freq >= 15:\n",
        "        agency_mapper[id_agence] = 'grosse'\n",
        "    elif  10 <= freq <= 14:\n",
        "        agency_mapper[id_agence] = 'moyenne'\n",
        "    elif  6 <= freq  <= 9:\n",
        "        agency_mapper[id_agence] = 'petite'\n",
        "    elif freq  <= 5:\n",
        "        agency_mapper[id_agence] = 'très petite'"
      ]
    },
    {
      "cell_type": "code",
      "execution_count": null,
      "metadata": {
        "colab": {
          "base_uri": "https://localhost:8080/"
        },
        "id": "9t_BFAkv3qaC",
        "outputId": "36ec09d1-731d-4509-cabf-60d341fe5dbb"
      },
      "outputs": [
        {
          "data": {
            "text/plain": [
              "très petite    5828\n",
              "petite         1385\n",
              "grosse         1115\n",
              "moyenne         564\n",
              "Name: idagence, dtype: int64"
            ]
          },
          "execution_count": 287,
          "metadata": {},
          "output_type": "execute_result"
        }
      ],
      "source": [
        "dataset['idagence'] = dataset['idagence'].map(agency_mapper)\n",
        "dataset['idagence'].value_counts()"
      ]
    },
    {
      "cell_type": "code",
      "execution_count": null,
      "metadata": {
        "colab": {
          "base_uri": "https://localhost:8080/",
          "height": 440
        },
        "id": "Y3N6R6f_3qaC",
        "outputId": "2c9fe6b3-31df-4e6b-b405-0d7de8ef37b0"
      },
      "outputs": [
        {
          "data": {
            "image/png": "[encoded data removed]",
            "text/plain": [
              "<Figure size 720x432 with 1 Axes>"
            ]
          },
          "metadata": {
            "needs_background": "light"
          },
          "output_type": "display_data"
        }
      ],
      "source": [
        "fig, ax = plt.subplots(figsize=(10,6))\n",
        "sns.boxplot(y = dataset['prix'], x = dataset['idagence'], ax = ax)\n",
        "ax.tick_params(axis='x', rotation=90)"
      ]
    },
    {
      "cell_type": "markdown",
      "metadata": {
        "id": "R64T8xp63qaD"
      },
      "source": [
        "Le résultat de cette transformation ne semble pas  vraiment concluant."
      ]
    },
    {
      "cell_type": "code",
      "execution_count": null,
      "metadata": {
        "colab": {
          "base_uri": "https://localhost:8080/",
          "height": 402
        },
        "id": "EDqIqqmH3qaD",
        "outputId": "4ff4ea07-fa6e-4f5a-9984-7db4fbce9307"
      },
      "outputs": [
        {
          "data": {
            "image/png": "[encoded data removed]",
            "text/plain": [
              "<Figure size 720x432 with 1 Axes>"
            ]
          },
          "metadata": {
            "needs_background": "light"
          },
          "output_type": "display_data"
        }
      ],
      "source": [
        "# Concernant la position nous n'allons pas la traiter, les distributions de prix sont identiques quelle que soit la position.\n",
        "\n",
        "fig, ax = plt.subplots(figsize=(10,6))\n",
        "sns.boxplot(y = dataset['prix'], x = dataset['position'], ax = ax)\n",
        "ax.tick_params(axis='x', rotation=90)"
      ]
    },
    {
      "cell_type": "code",
      "execution_count": null,
      "metadata": {
        "id": "9ceutirB3qaD"
      },
      "outputs": [],
      "source": [
        "to_remove.extend(['position'])\n",
        "categorical.remove('position')"
      ]
    },
    {
      "cell_type": "code",
      "execution_count": null,
      "metadata": {
        "colab": {
          "base_uri": "https://localhost:8080/"
        },
        "id": "ZTmy_8EH3qaE",
        "outputId": "5e2547fa-33d4-4426-8f4f-e17597dff481"
      },
      "outputs": [
        {
          "data": {
            "text/plain": [
              "si_balcon                             2\n",
              "typedebien                            2\n",
              "idtypepublicationsourcecouplage       3\n",
              "naturebien                            3\n",
              "idtypecuisine                         2\n",
              "ville                                21\n",
              "idagence                              4\n",
              "idannonce                          3808\n",
              "dtype: int64"
            ]
          },
          "execution_count": 291,
          "metadata": {},
          "output_type": "execute_result"
        }
      ],
      "source": [
        "dataset[[c for c in categorical if c not in to_remove]].nunique()"
      ]
    },
    {
      "cell_type": "code",
      "execution_count": null,
      "metadata": {
        "colab": {
          "base_uri": "https://localhost:8080/",
          "height": 225
        },
        "id": "K7CpwZUv3qaE",
        "outputId": "84f503d3-c5b2-4628-9ecf-c2c79ddf1416"
      },
      "outputs": [
        {
          "data": {
            "text/plain": [
              "si_balcon                             2\n",
              "typedebien                            2\n",
              "idtypepublicationsourcecouplage       3\n",
              "naturebien                            3\n",
              "idtypecuisine                         2\n",
              "codeinsee                           107\n",
              "cp                                  105\n",
              "ville                                21\n",
              "idagence                              4\n",
              "idannonce                          3808\n",
              "dtype: int64"
            ]
          },
          "metadata": {},
          "output_type": "display_data"
        },
        {
          "name": "stdout",
          "output_type": "stream",
          "text": [
            "Nombre de lignes du jeu de données:  8892\n"
          ]
        }
      ],
      "source": [
        "display(dataset[categorical].nunique())\n",
        "print('Nombre de lignes du jeu de données: ', dataset.shape[0])"
      ]
    },
    {
      "cell_type": "markdown",
      "metadata": {
        "id": "8vI5XICD3qaE"
      },
      "source": [
        "Il y a encore un détail que nous n'avons pas réglé.  \n",
        "On ne s'est posé la question de savoir pourquoi il y avait moins d'annonces (voir `idanonce`) que de lignes ?\n",
        "Autrement dit pourquoi est ce qu'il y a des annonces dupliquées dans le jeu de données ?"
      ]
    },
    {
      "cell_type": "code",
      "execution_count": null,
      "metadata": {
        "colab": {
          "base_uri": "https://localhost:8080/",
          "height": 364
        },
        "id": "V98rLr8V3qaE",
        "outputId": "c954817a-d113-42e7-ecaf-718c305c1c86"
      },
      "outputs": [
        {
          "data": {
            "text/plain": [
              "149141835    202\n",
              "148767581    202\n",
              "150181129    202\n",
              "148745275    202\n",
              "150229351    202\n",
              "            ... \n",
              "148608603      1\n",
              "148460561      1\n",
              "150148579      1\n",
              "147244183      1\n",
              "148377757      1\n",
              "Name: idannonce, Length: 3808, dtype: int64"
            ]
          },
          "metadata": {},
          "output_type": "display_data"
        },
        {
          "data": {
            "text/plain": [
              "array([202, 202, 202, 202, 202, 202, 202, 202, 202, 202, 202, 202, 202,\n",
              "       202, 202, 202, 202, 202, 202, 202,  53,  53,  53,  53,  53,  53,\n",
              "        53,  53,  53,  53,  53,  53,  53,  53,  53,  53,  53,  53,  53,\n",
              "        53,   2,   2,   2,   2,   2,   2,   2,   2,   2,   2,   2,   2,\n",
              "         2,   2,   2,   2,   2,   2,   2,   2,   2,   2,   2,   2,   1,\n",
              "         1,   1,   1,   1,   1,   1,   1,   1,   1,   1,   1,   1,   1,\n",
              "         1,   1,   1,   1,   1,   1,   1,   1,   1,   1,   1,   1,   1,\n",
              "         1,   1,   1,   1,   1,   1,   1,   1,   1])"
            ]
          },
          "execution_count": 293,
          "metadata": {},
          "output_type": "execute_result"
        }
      ],
      "source": [
        "idanonce_counts = dataset['idannonce'].value_counts()\n",
        "display(idanonce_counts)\n",
        "idanonce_counts.values[:100]"
      ]
    },
    {
      "cell_type": "markdown",
      "metadata": {
        "id": "ByEBDCJ23qaE"
      },
      "source": [
        "la fréquence des 'doublons' est 'trop mécanique' pour que ce soit une coïncidence, il y a beaucoup d'annonces qui ont exactement la même fréquence (202, 53, 2 ...).\n",
        "Cela peut venir de la méthode d'aggregation des données. En effet, peut etre que les données ont été aggrégées à partir de plusieurs bases de données qui ne sont pas indépendantes. \n",
        "\n",
        "Neanmoins la redondance d'une annonce peut être une information intéressante, nous allons supprimer toutes les lignes dupliquées mais nous garderons l'information de la fréquence d'apparition. "
      ]
    },
    {
      "cell_type": "code",
      "execution_count": null,
      "metadata": {
        "id": "Vulolf3L3qaE"
      },
      "outputs": [],
      "source": [
        "# On crée un dictionnaire qui assigne a chaque annonce sa fréquence d'apparition\n",
        "index_to_freq_dict = dict(idanonce_counts.iteritems())\n",
        "# On enlève les lignes annonces dupliquées\n",
        "df =  dataset.drop_duplicates(subset = 'idannonce').copy()"
      ]
    },
    {
      "cell_type": "code",
      "execution_count": null,
      "metadata": {
        "id": "xXIZiwIi3qaE"
      },
      "outputs": [],
      "source": [
        "# On remplace l'id des annonces par leur frequence \n",
        "df['idannonce'] = df['idannonce'].map(index_to_freq_dict)\n",
        "# On renomme la colonne de manière pertinente\n",
        "df = df.rename(columns = {'idannonce': 'freq_annonce'})"
      ]
    },
    {
      "cell_type": "code",
      "execution_count": null,
      "metadata": {
        "colab": {
          "base_uri": "https://localhost:8080/"
        },
        "id": "FfrzRF5F3qaF",
        "outputId": "605a9612-50ba-4c40-c9e8-f9769a315ac9"
      },
      "outputs": [
        {
          "name": "stdout",
          "output_type": "stream",
          "text": [
            "variables quantitatives:  ['nb_chambres', 'nb_pieces', 'nb_photos', 'surface', 'freq_annonce']\n",
            "variables qualitatives:  ['si_balcon', 'typedebien', 'idtypepublicationsourcecouplage', 'naturebien', 'idtypecuisine', 'codeinsee', 'cp', 'ville', 'idagence']\n"
          ]
        }
      ],
      "source": [
        "numerical.extend(['freq_annonce'])\n",
        "categorical.remove('idannonce')\n",
        "print('variables quantitatives: ', numerical)\n",
        "print('variables qualitatives: ', categorical)"
      ]
    },
    {
      "cell_type": "code",
      "execution_count": null,
      "metadata": {
        "id": "YJQyrQ9d3qaF"
      },
      "outputs": [],
      "source": [
        "numerical = [c for c in numerical if c not in to_remove]\n",
        "categorical = [c for c in categorical if c not in to_remove]"
      ]
    },
    {
      "cell_type": "markdown",
      "metadata": {
        "id": "B-Zi3V9r3qaF"
      },
      "source": [
        "# Quelles sont les variables qui expliquent le mieux le prix ?"
      ]
    },
    {
      "cell_type": "code",
      "execution_count": null,
      "metadata": {
        "colab": {
          "base_uri": "https://localhost:8080/"
        },
        "id": "r0EYPKSf3qaF",
        "outputId": "2abd86d9-7c7b-45e9-c67d-71dfd489699d"
      },
      "outputs": [
        {
          "name": "stdout",
          "output_type": "stream",
          "text": [
            "(3808, 13)\n"
          ]
        }
      ],
      "source": [
        "# On recupère uniquement les colonnes jugées pertinentes\n",
        "to_keep = [col for col in df.columns if col not in (to_remove)]\n",
        "df = df[to_keep]\n",
        "\n",
        "print(df.shape)"
      ]
    },
    {
      "cell_type": "code",
      "execution_count": null,
      "metadata": {
        "colab": {
          "base_uri": "https://localhost:8080/",
          "height": 322
        },
        "id": "ClJWptQf3qaF",
        "outputId": "baa82e7f-da23-4a9e-8c12-50fe3394a441"
      },
      "outputs": [
        {
          "data": {
            "text/html": [
              "\n",
              "  <div id=\"df-34246140-4596-461d-b410-3a7aecafb250\">\n",
              "    <div class=\"colab-df-container\">\n",
              "      <div>\n",
              "<style scoped>\n",
              "    .dataframe tbody tr th:only-of-type {\n",
              "        vertical-align: middle;\n",
              "    }\n",
              "\n",
              "    .dataframe tbody tr th {\n",
              "        vertical-align: top;\n",
              "    }\n",
              "\n",
              "    .dataframe thead th {\n",
              "        text-align: right;\n",
              "    }\n",
              "</style>\n",
              "<table border=\"1\" class=\"dataframe\">\n",
              "  <thead>\n",
              "    <tr style=\"text-align: right;\">\n",
              "      <th></th>\n",
              "      <th>idagence</th>\n",
              "      <th>freq_annonce</th>\n",
              "      <th>idtypecuisine</th>\n",
              "      <th>idtypepublicationsourcecouplage</th>\n",
              "      <th>naturebien</th>\n",
              "      <th>nb_chambres</th>\n",
              "      <th>nb_photos</th>\n",
              "      <th>nb_pieces</th>\n",
              "      <th>prix</th>\n",
              "      <th>si_balcon</th>\n",
              "      <th>surface</th>\n",
              "      <th>typedebien</th>\n",
              "      <th>ville</th>\n",
              "    </tr>\n",
              "  </thead>\n",
              "  <tbody>\n",
              "    <tr>\n",
              "      <th>0</th>\n",
              "      <td>très petite</td>\n",
              "      <td>1</td>\n",
              "      <td>autre</td>\n",
              "      <td>SL</td>\n",
              "      <td>1</td>\n",
              "      <td>2</td>\n",
              "      <td>13</td>\n",
              "      <td>3</td>\n",
              "      <td>59000</td>\n",
              "      <td>1</td>\n",
              "      <td>69.00</td>\n",
              "      <td>Appartement</td>\n",
              "      <td>Paris 16ème</td>\n",
              "    </tr>\n",
              "    <tr>\n",
              "      <th>2</th>\n",
              "      <td>très petite</td>\n",
              "      <td>1</td>\n",
              "      <td>gamme haute</td>\n",
              "      <td>SL</td>\n",
              "      <td>1</td>\n",
              "      <td>1</td>\n",
              "      <td>8</td>\n",
              "      <td>2</td>\n",
              "      <td>94000</td>\n",
              "      <td>0</td>\n",
              "      <td>37.00</td>\n",
              "      <td>Appartement</td>\n",
              "      <td>Paris 18ème</td>\n",
              "    </tr>\n",
              "    <tr>\n",
              "      <th>4</th>\n",
              "      <td>petite</td>\n",
              "      <td>1</td>\n",
              "      <td>gamme haute</td>\n",
              "      <td>SL</td>\n",
              "      <td>1</td>\n",
              "      <td>1</td>\n",
              "      <td>5</td>\n",
              "      <td>2</td>\n",
              "      <td>100000</td>\n",
              "      <td>0</td>\n",
              "      <td>14.93</td>\n",
              "      <td>Appartement</td>\n",
              "      <td>Paris 16ème</td>\n",
              "    </tr>\n",
              "    <tr>\n",
              "      <th>5</th>\n",
              "      <td>très petite</td>\n",
              "      <td>1</td>\n",
              "      <td>autre</td>\n",
              "      <td>SL</td>\n",
              "      <td>1</td>\n",
              "      <td>1</td>\n",
              "      <td>5</td>\n",
              "      <td>2</td>\n",
              "      <td>110000</td>\n",
              "      <td>0</td>\n",
              "      <td>38.65</td>\n",
              "      <td>Appartement</td>\n",
              "      <td>Banlieue</td>\n",
              "    </tr>\n",
              "    <tr>\n",
              "      <th>6</th>\n",
              "      <td>très petite</td>\n",
              "      <td>1</td>\n",
              "      <td>gamme haute</td>\n",
              "      <td>SL</td>\n",
              "      <td>1</td>\n",
              "      <td>1</td>\n",
              "      <td>12</td>\n",
              "      <td>2</td>\n",
              "      <td>110000</td>\n",
              "      <td>1</td>\n",
              "      <td>41.57</td>\n",
              "      <td>Appartement</td>\n",
              "      <td>Banlieue</td>\n",
              "    </tr>\n",
              "  </tbody>\n",
              "</table>\n",
              "</div>\n",
              "      <button class=\"colab-df-convert\" onclick=\"convertToInteractive('df-34246140-4596-461d-b410-3a7aecafb250')\"\n",
              "              title=\"Convert this dataframe to an interactive table.\"\n",
              "              style=\"display:none;\">\n",
              "        \n",
              "  <svg xmlns=\"http://www.w3.org/2000/svg\" height=\"24px\"viewBox=\"0 0 24 24\"\n",
              "       width=\"24px\">\n",
              "    <path d=\"M0 0h24v24H0V0z\" fill=\"none\"/>\n",
              "    <path d=\"M18.56 5.44l.94 2.06.94-2.06 2.06-.94-2.06-.94-.94-2.06-.94 2.06-2.06.94zm-11 1L8.5 8.5l.94-2.06 2.06-.94-2.06-.94L8.5 2.5l-.94 2.06-2.06.94zm10 10l.94 2.06.94-2.06 2.06-.94-2.06-.94-.94-2.06-.94 2.06-2.06.94z\"/><path d=\"M17.41 7.96l-1.37-1.37c-.4-.4-.92-.59-1.43-.59-.52 0-1.04.2-1.43.59L10.3 9.45l-7.72 7.72c-.78.78-.78 2.05 0 2.83L4 21.41c.39.39.9.59 1.41.59.51 0 1.02-.2 1.41-.59l7.78-7.78 2.81-2.81c.8-.78.8-2.07 0-2.86zM5.41 20L4 18.59l7.72-7.72 1.47 1.35L5.41 20z\"/>\n",
              "  </svg>\n",
              "      </button>\n",
              "      \n",
              "  <style>\n",
              "    .colab-df-container {\n",
              "      display:flex;\n",
              "      flex-wrap:wrap;\n",
              "      gap: 12px;\n",
              "    }\n",
              "\n",
              "    .colab-df-convert {\n",
              "      background-color: #E8F0FE;\n",
              "      border: none;\n",
              "      border-radius: 50%;\n",
              "      cursor: pointer;\n",
              "      display: none;\n",
              "      fill: #1967D2;\n",
              "      height: 32px;\n",
              "      padding: 0 0 0 0;\n",
              "      width: 32px;\n",
              "    }\n",
              "\n",
              "    .colab-df-convert:hover {\n",
              "      background-color: #E2EBFA;\n",
              "      box-shadow: 0px 1px 2px rgba(60, 64, 67, 0.3), 0px 1px 3px 1px rgba(60, 64, 67, 0.15);\n",
              "      fill: #174EA6;\n",
              "    }\n",
              "\n",
              "    [theme=dark] .colab-df-convert {\n",
              "      background-color: #3B4455;\n",
              "      fill: #D2E3FC;\n",
              "    }\n",
              "\n",
              "    [theme=dark] .colab-df-convert:hover {\n",
              "      background-color: #434B5C;\n",
              "      box-shadow: 0px 1px 3px 1px rgba(0, 0, 0, 0.15);\n",
              "      filter: drop-shadow(0px 1px 2px rgba(0, 0, 0, 0.3));\n",
              "      fill: #FFFFFF;\n",
              "    }\n",
              "  </style>\n",
              "\n",
              "      <script>\n",
              "        const buttonEl =\n",
              "          document.querySelector('#df-34246140-4596-461d-b410-3a7aecafb250 button.colab-df-convert');\n",
              "        buttonEl.style.display =\n",
              "          google.colab.kernel.accessAllowed ? 'block' : 'none';\n",
              "\n",
              "        async function convertToInteractive(key) {\n",
              "          const element = document.querySelector('#df-34246140-4596-461d-b410-3a7aecafb250');\n",
              "          const dataTable =\n",
              "            await google.colab.kernel.invokeFunction('convertToInteractive',\n",
              "                                                     [key], {});\n",
              "          if (!dataTable) return;\n",
              "\n",
              "          const docLinkHtml = 'Like what you see? Visit the ' +\n",
              "            '<a target=\"_blank\" href=https://colab.research.google.com/notebooks/data_table.ipynb>data table notebook</a>'\n",
              "            + ' to learn more about interactive tables.';\n",
              "          element.innerHTML = '';\n",
              "          dataTable['output_type'] = 'display_data';\n",
              "          await google.colab.output.renderOutput(dataTable, element);\n",
              "          const docLink = document.createElement('div');\n",
              "          docLink.innerHTML = docLinkHtml;\n",
              "          element.appendChild(docLink);\n",
              "        }\n",
              "      </script>\n",
              "    </div>\n",
              "  </div>\n",
              "  "
            ],
            "text/plain": [
              "      idagence  freq_annonce idtypecuisine idtypepublicationsourcecouplage  \\\n",
              "0  très petite             1         autre                              SL   \n",
              "2  très petite             1   gamme haute                              SL   \n",
              "4       petite             1   gamme haute                              SL   \n",
              "5  très petite             1         autre                              SL   \n",
              "6  très petite             1   gamme haute                              SL   \n",
              "\n",
              "   naturebien  nb_chambres  nb_photos  nb_pieces    prix  si_balcon  surface  \\\n",
              "0           1            2         13          3   59000          1    69.00   \n",
              "2           1            1          8          2   94000          0    37.00   \n",
              "4           1            1          5          2  100000          0    14.93   \n",
              "5           1            1          5          2  110000          0    38.65   \n",
              "6           1            1         12          2  110000          1    41.57   \n",
              "\n",
              "    typedebien        ville  \n",
              "0  Appartement  Paris 16ème  \n",
              "2  Appartement  Paris 18ème  \n",
              "4  Appartement  Paris 16ème  \n",
              "5  Appartement     Banlieue  \n",
              "6  Appartement     Banlieue  "
            ]
          },
          "execution_count": 299,
          "metadata": {},
          "output_type": "execute_result"
        }
      ],
      "source": [
        "df.head()"
      ]
    },
    {
      "cell_type": "code",
      "execution_count": null,
      "metadata": {
        "colab": {
          "base_uri": "https://localhost:8080/",
          "height": 344
        },
        "id": "fIpaN4Xn3qaF",
        "outputId": "11bc66d7-d834-4d5a-c898-e7957dbc2483"
      },
      "outputs": [
        {
          "data": {
            "text/plain": [
              "<matplotlib.axes._subplots.AxesSubplot at 0x7f9b9d5ff090>"
            ]
          },
          "execution_count": 300,
          "metadata": {},
          "output_type": "execute_result"
        },
        {
          "data": {
            "image/png": "[encoded data removed]",
            "text/plain": [
              "<Figure size 432x288 with 2 Axes>"
            ]
          },
          "metadata": {
            "needs_background": "light"
          },
          "output_type": "display_data"
        }
      ],
      "source": [
        "sns.heatmap(df.corr())"
      ]
    },
    {
      "cell_type": "code",
      "execution_count": null,
      "metadata": {
        "colab": {
          "base_uri": "https://localhost:8080/"
        },
        "id": "0fnfLKZY3qaG",
        "outputId": "711b1614-414b-469d-f3be-dc25ea3d9098"
      },
      "outputs": [
        {
          "data": {
            "text/plain": [
              "((3808, 12), (3808,))"
            ]
          },
          "execution_count": 301,
          "metadata": {},
          "output_type": "execute_result"
        }
      ],
      "source": [
        "X = df[[col for col in df.columns if col != 'prix']]\n",
        "\n",
        "y = df['prix']\n",
        "\n",
        "X.shape, y.shape"
      ]
    },
    {
      "cell_type": "code",
      "execution_count": null,
      "metadata": {
        "id": "EE78NeXJ3qaG"
      },
      "outputs": [],
      "source": [
        "from sklearn.compose import ColumnTransformer\n",
        "from sklearn.preprocessing import OneHotEncoder\n",
        "from sklearn.preprocessing import StandardScaler\n"
      ]
    },
    {
      "cell_type": "code",
      "execution_count": null,
      "metadata": {
        "id": "2JrpYVAo3qaG"
      },
      "outputs": [],
      "source": [
        "from sklearn.compose import ColumnTransformer\n",
        "\n",
        "\n",
        "continuous_index_cols = X.columns.get_indexer(numerical)\n",
        "categorical_index_cols = X.columns.get_indexer(categorical)\n",
        "\n",
        "ct = ColumnTransformer(\n",
        "    [\n",
        "        (\"OneHotEncoder\", OneHotEncoder(drop = 'first', handle_unknown = 'ignore'), categorical_index_cols),\n",
        "        (\"Scaler\", StandardScaler(), continuous_index_cols)\n",
        "    ])\n"
      ]
    },
    {
      "cell_type": "code",
      "execution_count": null,
      "metadata": {
        "colab": {
          "base_uri": "https://localhost:8080/"
        },
        "id": "Cqo4Ff-u3qaG",
        "outputId": "e30ebdef-144a-4172-9d9f-986d18f2f06a"
      },
      "outputs": [
        {
          "data": {
            "text/plain": [
              "(3808, 35)"
            ]
          },
          "execution_count": 304,
          "metadata": {},
          "output_type": "execute_result"
        }
      ],
      "source": [
        "X = ct.fit_transform(X)\n",
        "X.shape"
      ]
    },
    {
      "cell_type": "code",
      "execution_count": null,
      "metadata": {
        "colab": {
          "base_uri": "https://localhost:8080/",
          "height": 317
        },
        "id": "knHeCxHn3qaG",
        "outputId": "5e17e178-0255-441a-868e-3debce3b9d7b"
      },
      "outputs": [
        {
          "data": {
            "text/html": [
              "\n",
              "  <div id=\"df-07ab1ebd-bb8a-4a53-8e50-ae68addb6559\">\n",
              "    <div class=\"colab-df-container\">\n",
              "      <div>\n",
              "<style scoped>\n",
              "    .dataframe tbody tr th:only-of-type {\n",
              "        vertical-align: middle;\n",
              "    }\n",
              "\n",
              "    .dataframe tbody tr th {\n",
              "        vertical-align: top;\n",
              "    }\n",
              "\n",
              "    .dataframe thead th {\n",
              "        text-align: right;\n",
              "    }\n",
              "</style>\n",
              "<table border=\"1\" class=\"dataframe\">\n",
              "  <thead>\n",
              "    <tr style=\"text-align: right;\">\n",
              "      <th></th>\n",
              "      <th>OneHotEncoder__si_balcon_1</th>\n",
              "      <th>OneHotEncoder__typedebien_Loft/Atelier/Surface</th>\n",
              "      <th>OneHotEncoder__idtypepublicationsourcecouplage_SL</th>\n",
              "      <th>OneHotEncoder__idtypepublicationsourcecouplage_SL9</th>\n",
              "      <th>OneHotEncoder__naturebien_2</th>\n",
              "      <th>OneHotEncoder__naturebien_3</th>\n",
              "      <th>OneHotEncoder__idtypecuisine_gamme haute</th>\n",
              "      <th>OneHotEncoder__ville_Paris 10ème</th>\n",
              "      <th>OneHotEncoder__ville_Paris 11ème</th>\n",
              "      <th>OneHotEncoder__ville_Paris 12ème</th>\n",
              "      <th>OneHotEncoder__ville_Paris 13ème</th>\n",
              "      <th>OneHotEncoder__ville_Paris 14ème</th>\n",
              "      <th>...</th>\n",
              "      <th>OneHotEncoder__ville_Paris 6ème</th>\n",
              "      <th>OneHotEncoder__ville_Paris 7ème</th>\n",
              "      <th>OneHotEncoder__ville_Paris 8ème</th>\n",
              "      <th>OneHotEncoder__ville_Paris 9ème</th>\n",
              "      <th>OneHotEncoder__idagence_moyenne</th>\n",
              "      <th>OneHotEncoder__idagence_petite</th>\n",
              "      <th>OneHotEncoder__idagence_très petite</th>\n",
              "      <th>Scaler__nb_chambres</th>\n",
              "      <th>Scaler__nb_pieces</th>\n",
              "      <th>Scaler__nb_photos</th>\n",
              "      <th>Scaler__surface</th>\n",
              "      <th>Scaler__freq_annonce</th>\n",
              "    </tr>\n",
              "  </thead>\n",
              "  <tbody>\n",
              "    <tr>\n",
              "      <th>0</th>\n",
              "      <td>1.0</td>\n",
              "      <td>0.0</td>\n",
              "      <td>1.0</td>\n",
              "      <td>0.0</td>\n",
              "      <td>0.0</td>\n",
              "      <td>0.0</td>\n",
              "      <td>0.0</td>\n",
              "      <td>0.0</td>\n",
              "      <td>0.0</td>\n",
              "      <td>0.0</td>\n",
              "      <td>0.0</td>\n",
              "      <td>0.0</td>\n",
              "      <td>...</td>\n",
              "      <td>0.0</td>\n",
              "      <td>0.0</td>\n",
              "      <td>0.0</td>\n",
              "      <td>0.0</td>\n",
              "      <td>0.0</td>\n",
              "      <td>0.0</td>\n",
              "      <td>1.0</td>\n",
              "      <td>0.172142</td>\n",
              "      <td>-0.094348</td>\n",
              "      <td>1.138501</td>\n",
              "      <td>-0.026573</td>\n",
              "      <td>-0.089082</td>\n",
              "    </tr>\n",
              "    <tr>\n",
              "      <th>2</th>\n",
              "      <td>0.0</td>\n",
              "      <td>0.0</td>\n",
              "      <td>1.0</td>\n",
              "      <td>0.0</td>\n",
              "      <td>0.0</td>\n",
              "      <td>0.0</td>\n",
              "      <td>1.0</td>\n",
              "      <td>0.0</td>\n",
              "      <td>0.0</td>\n",
              "      <td>0.0</td>\n",
              "      <td>0.0</td>\n",
              "      <td>0.0</td>\n",
              "      <td>...</td>\n",
              "      <td>0.0</td>\n",
              "      <td>0.0</td>\n",
              "      <td>0.0</td>\n",
              "      <td>0.0</td>\n",
              "      <td>0.0</td>\n",
              "      <td>0.0</td>\n",
              "      <td>1.0</td>\n",
              "      <td>-0.950316</td>\n",
              "      <td>-0.999331</td>\n",
              "      <td>-0.189506</td>\n",
              "      <td>-1.083222</td>\n",
              "      <td>-0.089082</td>\n",
              "    </tr>\n",
              "    <tr>\n",
              "      <th>4</th>\n",
              "      <td>0.0</td>\n",
              "      <td>0.0</td>\n",
              "      <td>1.0</td>\n",
              "      <td>0.0</td>\n",
              "      <td>0.0</td>\n",
              "      <td>0.0</td>\n",
              "      <td>1.0</td>\n",
              "      <td>0.0</td>\n",
              "      <td>0.0</td>\n",
              "      <td>0.0</td>\n",
              "      <td>0.0</td>\n",
              "      <td>0.0</td>\n",
              "      <td>...</td>\n",
              "      <td>0.0</td>\n",
              "      <td>0.0</td>\n",
              "      <td>0.0</td>\n",
              "      <td>0.0</td>\n",
              "      <td>0.0</td>\n",
              "      <td>1.0</td>\n",
              "      <td>0.0</td>\n",
              "      <td>-0.950316</td>\n",
              "      <td>-0.999331</td>\n",
              "      <td>-0.986310</td>\n",
              "      <td>-1.811979</td>\n",
              "      <td>-0.089082</td>\n",
              "    </tr>\n",
              "    <tr>\n",
              "      <th>5</th>\n",
              "      <td>0.0</td>\n",
              "      <td>0.0</td>\n",
              "      <td>1.0</td>\n",
              "      <td>0.0</td>\n",
              "      <td>0.0</td>\n",
              "      <td>0.0</td>\n",
              "      <td>0.0</td>\n",
              "      <td>0.0</td>\n",
              "      <td>0.0</td>\n",
              "      <td>0.0</td>\n",
              "      <td>0.0</td>\n",
              "      <td>0.0</td>\n",
              "      <td>...</td>\n",
              "      <td>0.0</td>\n",
              "      <td>0.0</td>\n",
              "      <td>0.0</td>\n",
              "      <td>0.0</td>\n",
              "      <td>0.0</td>\n",
              "      <td>0.0</td>\n",
              "      <td>1.0</td>\n",
              "      <td>-0.950316</td>\n",
              "      <td>-0.999331</td>\n",
              "      <td>-0.986310</td>\n",
              "      <td>-1.028738</td>\n",
              "      <td>-0.089082</td>\n",
              "    </tr>\n",
              "    <tr>\n",
              "      <th>6</th>\n",
              "      <td>1.0</td>\n",
              "      <td>0.0</td>\n",
              "      <td>1.0</td>\n",
              "      <td>0.0</td>\n",
              "      <td>0.0</td>\n",
              "      <td>0.0</td>\n",
              "      <td>1.0</td>\n",
              "      <td>0.0</td>\n",
              "      <td>0.0</td>\n",
              "      <td>0.0</td>\n",
              "      <td>0.0</td>\n",
              "      <td>0.0</td>\n",
              "      <td>...</td>\n",
              "      <td>0.0</td>\n",
              "      <td>0.0</td>\n",
              "      <td>0.0</td>\n",
              "      <td>0.0</td>\n",
              "      <td>0.0</td>\n",
              "      <td>0.0</td>\n",
              "      <td>1.0</td>\n",
              "      <td>-0.950316</td>\n",
              "      <td>-0.999331</td>\n",
              "      <td>0.872899</td>\n",
              "      <td>-0.932319</td>\n",
              "      <td>-0.089082</td>\n",
              "    </tr>\n",
              "  </tbody>\n",
              "</table>\n",
              "<p>5 rows × 35 columns</p>\n",
              "</div>\n",
              "      <button class=\"colab-df-convert\" onclick=\"convertToInteractive('df-07ab1ebd-bb8a-4a53-8e50-ae68addb6559')\"\n",
              "              title=\"Convert this dataframe to an interactive table.\"\n",
              "              style=\"display:none;\">\n",
              "        \n",
              "  <svg xmlns=\"http://www.w3.org/2000/svg\" height=\"24px\"viewBox=\"0 0 24 24\"\n",
              "       width=\"24px\">\n",
              "    <path d=\"M0 0h24v24H0V0z\" fill=\"none\"/>\n",
              "    <path d=\"M18.56 5.44l.94 2.06.94-2.06 2.06-.94-2.06-.94-.94-2.06-.94 2.06-2.06.94zm-11 1L8.5 8.5l.94-2.06 2.06-.94-2.06-.94L8.5 2.5l-.94 2.06-2.06.94zm10 10l.94 2.06.94-2.06 2.06-.94-2.06-.94-.94-2.06-.94 2.06-2.06.94z\"/><path d=\"M17.41 7.96l-1.37-1.37c-.4-.4-.92-.59-1.43-.59-.52 0-1.04.2-1.43.59L10.3 9.45l-7.72 7.72c-.78.78-.78 2.05 0 2.83L4 21.41c.39.39.9.59 1.41.59.51 0 1.02-.2 1.41-.59l7.78-7.78 2.81-2.81c.8-.78.8-2.07 0-2.86zM5.41 20L4 18.59l7.72-7.72 1.47 1.35L5.41 20z\"/>\n",
              "  </svg>\n",
              "      </button>\n",
              "      \n",
              "  <style>\n",
              "    .colab-df-container {\n",
              "      display:flex;\n",
              "      flex-wrap:wrap;\n",
              "      gap: 12px;\n",
              "    }\n",
              "\n",
              "    .colab-df-convert {\n",
              "      background-color: #E8F0FE;\n",
              "      border: none;\n",
              "      border-radius: 50%;\n",
              "      cursor: pointer;\n",
              "      display: none;\n",
              "      fill: #1967D2;\n",
              "      height: 32px;\n",
              "      padding: 0 0 0 0;\n",
              "      width: 32px;\n",
              "    }\n",
              "\n",
              "    .colab-df-convert:hover {\n",
              "      background-color: #E2EBFA;\n",
              "      box-shadow: 0px 1px 2px rgba(60, 64, 67, 0.3), 0px 1px 3px 1px rgba(60, 64, 67, 0.15);\n",
              "      fill: #174EA6;\n",
              "    }\n",
              "\n",
              "    [theme=dark] .colab-df-convert {\n",
              "      background-color: #3B4455;\n",
              "      fill: #D2E3FC;\n",
              "    }\n",
              "\n",
              "    [theme=dark] .colab-df-convert:hover {\n",
              "      background-color: #434B5C;\n",
              "      box-shadow: 0px 1px 3px 1px rgba(0, 0, 0, 0.15);\n",
              "      filter: drop-shadow(0px 1px 2px rgba(0, 0, 0, 0.3));\n",
              "      fill: #FFFFFF;\n",
              "    }\n",
              "  </style>\n",
              "\n",
              "      <script>\n",
              "        const buttonEl =\n",
              "          document.querySelector('#df-07ab1ebd-bb8a-4a53-8e50-ae68addb6559 button.colab-df-convert');\n",
              "        buttonEl.style.display =\n",
              "          google.colab.kernel.accessAllowed ? 'block' : 'none';\n",
              "\n",
              "        async function convertToInteractive(key) {\n",
              "          const element = document.querySelector('#df-07ab1ebd-bb8a-4a53-8e50-ae68addb6559');\n",
              "          const dataTable =\n",
              "            await google.colab.kernel.invokeFunction('convertToInteractive',\n",
              "                                                     [key], {});\n",
              "          if (!dataTable) return;\n",
              "\n",
              "          const docLinkHtml = 'Like what you see? Visit the ' +\n",
              "            '<a target=\"_blank\" href=https://colab.research.google.com/notebooks/data_table.ipynb>data table notebook</a>'\n",
              "            + ' to learn more about interactive tables.';\n",
              "          element.innerHTML = '';\n",
              "          dataTable['output_type'] = 'display_data';\n",
              "          await google.colab.output.renderOutput(dataTable, element);\n",
              "          const docLink = document.createElement('div');\n",
              "          docLink.innerHTML = docLinkHtml;\n",
              "          element.appendChild(docLink);\n",
              "        }\n",
              "      </script>\n",
              "    </div>\n",
              "  </div>\n",
              "  "
            ],
            "text/plain": [
              "   OneHotEncoder__si_balcon_1  OneHotEncoder__typedebien_Loft/Atelier/Surface  \\\n",
              "0                         1.0                                             0.0   \n",
              "2                         0.0                                             0.0   \n",
              "4                         0.0                                             0.0   \n",
              "5                         0.0                                             0.0   \n",
              "6                         1.0                                             0.0   \n",
              "\n",
              "   OneHotEncoder__idtypepublicationsourcecouplage_SL  \\\n",
              "0                                                1.0   \n",
              "2                                                1.0   \n",
              "4                                                1.0   \n",
              "5                                                1.0   \n",
              "6                                                1.0   \n",
              "\n",
              "   OneHotEncoder__idtypepublicationsourcecouplage_SL9  \\\n",
              "0                                                0.0    \n",
              "2                                                0.0    \n",
              "4                                                0.0    \n",
              "5                                                0.0    \n",
              "6                                                0.0    \n",
              "\n",
              "   OneHotEncoder__naturebien_2  OneHotEncoder__naturebien_3  \\\n",
              "0                          0.0                          0.0   \n",
              "2                          0.0                          0.0   \n",
              "4                          0.0                          0.0   \n",
              "5                          0.0                          0.0   \n",
              "6                          0.0                          0.0   \n",
              "\n",
              "   OneHotEncoder__idtypecuisine_gamme haute  OneHotEncoder__ville_Paris 10ème  \\\n",
              "0                                       0.0                               0.0   \n",
              "2                                       1.0                               0.0   \n",
              "4                                       1.0                               0.0   \n",
              "5                                       0.0                               0.0   \n",
              "6                                       1.0                               0.0   \n",
              "\n",
              "   OneHotEncoder__ville_Paris 11ème  OneHotEncoder__ville_Paris 12ème  \\\n",
              "0                               0.0                               0.0   \n",
              "2                               0.0                               0.0   \n",
              "4                               0.0                               0.0   \n",
              "5                               0.0                               0.0   \n",
              "6                               0.0                               0.0   \n",
              "\n",
              "   OneHotEncoder__ville_Paris 13ème  OneHotEncoder__ville_Paris 14ème  ...  \\\n",
              "0                               0.0                               0.0  ...   \n",
              "2                               0.0                               0.0  ...   \n",
              "4                               0.0                               0.0  ...   \n",
              "5                               0.0                               0.0  ...   \n",
              "6                               0.0                               0.0  ...   \n",
              "\n",
              "   OneHotEncoder__ville_Paris 6ème  OneHotEncoder__ville_Paris 7ème  \\\n",
              "0                              0.0                              0.0   \n",
              "2                              0.0                              0.0   \n",
              "4                              0.0                              0.0   \n",
              "5                              0.0                              0.0   \n",
              "6                              0.0                              0.0   \n",
              "\n",
              "   OneHotEncoder__ville_Paris 8ème  OneHotEncoder__ville_Paris 9ème  \\\n",
              "0                              0.0                              0.0   \n",
              "2                              0.0                              0.0   \n",
              "4                              0.0                              0.0   \n",
              "5                              0.0                              0.0   \n",
              "6                              0.0                              0.0   \n",
              "\n",
              "   OneHotEncoder__idagence_moyenne  OneHotEncoder__idagence_petite  \\\n",
              "0                              0.0                             0.0   \n",
              "2                              0.0                             0.0   \n",
              "4                              0.0                             1.0   \n",
              "5                              0.0                             0.0   \n",
              "6                              0.0                             0.0   \n",
              "\n",
              "   OneHotEncoder__idagence_très petite  Scaler__nb_chambres  \\\n",
              "0                                  1.0             0.172142   \n",
              "2                                  1.0            -0.950316   \n",
              "4                                  0.0            -0.950316   \n",
              "5                                  1.0            -0.950316   \n",
              "6                                  1.0            -0.950316   \n",
              "\n",
              "   Scaler__nb_pieces  Scaler__nb_photos  Scaler__surface  Scaler__freq_annonce  \n",
              "0          -0.094348           1.138501        -0.026573             -0.089082  \n",
              "2          -0.999331          -0.189506        -1.083222             -0.089082  \n",
              "4          -0.999331          -0.986310        -1.811979             -0.089082  \n",
              "5          -0.999331          -0.986310        -1.028738             -0.089082  \n",
              "6          -0.999331           0.872899        -0.932319             -0.089082  \n",
              "\n",
              "[5 rows x 35 columns]"
            ]
          },
          "execution_count": 305,
          "metadata": {},
          "output_type": "execute_result"
        }
      ],
      "source": [
        "X = pd.DataFrame(X.todense(), columns = ct.get_feature_names_out()).set_index(y.index)\n",
        "X.head()"
      ]
    },
    {
      "cell_type": "markdown",
      "metadata": {
        "id": "k672k5CU3qaG"
      },
      "source": [
        "## Régression linéaire"
      ]
    },
    {
      "cell_type": "code",
      "execution_count": null,
      "metadata": {
        "colab": {
          "base_uri": "https://localhost:8080/",
          "height": 1000
        },
        "id": "nb4JgYwH3qaG",
        "outputId": "23772207-9408-4515-850c-7197577dc1ab"
      },
      "outputs": [
        {
          "name": "stderr",
          "output_type": "stream",
          "text": [
            "/usr/local/lib/python3.7/dist-packages/statsmodels/tsa/tsatools.py:142: FutureWarning: In a future version of pandas all arguments of concat except for the argument 'objs' will be keyword-only\n",
            "  x = pd.concat(x[::order], 1)\n"
          ]
        },
        {
          "data": {
            "text/html": [
              "<table class=\"simpletable\">\n",
              "<caption>OLS Regression Results</caption>\n",
              "<tr>\n",
              "  <th>Dep. Variable:</th>          <td>prix</td>       <th>  R-squared:         </th> <td>   0.820</td> \n",
              "</tr>\n",
              "<tr>\n",
              "  <th>Model:</th>                   <td>OLS</td>       <th>  Adj. R-squared:    </th> <td>   0.818</td> \n",
              "</tr>\n",
              "<tr>\n",
              "  <th>Method:</th>             <td>Least Squares</td>  <th>  F-statistic:       </th> <td>   491.4</td> \n",
              "</tr>\n",
              "<tr>\n",
              "  <th>Date:</th>             <td>Tue, 15 Nov 2022</td> <th>  Prob (F-statistic):</th>  <td>  0.00</td>  \n",
              "</tr>\n",
              "<tr>\n",
              "  <th>Time:</th>                 <td>17:25:15</td>     <th>  Log-Likelihood:    </th> <td> -51119.</td> \n",
              "</tr>\n",
              "<tr>\n",
              "  <th>No. Observations:</th>      <td>  3808</td>      <th>  AIC:               </th> <td>1.023e+05</td>\n",
              "</tr>\n",
              "<tr>\n",
              "  <th>Df Residuals:</th>          <td>  3772</td>      <th>  BIC:               </th> <td>1.025e+05</td>\n",
              "</tr>\n",
              "<tr>\n",
              "  <th>Df Model:</th>              <td>    35</td>      <th>                     </th>     <td> </td>    \n",
              "</tr>\n",
              "<tr>\n",
              "  <th>Covariance Type:</th>      <td>nonrobust</td>    <th>                     </th>     <td> </td>    \n",
              "</tr>\n",
              "</table>\n",
              "<table class=\"simpletable\">\n",
              "<tr>\n",
              "                           <td></td>                             <th>coef</th>     <th>std err</th>      <th>t</th>      <th>P>|t|</th>  <th>[0.025</th>    <th>0.975]</th>  \n",
              "</tr>\n",
              "<tr>\n",
              "  <th>const</th>                                              <td> 2.774e+05</td> <td> 1.66e+05</td> <td>    1.674</td> <td> 0.094</td> <td>-4.74e+04</td> <td> 6.02e+05</td>\n",
              "</tr>\n",
              "<tr>\n",
              "  <th>OneHotEncoder__si_balcon_1</th>                         <td> 1.877e+04</td> <td> 6626.578</td> <td>    2.832</td> <td> 0.005</td> <td> 5773.211</td> <td> 3.18e+04</td>\n",
              "</tr>\n",
              "<tr>\n",
              "  <th>OneHotEncoder__typedebien_Loft/Atelier/Surface</th>     <td> -8.63e+04</td> <td> 2.51e+04</td> <td>   -3.433</td> <td> 0.001</td> <td>-1.36e+05</td> <td> -3.7e+04</td>\n",
              "</tr>\n",
              "<tr>\n",
              "  <th>OneHotEncoder__idtypepublicationsourcecouplage_SL</th>  <td> 4.099e+04</td> <td> 1.65e+05</td> <td>    0.249</td> <td> 0.804</td> <td>-2.82e+05</td> <td> 3.64e+05</td>\n",
              "</tr>\n",
              "<tr>\n",
              "  <th>OneHotEncoder__idtypepublicationsourcecouplage_SL9</th> <td> 1.419e+05</td> <td> 1.83e+05</td> <td>    0.774</td> <td> 0.439</td> <td>-2.17e+05</td> <td> 5.01e+05</td>\n",
              "</tr>\n",
              "<tr>\n",
              "  <th>OneHotEncoder__naturebien_2</th>                        <td> 6.428e+04</td> <td> 6.74e+04</td> <td>    0.954</td> <td> 0.340</td> <td>-6.78e+04</td> <td> 1.96e+05</td>\n",
              "</tr>\n",
              "<tr>\n",
              "  <th>OneHotEncoder__naturebien_3</th>                        <td> 2.325e+05</td> <td> 1.65e+05</td> <td>    1.411</td> <td> 0.158</td> <td>-9.06e+04</td> <td> 5.55e+05</td>\n",
              "</tr>\n",
              "<tr>\n",
              "  <th>OneHotEncoder__idtypecuisine_gamme haute</th>           <td> 1.101e+04</td> <td> 5597.203</td> <td>    1.967</td> <td> 0.049</td> <td>   33.131</td> <td>  2.2e+04</td>\n",
              "</tr>\n",
              "<tr>\n",
              "  <th>OneHotEncoder__ville_Paris 10ème</th>                   <td> 4.134e+05</td> <td> 2.01e+04</td> <td>   20.533</td> <td> 0.000</td> <td> 3.74e+05</td> <td> 4.53e+05</td>\n",
              "</tr>\n",
              "<tr>\n",
              "  <th>OneHotEncoder__ville_Paris 11ème</th>                   <td> 4.437e+05</td> <td> 1.95e+04</td> <td>   22.802</td> <td> 0.000</td> <td> 4.06e+05</td> <td> 4.82e+05</td>\n",
              "</tr>\n",
              "<tr>\n",
              "  <th>OneHotEncoder__ville_Paris 12ème</th>                   <td> 3.926e+05</td> <td> 2.01e+04</td> <td>   19.539</td> <td> 0.000</td> <td> 3.53e+05</td> <td> 4.32e+05</td>\n",
              "</tr>\n",
              "<tr>\n",
              "  <th>OneHotEncoder__ville_Paris 13ème</th>                   <td> 4.022e+05</td> <td> 1.83e+04</td> <td>   21.961</td> <td> 0.000</td> <td> 3.66e+05</td> <td> 4.38e+05</td>\n",
              "</tr>\n",
              "<tr>\n",
              "  <th>OneHotEncoder__ville_Paris 14ème</th>                   <td> 4.161e+05</td> <td> 1.94e+04</td> <td>   21.456</td> <td> 0.000</td> <td> 3.78e+05</td> <td> 4.54e+05</td>\n",
              "</tr>\n",
              "<tr>\n",
              "  <th>OneHotEncoder__ville_Paris 15ème</th>                   <td> 4.399e+05</td> <td> 1.81e+04</td> <td>   24.302</td> <td> 0.000</td> <td> 4.04e+05</td> <td> 4.75e+05</td>\n",
              "</tr>\n",
              "<tr>\n",
              "  <th>OneHotEncoder__ville_Paris 16ème</th>                   <td> 5.158e+05</td> <td> 1.75e+04</td> <td>   29.501</td> <td> 0.000</td> <td> 4.81e+05</td> <td>  5.5e+05</td>\n",
              "</tr>\n",
              "<tr>\n",
              "  <th>OneHotEncoder__ville_Paris 17ème</th>                   <td> 4.718e+05</td> <td> 1.82e+04</td> <td>   25.947</td> <td> 0.000</td> <td> 4.36e+05</td> <td> 5.07e+05</td>\n",
              "</tr>\n",
              "<tr>\n",
              "  <th>OneHotEncoder__ville_Paris 18ème</th>                   <td> 4.016e+05</td> <td>  1.8e+04</td> <td>   22.272</td> <td> 0.000</td> <td> 3.66e+05</td> <td> 4.37e+05</td>\n",
              "</tr>\n",
              "<tr>\n",
              "  <th>OneHotEncoder__ville_Paris 19ème</th>                   <td> 3.127e+05</td> <td> 1.91e+04</td> <td>   16.379</td> <td> 0.000</td> <td> 2.75e+05</td> <td>  3.5e+05</td>\n",
              "</tr>\n",
              "<tr>\n",
              "  <th>OneHotEncoder__ville_Paris 1er</th>                     <td>  6.65e+05</td> <td> 2.96e+04</td> <td>   22.500</td> <td> 0.000</td> <td> 6.07e+05</td> <td> 7.23e+05</td>\n",
              "</tr>\n",
              "<tr>\n",
              "  <th>OneHotEncoder__ville_Paris 20ème</th>                   <td> 2.852e+05</td> <td> 1.94e+04</td> <td>   14.709</td> <td> 0.000</td> <td> 2.47e+05</td> <td> 3.23e+05</td>\n",
              "</tr>\n",
              "<tr>\n",
              "  <th>OneHotEncoder__ville_Paris 2ème</th>                    <td> 5.234e+05</td> <td> 2.59e+04</td> <td>   20.218</td> <td> 0.000</td> <td> 4.73e+05</td> <td> 5.74e+05</td>\n",
              "</tr>\n",
              "<tr>\n",
              "  <th>OneHotEncoder__ville_Paris 3ème</th>                    <td> 5.394e+05</td> <td> 2.32e+04</td> <td>   23.244</td> <td> 0.000</td> <td> 4.94e+05</td> <td> 5.85e+05</td>\n",
              "</tr>\n",
              "<tr>\n",
              "  <th>OneHotEncoder__ville_Paris 4ème</th>                    <td> 5.987e+05</td> <td> 2.23e+04</td> <td>   26.835</td> <td> 0.000</td> <td> 5.55e+05</td> <td> 6.42e+05</td>\n",
              "</tr>\n",
              "<tr>\n",
              "  <th>OneHotEncoder__ville_Paris 5ème</th>                    <td> 5.606e+05</td> <td> 2.18e+04</td> <td>   25.710</td> <td> 0.000</td> <td> 5.18e+05</td> <td> 6.03e+05</td>\n",
              "</tr>\n",
              "<tr>\n",
              "  <th>OneHotEncoder__ville_Paris 6ème</th>                    <td> 7.122e+05</td> <td> 2.05e+04</td> <td>   34.787</td> <td> 0.000</td> <td> 6.72e+05</td> <td> 7.52e+05</td>\n",
              "</tr>\n",
              "<tr>\n",
              "  <th>OneHotEncoder__ville_Paris 7ème</th>                    <td> 6.741e+05</td> <td>  2.1e+04</td> <td>   32.026</td> <td> 0.000</td> <td> 6.33e+05</td> <td> 7.15e+05</td>\n",
              "</tr>\n",
              "<tr>\n",
              "  <th>OneHotEncoder__ville_Paris 8ème</th>                    <td> 6.635e+05</td> <td> 2.15e+04</td> <td>   30.883</td> <td> 0.000</td> <td> 6.21e+05</td> <td> 7.06e+05</td>\n",
              "</tr>\n",
              "<tr>\n",
              "  <th>OneHotEncoder__ville_Paris 9ème</th>                    <td> 5.108e+05</td> <td> 2.27e+04</td> <td>   22.489</td> <td> 0.000</td> <td> 4.66e+05</td> <td> 5.55e+05</td>\n",
              "</tr>\n",
              "<tr>\n",
              "  <th>OneHotEncoder__idagence_moyenne</th>                    <td>-3184.0595</td> <td> 1.21e+04</td> <td>   -0.264</td> <td> 0.792</td> <td>-2.69e+04</td> <td> 2.05e+04</td>\n",
              "</tr>\n",
              "<tr>\n",
              "  <th>OneHotEncoder__idagence_petite</th>                     <td>-2.474e+04</td> <td> 1.04e+04</td> <td>   -2.373</td> <td> 0.018</td> <td>-4.52e+04</td> <td>-4296.595</td>\n",
              "</tr>\n",
              "<tr>\n",
              "  <th>OneHotEncoder__idagence_très petite</th>                <td>-2.278e+04</td> <td> 9120.691</td> <td>   -2.498</td> <td> 0.013</td> <td>-4.07e+04</td> <td>-4897.499</td>\n",
              "</tr>\n",
              "<tr>\n",
              "  <th>Scaler__nb_chambres</th>                                <td>-3427.9932</td> <td> 6216.195</td> <td>   -0.551</td> <td> 0.581</td> <td>-1.56e+04</td> <td> 8759.436</td>\n",
              "</tr>\n",
              "<tr>\n",
              "  <th>Scaler__nb_pieces</th>                                  <td> 5974.9582</td> <td> 7307.732</td> <td>    0.818</td> <td> 0.414</td> <td>-8352.531</td> <td> 2.03e+04</td>\n",
              "</tr>\n",
              "<tr>\n",
              "  <th>Scaler__nb_photos</th>                                  <td> 2269.7102</td> <td> 2824.828</td> <td>    0.803</td> <td> 0.422</td> <td>-3268.627</td> <td> 7808.048</td>\n",
              "</tr>\n",
              "<tr>\n",
              "  <th>Scaler__surface</th>                                    <td> 2.799e+05</td> <td> 5398.544</td> <td>   51.848</td> <td> 0.000</td> <td> 2.69e+05</td> <td>  2.9e+05</td>\n",
              "</tr>\n",
              "<tr>\n",
              "  <th>Scaler__freq_annonce</th>                               <td> 1.405e+04</td> <td> 2707.977</td> <td>    5.188</td> <td> 0.000</td> <td> 8739.903</td> <td> 1.94e+04</td>\n",
              "</tr>\n",
              "</table>\n",
              "<table class=\"simpletable\">\n",
              "<tr>\n",
              "  <th>Omnibus:</th>       <td>423.722</td> <th>  Durbin-Watson:     </th> <td>   1.450</td>\n",
              "</tr>\n",
              "<tr>\n",
              "  <th>Prob(Omnibus):</th> <td> 0.000</td>  <th>  Jarque-Bera (JB):  </th> <td>3752.596</td>\n",
              "</tr>\n",
              "<tr>\n",
              "  <th>Skew:</th>          <td> 0.115</td>  <th>  Prob(JB):          </th> <td>    0.00</td>\n",
              "</tr>\n",
              "<tr>\n",
              "  <th>Kurtosis:</th>      <td> 7.858</td>  <th>  Cond. No.          </th> <td>    209.</td>\n",
              "</tr>\n",
              "</table><br/><br/>Notes:<br/>[1] Standard Errors assume that the covariance matrix of the errors is correctly specified."
            ],
            "text/plain": [
              "<class 'statsmodels.iolib.summary.Summary'>\n",
              "\"\"\"\n",
              "                            OLS Regression Results                            \n",
              "==============================================================================\n",
              "Dep. Variable:                   prix   R-squared:                       0.820\n",
              "Model:                            OLS   Adj. R-squared:                  0.818\n",
              "Method:                 Least Squares   F-statistic:                     491.4\n",
              "Date:                Tue, 15 Nov 2022   Prob (F-statistic):               0.00\n",
              "Time:                        17:25:15   Log-Likelihood:                -51119.\n",
              "No. Observations:                3808   AIC:                         1.023e+05\n",
              "Df Residuals:                    3772   BIC:                         1.025e+05\n",
              "Df Model:                          35                                         \n",
              "Covariance Type:            nonrobust                                         \n",
              "======================================================================================================================\n",
              "                                                         coef    std err          t      P>|t|      [0.025      0.975]\n",
              "----------------------------------------------------------------------------------------------------------------------\n",
              "const                                               2.774e+05   1.66e+05      1.674      0.094   -4.74e+04    6.02e+05\n",
              "OneHotEncoder__si_balcon_1                          1.877e+04   6626.578      2.832      0.005    5773.211    3.18e+04\n",
              "OneHotEncoder__typedebien_Loft/Atelier/Surface      -8.63e+04   2.51e+04     -3.433      0.001   -1.36e+05    -3.7e+04\n",
              "OneHotEncoder__idtypepublicationsourcecouplage_SL   4.099e+04   1.65e+05      0.249      0.804   -2.82e+05    3.64e+05\n",
              "OneHotEncoder__idtypepublicationsourcecouplage_SL9  1.419e+05   1.83e+05      0.774      0.439   -2.17e+05    5.01e+05\n",
              "OneHotEncoder__naturebien_2                         6.428e+04   6.74e+04      0.954      0.340   -6.78e+04    1.96e+05\n",
              "OneHotEncoder__naturebien_3                         2.325e+05   1.65e+05      1.411      0.158   -9.06e+04    5.55e+05\n",
              "OneHotEncoder__idtypecuisine_gamme haute            1.101e+04   5597.203      1.967      0.049      33.131     2.2e+04\n",
              "OneHotEncoder__ville_Paris 10ème                    4.134e+05   2.01e+04     20.533      0.000    3.74e+05    4.53e+05\n",
              "OneHotEncoder__ville_Paris 11ème                    4.437e+05   1.95e+04     22.802      0.000    4.06e+05    4.82e+05\n",
              "OneHotEncoder__ville_Paris 12ème                    3.926e+05   2.01e+04     19.539      0.000    3.53e+05    4.32e+05\n",
              "OneHotEncoder__ville_Paris 13ème                    4.022e+05   1.83e+04     21.961      0.000    3.66e+05    4.38e+05\n",
              "OneHotEncoder__ville_Paris 14ème                    4.161e+05   1.94e+04     21.456      0.000    3.78e+05    4.54e+05\n",
              "OneHotEncoder__ville_Paris 15ème                    4.399e+05   1.81e+04     24.302      0.000    4.04e+05    4.75e+05\n",
              "OneHotEncoder__ville_Paris 16ème                    5.158e+05   1.75e+04     29.501      0.000    4.81e+05     5.5e+05\n",
              "OneHotEncoder__ville_Paris 17ème                    4.718e+05   1.82e+04     25.947      0.000    4.36e+05    5.07e+05\n",
              "OneHotEncoder__ville_Paris 18ème                    4.016e+05    1.8e+04     22.272      0.000    3.66e+05    4.37e+05\n",
              "OneHotEncoder__ville_Paris 19ème                    3.127e+05   1.91e+04     16.379      0.000    2.75e+05     3.5e+05\n",
              "OneHotEncoder__ville_Paris 1er                       6.65e+05   2.96e+04     22.500      0.000    6.07e+05    7.23e+05\n",
              "OneHotEncoder__ville_Paris 20ème                    2.852e+05   1.94e+04     14.709      0.000    2.47e+05    3.23e+05\n",
              "OneHotEncoder__ville_Paris 2ème                     5.234e+05   2.59e+04     20.218      0.000    4.73e+05    5.74e+05\n",
              "OneHotEncoder__ville_Paris 3ème                     5.394e+05   2.32e+04     23.244      0.000    4.94e+05    5.85e+05\n",
              "OneHotEncoder__ville_Paris 4ème                     5.987e+05   2.23e+04     26.835      0.000    5.55e+05    6.42e+05\n",
              "OneHotEncoder__ville_Paris 5ème                     5.606e+05   2.18e+04     25.710      0.000    5.18e+05    6.03e+05\n",
              "OneHotEncoder__ville_Paris 6ème                     7.122e+05   2.05e+04     34.787      0.000    6.72e+05    7.52e+05\n",
              "OneHotEncoder__ville_Paris 7ème                     6.741e+05    2.1e+04     32.026      0.000    6.33e+05    7.15e+05\n",
              "OneHotEncoder__ville_Paris 8ème                     6.635e+05   2.15e+04     30.883      0.000    6.21e+05    7.06e+05\n",
              "OneHotEncoder__ville_Paris 9ème                     5.108e+05   2.27e+04     22.489      0.000    4.66e+05    5.55e+05\n",
              "OneHotEncoder__idagence_moyenne                    -3184.0595   1.21e+04     -0.264      0.792   -2.69e+04    2.05e+04\n",
              "OneHotEncoder__idagence_petite                     -2.474e+04   1.04e+04     -2.373      0.018   -4.52e+04   -4296.595\n",
              "OneHotEncoder__idagence_très petite                -2.278e+04   9120.691     -2.498      0.013   -4.07e+04   -4897.499\n",
              "Scaler__nb_chambres                                -3427.9932   6216.195     -0.551      0.581   -1.56e+04    8759.436\n",
              "Scaler__nb_pieces                                   5974.9582   7307.732      0.818      0.414   -8352.531    2.03e+04\n",
              "Scaler__nb_photos                                   2269.7102   2824.828      0.803      0.422   -3268.627    7808.048\n",
              "Scaler__surface                                     2.799e+05   5398.544     51.848      0.000    2.69e+05     2.9e+05\n",
              "Scaler__freq_annonce                                1.405e+04   2707.977      5.188      0.000    8739.903    1.94e+04\n",
              "==============================================================================\n",
              "Omnibus:                      423.722   Durbin-Watson:                   1.450\n",
              "Prob(Omnibus):                  0.000   Jarque-Bera (JB):             3752.596\n",
              "Skew:                           0.115   Prob(JB):                         0.00\n",
              "Kurtosis:                       7.858   Cond. No.                         209.\n",
              "==============================================================================\n",
              "\n",
              "Notes:\n",
              "[1] Standard Errors assume that the covariance matrix of the errors is correctly specified.\n",
              "\"\"\""
            ]
          },
          "execution_count": 306,
          "metadata": {},
          "output_type": "execute_result"
        }
      ],
      "source": [
        "import statsmodels.api as sm\n",
        "\n",
        "X_reg = sm.add_constant(X)\n",
        "model = sm.OLS(y, X_reg).fit()\n",
        "model.summary()\n"
      ]
    },
    {
      "cell_type": "markdown",
      "metadata": {
        "id": "SKyuyIvC3qaH"
      },
      "source": [
        "- R-squared nous indique a quel point la droite de régression linéaire est ajustée aux données ; plus ce coefficient est proche de 1, mieux la droite est ajustée aux données.\n",
        "\n",
        "- Les variables qui semblent être pertinentes pour la prédiction sont celles qui ont une p_value faible (colonne P>|t|):\n",
        "    - la surface\n",
        "    - la fréquence d'apparition de l'annonce\n",
        "    - le nombre de photos\n",
        "    - le nombre de chambres\n",
        "    - si le bien se situe à Paris ou en banlieue\n",
        "    - le type de bien"
      ]
    },
    {
      "cell_type": "code",
      "execution_count": null,
      "metadata": {
        "colab": {
          "base_uri": "https://localhost:8080/",
          "height": 1000
        },
        "id": "h6qSw940TXAy",
        "outputId": "17984209-b965-4494-b64e-6a4b0e8bb7b6"
      },
      "outputs": [
        {
          "data": {
            "text/html": [
              "<table class=\"simpletable\">\n",
              "<caption>OLS Regression Results</caption>\n",
              "<tr>\n",
              "  <th>Dep. Variable:</th>          <td>prix</td>       <th>  R-squared:         </th> <td>   0.692</td> \n",
              "</tr>\n",
              "<tr>\n",
              "  <th>Model:</th>                   <td>OLS</td>       <th>  Adj. R-squared:    </th> <td>   0.689</td> \n",
              "</tr>\n",
              "<tr>\n",
              "  <th>Method:</th>             <td>Least Squares</td>  <th>  F-statistic:       </th> <td>   249.2</td> \n",
              "</tr>\n",
              "<tr>\n",
              "  <th>Date:</th>             <td>Tue, 15 Nov 2022</td> <th>  Prob (F-statistic):</th>  <td>  0.00</td>  \n",
              "</tr>\n",
              "<tr>\n",
              "  <th>Time:</th>                 <td>17:37:09</td>     <th>  Log-Likelihood:    </th> <td> -52143.</td> \n",
              "</tr>\n",
              "<tr>\n",
              "  <th>No. Observations:</th>      <td>  3808</td>      <th>  AIC:               </th> <td>1.044e+05</td>\n",
              "</tr>\n",
              "<tr>\n",
              "  <th>Df Residuals:</th>          <td>  3773</td>      <th>  BIC:               </th> <td>1.046e+05</td>\n",
              "</tr>\n",
              "<tr>\n",
              "  <th>Df Model:</th>              <td>    34</td>      <th>                     </th>     <td> </td>    \n",
              "</tr>\n",
              "<tr>\n",
              "  <th>Covariance Type:</th>      <td>nonrobust</td>    <th>                     </th>     <td> </td>    \n",
              "</tr>\n",
              "</table>\n",
              "<table class=\"simpletable\">\n",
              "<tr>\n",
              "                           <td></td>                             <th>coef</th>     <th>std err</th>      <th>t</th>      <th>P>|t|</th>  <th>[0.025</th>    <th>0.975]</th>  \n",
              "</tr>\n",
              "<tr>\n",
              "  <th>const</th>                                              <td> 6.649e+04</td> <td> 2.17e+05</td> <td>    0.307</td> <td> 0.759</td> <td>-3.58e+05</td> <td> 4.91e+05</td>\n",
              "</tr>\n",
              "<tr>\n",
              "  <th>OneHotEncoder__si_balcon_1</th>                         <td> 3.752e+04</td> <td> 8658.071</td> <td>    4.334</td> <td> 0.000</td> <td> 2.05e+04</td> <td> 5.45e+04</td>\n",
              "</tr>\n",
              "<tr>\n",
              "  <th>OneHotEncoder__typedebien_Loft/Atelier/Surface</th>     <td> 7.383e+04</td> <td> 3.26e+04</td> <td>    2.262</td> <td> 0.024</td> <td> 9837.941</td> <td> 1.38e+05</td>\n",
              "</tr>\n",
              "<tr>\n",
              "  <th>OneHotEncoder__idtypepublicationsourcecouplage_SL</th>  <td> 1.934e+05</td> <td> 2.16e+05</td> <td>    0.897</td> <td> 0.370</td> <td>-2.29e+05</td> <td> 6.16e+05</td>\n",
              "</tr>\n",
              "<tr>\n",
              "  <th>OneHotEncoder__idtypepublicationsourcecouplage_SL9</th> <td> 2.828e+05</td> <td>  2.4e+05</td> <td>    1.180</td> <td> 0.238</td> <td>-1.87e+05</td> <td> 7.53e+05</td>\n",
              "</tr>\n",
              "<tr>\n",
              "  <th>OneHotEncoder__naturebien_2</th>                        <td> 4.947e+04</td> <td> 8.82e+04</td> <td>    0.561</td> <td> 0.575</td> <td>-1.23e+05</td> <td> 2.22e+05</td>\n",
              "</tr>\n",
              "<tr>\n",
              "  <th>OneHotEncoder__naturebien_3</th>                        <td> 4.729e+05</td> <td> 2.16e+05</td> <td>    2.194</td> <td> 0.028</td> <td> 5.04e+04</td> <td> 8.95e+05</td>\n",
              "</tr>\n",
              "<tr>\n",
              "  <th>OneHotEncoder__idtypecuisine_gamme haute</th>           <td> 2.128e+04</td> <td> 7319.456</td> <td>    2.907</td> <td> 0.004</td> <td> 6926.825</td> <td> 3.56e+04</td>\n",
              "</tr>\n",
              "<tr>\n",
              "  <th>OneHotEncoder__ville_Paris 10ème</th>                   <td> 4.463e+05</td> <td> 2.63e+04</td> <td>   16.952</td> <td> 0.000</td> <td> 3.95e+05</td> <td> 4.98e+05</td>\n",
              "</tr>\n",
              "<tr>\n",
              "  <th>OneHotEncoder__ville_Paris 11ème</th>                   <td> 4.697e+05</td> <td> 2.55e+04</td> <td>   18.453</td> <td> 0.000</td> <td>  4.2e+05</td> <td>  5.2e+05</td>\n",
              "</tr>\n",
              "<tr>\n",
              "  <th>OneHotEncoder__ville_Paris 12ème</th>                   <td> 4.202e+05</td> <td> 2.63e+04</td> <td>   15.989</td> <td> 0.000</td> <td> 3.69e+05</td> <td> 4.72e+05</td>\n",
              "</tr>\n",
              "<tr>\n",
              "  <th>OneHotEncoder__ville_Paris 13ème</th>                   <td> 4.091e+05</td> <td>  2.4e+04</td> <td>   17.073</td> <td> 0.000</td> <td> 3.62e+05</td> <td> 4.56e+05</td>\n",
              "</tr>\n",
              "<tr>\n",
              "  <th>OneHotEncoder__ville_Paris 14ème</th>                   <td> 4.385e+05</td> <td> 2.54e+04</td> <td>   17.287</td> <td> 0.000</td> <td> 3.89e+05</td> <td> 4.88e+05</td>\n",
              "</tr>\n",
              "<tr>\n",
              "  <th>OneHotEncoder__ville_Paris 15ème</th>                   <td> 4.636e+05</td> <td> 2.37e+04</td> <td>   19.576</td> <td> 0.000</td> <td> 4.17e+05</td> <td>  5.1e+05</td>\n",
              "</tr>\n",
              "<tr>\n",
              "  <th>OneHotEncoder__ville_Paris 16ème</th>                   <td> 6.086e+05</td> <td> 2.28e+04</td> <td>   26.745</td> <td> 0.000</td> <td> 5.64e+05</td> <td> 6.53e+05</td>\n",
              "</tr>\n",
              "<tr>\n",
              "  <th>OneHotEncoder__ville_Paris 17ème</th>                   <td> 4.869e+05</td> <td> 2.38e+04</td> <td>   20.465</td> <td> 0.000</td> <td>  4.4e+05</td> <td> 5.34e+05</td>\n",
              "</tr>\n",
              "<tr>\n",
              "  <th>OneHotEncoder__ville_Paris 18ème</th>                   <td>  4.17e+05</td> <td> 2.36e+04</td> <td>   17.677</td> <td> 0.000</td> <td> 3.71e+05</td> <td> 4.63e+05</td>\n",
              "</tr>\n",
              "<tr>\n",
              "  <th>OneHotEncoder__ville_Paris 19ème</th>                   <td> 3.306e+05</td> <td>  2.5e+04</td> <td>   13.237</td> <td> 0.000</td> <td> 2.82e+05</td> <td>  3.8e+05</td>\n",
              "</tr>\n",
              "<tr>\n",
              "  <th>OneHotEncoder__ville_Paris 1er</th>                     <td> 6.973e+05</td> <td> 3.87e+04</td> <td>   18.035</td> <td> 0.000</td> <td> 6.22e+05</td> <td> 7.73e+05</td>\n",
              "</tr>\n",
              "<tr>\n",
              "  <th>OneHotEncoder__ville_Paris 20ème</th>                   <td> 3.157e+05</td> <td> 2.54e+04</td> <td>   12.446</td> <td> 0.000</td> <td> 2.66e+05</td> <td> 3.65e+05</td>\n",
              "</tr>\n",
              "<tr>\n",
              "  <th>OneHotEncoder__ville_Paris 2ème</th>                    <td> 5.494e+05</td> <td> 3.39e+04</td> <td>   16.221</td> <td> 0.000</td> <td> 4.83e+05</td> <td> 6.16e+05</td>\n",
              "</tr>\n",
              "<tr>\n",
              "  <th>OneHotEncoder__ville_Paris 3ème</th>                    <td> 5.774e+05</td> <td> 3.04e+04</td> <td>   19.023</td> <td> 0.000</td> <td> 5.18e+05</td> <td> 6.37e+05</td>\n",
              "</tr>\n",
              "<tr>\n",
              "  <th>OneHotEncoder__ville_Paris 4ème</th>                    <td> 6.432e+05</td> <td> 2.92e+04</td> <td>   22.048</td> <td> 0.000</td> <td> 5.86e+05</td> <td>    7e+05</td>\n",
              "</tr>\n",
              "<tr>\n",
              "  <th>OneHotEncoder__ville_Paris 5ème</th>                    <td> 5.606e+05</td> <td> 2.85e+04</td> <td>   19.649</td> <td> 0.000</td> <td> 5.05e+05</td> <td> 6.17e+05</td>\n",
              "</tr>\n",
              "<tr>\n",
              "  <th>OneHotEncoder__ville_Paris 6ème</th>                    <td>  7.27e+05</td> <td> 2.68e+04</td> <td>   27.140</td> <td> 0.000</td> <td> 6.74e+05</td> <td>  7.8e+05</td>\n",
              "</tr>\n",
              "<tr>\n",
              "  <th>OneHotEncoder__ville_Paris 7ème</th>                    <td> 6.758e+05</td> <td> 2.75e+04</td> <td>   24.536</td> <td> 0.000</td> <td> 6.22e+05</td> <td>  7.3e+05</td>\n",
              "</tr>\n",
              "<tr>\n",
              "  <th>OneHotEncoder__ville_Paris 8ème</th>                    <td> 7.298e+05</td> <td> 2.81e+04</td> <td>   26.008</td> <td> 0.000</td> <td> 6.75e+05</td> <td> 7.85e+05</td>\n",
              "</tr>\n",
              "<tr>\n",
              "  <th>OneHotEncoder__ville_Paris 9ème</th>                    <td> 5.747e+05</td> <td> 2.97e+04</td> <td>   19.365</td> <td> 0.000</td> <td> 5.17e+05</td> <td> 6.33e+05</td>\n",
              "</tr>\n",
              "<tr>\n",
              "  <th>OneHotEncoder__idagence_moyenne</th>                    <td>-1.256e+04</td> <td> 1.58e+04</td> <td>   -0.795</td> <td> 0.427</td> <td>-4.35e+04</td> <td> 1.84e+04</td>\n",
              "</tr>\n",
              "<tr>\n",
              "  <th>OneHotEncoder__idagence_petite</th>                     <td>-1.777e+04</td> <td> 1.36e+04</td> <td>   -1.303</td> <td> 0.193</td> <td>-4.45e+04</td> <td> 8972.747</td>\n",
              "</tr>\n",
              "<tr>\n",
              "  <th>OneHotEncoder__idagence_très petite</th>                <td>-1.703e+04</td> <td> 1.19e+04</td> <td>   -1.427</td> <td> 0.154</td> <td>-4.04e+04</td> <td> 6367.811</td>\n",
              "</tr>\n",
              "<tr>\n",
              "  <th>Scaler__nb_chambres</th>                                <td> 2.712e+04</td> <td> 8097.385</td> <td>    3.349</td> <td> 0.001</td> <td> 1.12e+04</td> <td>  4.3e+04</td>\n",
              "</tr>\n",
              "<tr>\n",
              "  <th>Scaler__nb_pieces</th>                                  <td> 2.003e+05</td> <td> 8209.545</td> <td>   24.393</td> <td> 0.000</td> <td> 1.84e+05</td> <td> 2.16e+05</td>\n",
              "</tr>\n",
              "<tr>\n",
              "  <th>Scaler__nb_photos</th>                                  <td> 1.243e+04</td> <td> 3687.441</td> <td>    3.370</td> <td> 0.001</td> <td> 5196.262</td> <td> 1.97e+04</td>\n",
              "</tr>\n",
              "<tr>\n",
              "  <th>Scaler__freq_annonce</th>                               <td> 2.528e+04</td> <td> 3532.078</td> <td>    7.158</td> <td> 0.000</td> <td> 1.84e+04</td> <td> 3.22e+04</td>\n",
              "</tr>\n",
              "</table>\n",
              "<table class=\"simpletable\">\n",
              "<tr>\n",
              "  <th>Omnibus:</th>       <td>399.926</td> <th>  Durbin-Watson:     </th> <td>   1.127</td> \n",
              "</tr>\n",
              "<tr>\n",
              "  <th>Prob(Omnibus):</th> <td> 0.000</td>  <th>  Jarque-Bera (JB):  </th> <td> 977.622</td> \n",
              "</tr>\n",
              "<tr>\n",
              "  <th>Skew:</th>          <td> 0.613</td>  <th>  Prob(JB):          </th> <td>5.15e-213</td>\n",
              "</tr>\n",
              "<tr>\n",
              "  <th>Kurtosis:</th>      <td> 5.158</td>  <th>  Cond. No.          </th> <td>    197.</td> \n",
              "</tr>\n",
              "</table><br/><br/>Notes:<br/>[1] Standard Errors assume that the covariance matrix of the errors is correctly specified."
            ],
            "text/plain": [
              "<class 'statsmodels.iolib.summary.Summary'>\n",
              "\"\"\"\n",
              "                            OLS Regression Results                            \n",
              "==============================================================================\n",
              "Dep. Variable:                   prix   R-squared:                       0.692\n",
              "Model:                            OLS   Adj. R-squared:                  0.689\n",
              "Method:                 Least Squares   F-statistic:                     249.2\n",
              "Date:                Tue, 15 Nov 2022   Prob (F-statistic):               0.00\n",
              "Time:                        17:37:09   Log-Likelihood:                -52143.\n",
              "No. Observations:                3808   AIC:                         1.044e+05\n",
              "Df Residuals:                    3773   BIC:                         1.046e+05\n",
              "Df Model:                          34                                         \n",
              "Covariance Type:            nonrobust                                         \n",
              "======================================================================================================================\n",
              "                                                         coef    std err          t      P>|t|      [0.025      0.975]\n",
              "----------------------------------------------------------------------------------------------------------------------\n",
              "const                                               6.649e+04   2.17e+05      0.307      0.759   -3.58e+05    4.91e+05\n",
              "OneHotEncoder__si_balcon_1                          3.752e+04   8658.071      4.334      0.000    2.05e+04    5.45e+04\n",
              "OneHotEncoder__typedebien_Loft/Atelier/Surface      7.383e+04   3.26e+04      2.262      0.024    9837.941    1.38e+05\n",
              "OneHotEncoder__idtypepublicationsourcecouplage_SL   1.934e+05   2.16e+05      0.897      0.370   -2.29e+05    6.16e+05\n",
              "OneHotEncoder__idtypepublicationsourcecouplage_SL9  2.828e+05    2.4e+05      1.180      0.238   -1.87e+05    7.53e+05\n",
              "OneHotEncoder__naturebien_2                         4.947e+04   8.82e+04      0.561      0.575   -1.23e+05    2.22e+05\n",
              "OneHotEncoder__naturebien_3                         4.729e+05   2.16e+05      2.194      0.028    5.04e+04    8.95e+05\n",
              "OneHotEncoder__idtypecuisine_gamme haute            2.128e+04   7319.456      2.907      0.004    6926.825    3.56e+04\n",
              "OneHotEncoder__ville_Paris 10ème                    4.463e+05   2.63e+04     16.952      0.000    3.95e+05    4.98e+05\n",
              "OneHotEncoder__ville_Paris 11ème                    4.697e+05   2.55e+04     18.453      0.000     4.2e+05     5.2e+05\n",
              "OneHotEncoder__ville_Paris 12ème                    4.202e+05   2.63e+04     15.989      0.000    3.69e+05    4.72e+05\n",
              "OneHotEncoder__ville_Paris 13ème                    4.091e+05    2.4e+04     17.073      0.000    3.62e+05    4.56e+05\n",
              "OneHotEncoder__ville_Paris 14ème                    4.385e+05   2.54e+04     17.287      0.000    3.89e+05    4.88e+05\n",
              "OneHotEncoder__ville_Paris 15ème                    4.636e+05   2.37e+04     19.576      0.000    4.17e+05     5.1e+05\n",
              "OneHotEncoder__ville_Paris 16ème                    6.086e+05   2.28e+04     26.745      0.000    5.64e+05    6.53e+05\n",
              "OneHotEncoder__ville_Paris 17ème                    4.869e+05   2.38e+04     20.465      0.000     4.4e+05    5.34e+05\n",
              "OneHotEncoder__ville_Paris 18ème                     4.17e+05   2.36e+04     17.677      0.000    3.71e+05    4.63e+05\n",
              "OneHotEncoder__ville_Paris 19ème                    3.306e+05    2.5e+04     13.237      0.000    2.82e+05     3.8e+05\n",
              "OneHotEncoder__ville_Paris 1er                      6.973e+05   3.87e+04     18.035      0.000    6.22e+05    7.73e+05\n",
              "OneHotEncoder__ville_Paris 20ème                    3.157e+05   2.54e+04     12.446      0.000    2.66e+05    3.65e+05\n",
              "OneHotEncoder__ville_Paris 2ème                     5.494e+05   3.39e+04     16.221      0.000    4.83e+05    6.16e+05\n",
              "OneHotEncoder__ville_Paris 3ème                     5.774e+05   3.04e+04     19.023      0.000    5.18e+05    6.37e+05\n",
              "OneHotEncoder__ville_Paris 4ème                     6.432e+05   2.92e+04     22.048      0.000    5.86e+05       7e+05\n",
              "OneHotEncoder__ville_Paris 5ème                     5.606e+05   2.85e+04     19.649      0.000    5.05e+05    6.17e+05\n",
              "OneHotEncoder__ville_Paris 6ème                      7.27e+05   2.68e+04     27.140      0.000    6.74e+05     7.8e+05\n",
              "OneHotEncoder__ville_Paris 7ème                     6.758e+05   2.75e+04     24.536      0.000    6.22e+05     7.3e+05\n",
              "OneHotEncoder__ville_Paris 8ème                     7.298e+05   2.81e+04     26.008      0.000    6.75e+05    7.85e+05\n",
              "OneHotEncoder__ville_Paris 9ème                     5.747e+05   2.97e+04     19.365      0.000    5.17e+05    6.33e+05\n",
              "OneHotEncoder__idagence_moyenne                    -1.256e+04   1.58e+04     -0.795      0.427   -4.35e+04    1.84e+04\n",
              "OneHotEncoder__idagence_petite                     -1.777e+04   1.36e+04     -1.303      0.193   -4.45e+04    8972.747\n",
              "OneHotEncoder__idagence_très petite                -1.703e+04   1.19e+04     -1.427      0.154   -4.04e+04    6367.811\n",
              "Scaler__nb_chambres                                 2.712e+04   8097.385      3.349      0.001    1.12e+04     4.3e+04\n",
              "Scaler__nb_pieces                                   2.003e+05   8209.545     24.393      0.000    1.84e+05    2.16e+05\n",
              "Scaler__nb_photos                                   1.243e+04   3687.441      3.370      0.001    5196.262    1.97e+04\n",
              "Scaler__freq_annonce                                2.528e+04   3532.078      7.158      0.000    1.84e+04    3.22e+04\n",
              "==============================================================================\n",
              "Omnibus:                      399.926   Durbin-Watson:                   1.127\n",
              "Prob(Omnibus):                  0.000   Jarque-Bera (JB):              977.622\n",
              "Skew:                           0.613   Prob(JB):                    5.15e-213\n",
              "Kurtosis:                       5.158   Cond. No.                         197.\n",
              "==============================================================================\n",
              "\n",
              "Notes:\n",
              "[1] Standard Errors assume that the covariance matrix of the errors is correctly specified.\n",
              "\"\"\""
            ]
          },
          "execution_count": 327,
          "metadata": {},
          "output_type": "execute_result"
        }
      ],
      "source": [
        "X_nosurface = X.copy()\n",
        "X_nosurface.drop('Scaler__surface', axis = 1, inplace = True)\n",
        "X_reg = sm.add_constant(X_nosurface)\n",
        "model = sm.OLS(y, X_reg).fit()\n",
        "model.summary()"
      ]
    },
    {
      "cell_type": "code",
      "execution_count": null,
      "metadata": {
        "colab": {
          "base_uri": "https://localhost:8080/"
        },
        "id": "LuX0HXLl3qaH",
        "outputId": "301f2bef-d960-4edb-fc9a-07589e7b704f"
      },
      "outputs": [
        {
          "data": {
            "text/plain": [
              "Appartement             3763\n",
              "Loft/Atelier/Surface      45\n",
              "Name: typedebien, dtype: int64"
            ]
          },
          "execution_count": 184,
          "metadata": {},
          "output_type": "execute_result"
        }
      ],
      "source": [
        "# Attention cependant au type de bien car il n'y a que 45 occurences de la catégorie Loft/Atelier/Surface \n",
        "df['typedebien'].value_counts()"
      ]
    },
    {
      "cell_type": "markdown",
      "metadata": {
        "id": "L0ZO4jqz3qaH"
      },
      "source": [
        "## Random Forest"
      ]
    },
    {
      "cell_type": "code",
      "execution_count": null,
      "metadata": {
        "id": "jKLC9lVt3qaH"
      },
      "outputs": [],
      "source": [
        "from sklearn.ensemble import RandomForestRegressor"
      ]
    },
    {
      "cell_type": "code",
      "execution_count": null,
      "metadata": {
        "colab": {
          "base_uri": "https://localhost:8080/"
        },
        "id": "0zVjxfx13qaH",
        "outputId": "5ff0c5f6-3f0e-481d-9637-ae0c74da7fbe"
      },
      "outputs": [
        {
          "data": {
            "text/plain": [
              "RandomForestRegressor()"
            ]
          },
          "execution_count": 186,
          "metadata": {},
          "output_type": "execute_result"
        }
      ],
      "source": [
        "reg = RandomForestRegressor()\n",
        "\n",
        "reg.fit(X, y)"
      ]
    },
    {
      "cell_type": "code",
      "execution_count": null,
      "metadata": {
        "id": "_DhlmcdE3qaH"
      },
      "outputs": [],
      "source": [
        "def forest_importances(clf, features_name = None):\n",
        "    if features_name is None:\n",
        "        features_name = clf.get_feature_names_out()\n",
        "    fi = pd.Series(clf.feature_importances_, index=features_name)\n",
        "    fig, ax = plt.subplots(figsize = (10,8))\n",
        "    \n",
        "    #std = np.std([clf.feature_importances_ for tree in clf.estimators_], axis=0)\n",
        "    fi.plot.bar(ax=ax)\n",
        "    ax.set_title(\"importances des features avec la méthode MDI\")\n",
        "    ax.set_ylabel(\"decroissance moyenne de l'impurté\")\n",
        "    fig.tight_layout()"
      ]
    },
    {
      "cell_type": "code",
      "execution_count": null,
      "metadata": {
        "colab": {
          "base_uri": "https://localhost:8080/"
        },
        "id": "PXL0wAEL3qaI",
        "outputId": "973a0352-263c-4bd8-d22d-c984964bcb63"
      },
      "outputs": [
        {
          "data": {
            "image/png": "[encoded data removed]",
            "text/plain": [
              "<Figure size 720x576 with 1 Axes>"
            ]
          },
          "metadata": {
            "needs_background": "light"
          },
          "output_type": "display_data"
        }
      ],
      "source": [
        "forest_importances(reg, ct.get_feature_names_out())"
      ]
    },
    {
      "cell_type": "markdown",
      "metadata": {
        "id": "ErJRMz-t3qaI"
      },
      "source": [
        "- Le modèle random forest semble indiquer que la surface est la variable qui expliqude le mieux le prix, suivie de la variable qui concerne la nature du bien.\n",
        "\n",
        "Il fauter noter ici que deux modèles différents (ici la régression linéaire et le random forest) peuvent donner des explications différentes."
      ]
    },
    {
      "cell_type": "markdown",
      "metadata": {
        "id": "_vIvErgI3qaI"
      },
      "source": [
        "# Prédire les prix"
      ]
    },
    {
      "cell_type": "code",
      "execution_count": null,
      "metadata": {
        "id": "uZHqPaxk3qaI"
      },
      "outputs": [],
      "source": [
        "from sklearn.model_selection import train_test_split \n"
      ]
    },
    {
      "cell_type": "code",
      "execution_count": null,
      "metadata": {
        "colab": {
          "base_uri": "https://localhost:8080/"
        },
        "id": "euORyTpv3qaI",
        "outputId": "b775c6d2-394d-4b7b-dbe4-8e9fa8392e21"
      },
      "outputs": [
        {
          "data": {
            "text/html": [
              "\n",
              "  <div id=\"df-b8ede7bf-db59-42a3-bcba-6212f380993e\">\n",
              "    <div class=\"colab-df-container\">\n",
              "      <div>\n",
              "<style scoped>\n",
              "    .dataframe tbody tr th:only-of-type {\n",
              "        vertical-align: middle;\n",
              "    }\n",
              "\n",
              "    .dataframe tbody tr th {\n",
              "        vertical-align: top;\n",
              "    }\n",
              "\n",
              "    .dataframe thead th {\n",
              "        text-align: right;\n",
              "    }\n",
              "</style>\n",
              "<table border=\"1\" class=\"dataframe\">\n",
              "  <thead>\n",
              "    <tr style=\"text-align: right;\">\n",
              "      <th></th>\n",
              "      <th>idagence</th>\n",
              "      <th>freq_annonce</th>\n",
              "      <th>idtypecuisine</th>\n",
              "      <th>idtypepublicationsourcecouplage</th>\n",
              "      <th>naturebien</th>\n",
              "      <th>nb_chambres</th>\n",
              "      <th>nb_photos</th>\n",
              "      <th>nb_pieces</th>\n",
              "      <th>si_balcon</th>\n",
              "      <th>surface</th>\n",
              "      <th>typedebien</th>\n",
              "      <th>ville</th>\n",
              "    </tr>\n",
              "  </thead>\n",
              "  <tbody>\n",
              "    <tr>\n",
              "      <th>0</th>\n",
              "      <td>très petite</td>\n",
              "      <td>1</td>\n",
              "      <td>autre</td>\n",
              "      <td>SL</td>\n",
              "      <td>1</td>\n",
              "      <td>2</td>\n",
              "      <td>13</td>\n",
              "      <td>3</td>\n",
              "      <td>1</td>\n",
              "      <td>69.00</td>\n",
              "      <td>Appartement</td>\n",
              "      <td>Paris 16ème</td>\n",
              "    </tr>\n",
              "    <tr>\n",
              "      <th>2</th>\n",
              "      <td>très petite</td>\n",
              "      <td>1</td>\n",
              "      <td>gamme haute</td>\n",
              "      <td>SL</td>\n",
              "      <td>1</td>\n",
              "      <td>1</td>\n",
              "      <td>8</td>\n",
              "      <td>2</td>\n",
              "      <td>0</td>\n",
              "      <td>37.00</td>\n",
              "      <td>Appartement</td>\n",
              "      <td>Paris 18ème</td>\n",
              "    </tr>\n",
              "    <tr>\n",
              "      <th>4</th>\n",
              "      <td>petite</td>\n",
              "      <td>1</td>\n",
              "      <td>gamme haute</td>\n",
              "      <td>SL</td>\n",
              "      <td>1</td>\n",
              "      <td>1</td>\n",
              "      <td>5</td>\n",
              "      <td>2</td>\n",
              "      <td>0</td>\n",
              "      <td>14.93</td>\n",
              "      <td>Appartement</td>\n",
              "      <td>Paris 16ème</td>\n",
              "    </tr>\n",
              "    <tr>\n",
              "      <th>5</th>\n",
              "      <td>très petite</td>\n",
              "      <td>1</td>\n",
              "      <td>autre</td>\n",
              "      <td>SL</td>\n",
              "      <td>1</td>\n",
              "      <td>1</td>\n",
              "      <td>5</td>\n",
              "      <td>2</td>\n",
              "      <td>0</td>\n",
              "      <td>38.65</td>\n",
              "      <td>Appartement</td>\n",
              "      <td>Banlieue</td>\n",
              "    </tr>\n",
              "    <tr>\n",
              "      <th>6</th>\n",
              "      <td>très petite</td>\n",
              "      <td>1</td>\n",
              "      <td>gamme haute</td>\n",
              "      <td>SL</td>\n",
              "      <td>1</td>\n",
              "      <td>1</td>\n",
              "      <td>12</td>\n",
              "      <td>2</td>\n",
              "      <td>1</td>\n",
              "      <td>41.57</td>\n",
              "      <td>Appartement</td>\n",
              "      <td>Banlieue</td>\n",
              "    </tr>\n",
              "  </tbody>\n",
              "</table>\n",
              "</div>\n",
              "      <button class=\"colab-df-convert\" onclick=\"convertToInteractive('df-b8ede7bf-db59-42a3-bcba-6212f380993e')\"\n",
              "              title=\"Convert this dataframe to an interactive table.\"\n",
              "              style=\"display:none;\">\n",
              "        \n",
              "  <svg xmlns=\"http://www.w3.org/2000/svg\" height=\"24px\"viewBox=\"0 0 24 24\"\n",
              "       width=\"24px\">\n",
              "    <path d=\"M0 0h24v24H0V0z\" fill=\"none\"/>\n",
              "    <path d=\"M18.56 5.44l.94 2.06.94-2.06 2.06-.94-2.06-.94-.94-2.06-.94 2.06-2.06.94zm-11 1L8.5 8.5l.94-2.06 2.06-.94-2.06-.94L8.5 2.5l-.94 2.06-2.06.94zm10 10l.94 2.06.94-2.06 2.06-.94-2.06-.94-.94-2.06-.94 2.06-2.06.94z\"/><path d=\"M17.41 7.96l-1.37-1.37c-.4-.4-.92-.59-1.43-.59-.52 0-1.04.2-1.43.59L10.3 9.45l-7.72 7.72c-.78.78-.78 2.05 0 2.83L4 21.41c.39.39.9.59 1.41.59.51 0 1.02-.2 1.41-.59l7.78-7.78 2.81-2.81c.8-.78.8-2.07 0-2.86zM5.41 20L4 18.59l7.72-7.72 1.47 1.35L5.41 20z\"/>\n",
              "  </svg>\n",
              "      </button>\n",
              "      \n",
              "  <style>\n",
              "    .colab-df-container {\n",
              "      display:flex;\n",
              "      flex-wrap:wrap;\n",
              "      gap: 12px;\n",
              "    }\n",
              "\n",
              "    .colab-df-convert {\n",
              "      background-color: #E8F0FE;\n",
              "      border: none;\n",
              "      border-radius: 50%;\n",
              "      cursor: pointer;\n",
              "      display: none;\n",
              "      fill: #1967D2;\n",
              "      height: 32px;\n",
              "      padding: 0 0 0 0;\n",
              "      width: 32px;\n",
              "    }\n",
              "\n",
              "    .colab-df-convert:hover {\n",
              "      background-color: #E2EBFA;\n",
              "      box-shadow: 0px 1px 2px rgba(60, 64, 67, 0.3), 0px 1px 3px 1px rgba(60, 64, 67, 0.15);\n",
              "      fill: #174EA6;\n",
              "    }\n",
              "\n",
              "    [theme=dark] .colab-df-convert {\n",
              "      background-color: #3B4455;\n",
              "      fill: #D2E3FC;\n",
              "    }\n",
              "\n",
              "    [theme=dark] .colab-df-convert:hover {\n",
              "      background-color: #434B5C;\n",
              "      box-shadow: 0px 1px 3px 1px rgba(0, 0, 0, 0.15);\n",
              "      filter: drop-shadow(0px 1px 2px rgba(0, 0, 0, 0.3));\n",
              "      fill: #FFFFFF;\n",
              "    }\n",
              "  </style>\n",
              "\n",
              "      <script>\n",
              "        const buttonEl =\n",
              "          document.querySelector('#df-b8ede7bf-db59-42a3-bcba-6212f380993e button.colab-df-convert');\n",
              "        buttonEl.style.display =\n",
              "          google.colab.kernel.accessAllowed ? 'block' : 'none';\n",
              "\n",
              "        async function convertToInteractive(key) {\n",
              "          const element = document.querySelector('#df-b8ede7bf-db59-42a3-bcba-6212f380993e');\n",
              "          const dataTable =\n",
              "            await google.colab.kernel.invokeFunction('convertToInteractive',\n",
              "                                                     [key], {});\n",
              "          if (!dataTable) return;\n",
              "\n",
              "          const docLinkHtml = 'Like what you see? Visit the ' +\n",
              "            '<a target=\"_blank\" href=https://colab.research.google.com/notebooks/data_table.ipynb>data table notebook</a>'\n",
              "            + ' to learn more about interactive tables.';\n",
              "          element.innerHTML = '';\n",
              "          dataTable['output_type'] = 'display_data';\n",
              "          await google.colab.output.renderOutput(dataTable, element);\n",
              "          const docLink = document.createElement('div');\n",
              "          docLink.innerHTML = docLinkHtml;\n",
              "          element.appendChild(docLink);\n",
              "        }\n",
              "      </script>\n",
              "    </div>\n",
              "  </div>\n",
              "  "
            ],
            "text/plain": [
              "      idagence  freq_annonce idtypecuisine idtypepublicationsourcecouplage  \\\n",
              "0  très petite             1         autre                              SL   \n",
              "2  très petite             1   gamme haute                              SL   \n",
              "4       petite             1   gamme haute                              SL   \n",
              "5  très petite             1         autre                              SL   \n",
              "6  très petite             1   gamme haute                              SL   \n",
              "\n",
              "   naturebien  nb_chambres  nb_photos  nb_pieces  si_balcon  surface  \\\n",
              "0           1            2         13          3          1    69.00   \n",
              "2           1            1          8          2          0    37.00   \n",
              "4           1            1          5          2          0    14.93   \n",
              "5           1            1          5          2          0    38.65   \n",
              "6           1            1         12          2          1    41.57   \n",
              "\n",
              "    typedebien        ville  \n",
              "0  Appartement  Paris 16ème  \n",
              "2  Appartement  Paris 18ème  \n",
              "4  Appartement  Paris 16ème  \n",
              "5  Appartement     Banlieue  \n",
              "6  Appartement     Banlieue  "
            ]
          },
          "execution_count": 190,
          "metadata": {},
          "output_type": "execute_result"
        }
      ],
      "source": [
        "# On sépare la variable cible y des autres variables.\n",
        "X = df[[col for col in df.columns if col != 'prix']]\n",
        "y = df['prix']\n",
        "\n",
        "X.head()"
      ]
    },
    {
      "cell_type": "code",
      "execution_count": null,
      "metadata": {
        "id": "4vpQXqtg3qaI"
      },
      "outputs": [],
      "source": [
        "# On utilise une fonction pour normaliser les variables quantitatives et pour faire du One Hot Enconding\n",
        "# Avec les variables qualitatives \n",
        "\n",
        "continuous_index_cols = X.columns.get_indexer(numerical)\n",
        "categorical_index_cols = X.columns.get_indexer(categorical)\n",
        "\n",
        "ct = ColumnTransformer(\n",
        "    [\n",
        "        (\"OneHotEncoder\", OneHotEncoder(drop = 'first', handle_unknown = 'ignore'), categorical_index_cols),\n",
        "        (\"Scaler\", StandardScaler(), continuous_index_cols)\n",
        "    ])"
      ]
    },
    {
      "cell_type": "code",
      "execution_count": null,
      "metadata": {
        "id": "4JrB_FPx3qaI"
      },
      "outputs": [],
      "source": [
        "from sklearn.model_selection import train_test_split \n",
        "\n",
        "\n",
        "X_train, X_test, y_train, y_test = train_test_split(\n",
        "    X, y, test_size=0.2, random_state=42)"
      ]
    },
    {
      "cell_type": "code",
      "execution_count": null,
      "metadata": {
        "id": "rVXndsFj3qaJ"
      },
      "outputs": [],
      "source": [
        "# On récupère les propriétés des données d'entrainement (on 'fit') et on transforme les données de test de la même manière\n",
        "X_train = ct.fit_transform(X_train)\n",
        "X_test = ct.transform(X_test)"
      ]
    },
    {
      "cell_type": "code",
      "execution_count": null,
      "metadata": {
        "id": "WBTqTH7y3qaJ"
      },
      "outputs": [],
      "source": [
        "from sklearn.linear_model import LinearRegression\n",
        "\n",
        "lr = LinearRegression()\n",
        "\n",
        "# La régression linéaire apprend sur les données d'entrainement\n",
        "lr.fit(X_train, y_train)\n",
        "\n",
        "# On prédit alors sur les données de test\n",
        "y_pred = lr.predict(X_test)"
      ]
    },
    {
      "cell_type": "code",
      "execution_count": null,
      "metadata": {
        "colab": {
          "base_uri": "https://localhost:8080/"
        },
        "id": "Y03pHsur3qaJ",
        "outputId": "cd061518-8183-491d-e80c-e293ed3908ba"
      },
      "outputs": [
        {
          "name": "stdout",
          "output_type": "stream",
          "text": [
            "coefficient de determination : 0.8220014421154042\n",
            "erreur moyenne quadratique : 164653.02443029478\n",
            "correlation : 0.8989493589381544\n"
          ]
        }
      ],
      "source": [
        "from sklearn.metrics import mean_squared_error\n",
        "\n",
        "# Les resultats\n",
        "\n",
        "# calcul du coefficient de determination\n",
        "r2 = lr.score(X_train, y_train)\n",
        "# calcul de l'erreur moyenne quadratique\n",
        "rmse = mean_squared_error(y_test, y_pred, squared = False)\n",
        "# calcul de la correlation\n",
        "corr = np.corrcoef(y_test, y_pred)[0,1]\n",
        "\n",
        "print('coefficient de determination :', r2)\n",
        "print('erreur moyenne quadratique :', rmse)\n",
        "print('correlation :', corr)"
      ]
    },
    {
      "cell_type": "code",
      "execution_count": null,
      "metadata": {
        "colab": {
          "base_uri": "https://localhost:8080/"
        },
        "id": "VzgCqhY83qaJ",
        "outputId": "1a8b61ba-5c2c-40e3-9f9f-3ac57ddd8f31"
      },
      "outputs": [
        {
          "data": {
            "image/png": "[encoded data removed]",
            "text/plain": [
              "<Figure size 1080x360 with 2 Axes>"
            ]
          },
          "metadata": {
            "needs_background": "light"
          },
          "output_type": "display_data"
        }
      ],
      "source": [
        "fig, ax = plt.subplots(1, 2, figsize=(15,5))\n",
        "df = pd.DataFrame({'Réel':y_test, 'Prédictions' : y_pred})\n",
        "df.plot.hist(ax = ax[0], bins = 20, rwidth=0.9, alpha = 0.5, title = 'Distributions des valeurs réelles de la variable cible et des predictions')\n",
        "sns.histplot( np.abs(y_pred - y_test), ax = ax[1])\n",
        "ax[1].set_title('Distribution des écarts')\n",
        "plt.show()"
      ]
    },
    {
      "cell_type": "code",
      "execution_count": null,
      "metadata": {
        "id": "n7SZ0H71As7v"
      },
      "outputs": [],
      "source": []
    }
  ],
  "metadata": {
    "colab": {
      "provenance": []
    },
    "kernelspec": {
      "display_name": "Python 3.8.5 ('base')",
      "language": "python",
      "name": "python3"
    },
    "language_info": {
      "codemirror_mode": {
        "name": "ipython",
        "version": 3
      },
      "file_extension": ".py",
      "mimetype": "text/x-python",
      "name": "python",
      "nbconvert_exporter": "python",
      "pygments_lexer": "ipython3",
      "version": "3.8.5"
    },
    "orig_nbformat": 4,
    "vscode": {
      "interpreter": {
        "hash": "8fc18eb72a3eaeec3db897adacb3186856b03b84b4a3ec23e8fdb6cc72218a5c"
      }
    }
  },
  "nbformat": 4,
  "nbformat_minor": 0
}
